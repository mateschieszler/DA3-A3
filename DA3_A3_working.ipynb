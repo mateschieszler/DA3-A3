{
 "cells": [
  {
   "cell_type": "markdown",
   "metadata": {},
   "source": [
    "# ***Assignment 3 for DA3***"
   ]
  },
  {
   "cell_type": "markdown",
   "metadata": {},
   "source": [
    "### 0. Import Libraries"
   ]
  },
  {
   "cell_type": "code",
   "execution_count": 147,
   "metadata": {},
   "outputs": [],
   "source": [
    "import pandas as pd\n",
    "import datetime\n",
    "import numpy as np\n",
    "import seaborn as sns\n",
    "import matplotlib.pyplot as plt\n",
    "from plotnine import *\n",
    "import warnings\n",
    "import os\n",
    "import pandas as pd\n",
    "import numpy as np\n",
    "import sys\n",
    "import patsy\n",
    "import statsmodels.api as sm\n",
    "from sklearn.linear_model import LinearRegression, LogisticRegression, LogisticRegressionCV\n",
    "from sklearn.model_selection import train_test_split, GridSearchCV, KFold\n",
    "import sklearn.metrics as metrics\n",
    "from sklearn.metrics import brier_score_loss, roc_curve, auc, confusion_matrix, roc_auc_score, mean_squared_error\n",
    "from sklearn.ensemble import RandomForestClassifier\n",
    "from plotnine import *\n",
    "import seaborn as sns\n",
    "import matplotlib.pyplot as plt\n",
    "from sklearn.model_selection import train_test_split\n",
    "from sklearn.preprocessing import StandardScaler\n",
    "\n",
    "import warnings\n",
    "warnings.filterwarnings('ignore')\n",
    "\n",
    "\n",
    "from py_helper_functions import *"
   ]
  },
  {
   "cell_type": "code",
   "execution_count": 148,
   "metadata": {},
   "outputs": [],
   "source": [
    "# Import more helper functions\n",
    "def regression_results(y_true, y_pred):\n",
    "\n",
    "    # Regression metrics\n",
    "    explained_variance=metrics.explained_variance_score(y_true, y_pred)\n",
    "    mean_absolute_error=metrics.mean_absolute_error(y_true, y_pred) \n",
    "    mse=metrics.mean_squared_error(y_true, y_pred) \n",
    "    median_absolute_error=metrics.median_absolute_error(y_true, y_pred)\n",
    "    r2=metrics.r2_score(y_true, y_pred)\n",
    "\n",
    "    print('explained_variance: ', round(explained_variance,4))    \n",
    "    print('r2: ', round(r2,4))\n",
    "    print('MAE: ', round(mean_absolute_error,4))\n",
    "    print('MSE: ', round(mse,4))\n",
    "    print('RMSE: ', round(np.sqrt(mse),4))\n",
    "    \n",
    "def create_coef_matrix(X, model):\n",
    "    coef_matrix = pd.concat(\n",
    "        [pd.DataFrame(X.columns),pd.DataFrame(model.coef_.flatten())], axis = 1\n",
    "    )\n",
    "    coef_matrix.columns = ['variable', 'coefficient']\n",
    "    coef_matrix.iloc[-1] = ['Intercept', model.intercept_.flatten()[0]]\n",
    "    return coef_matrix\n",
    "\n",
    "def cv_summary(lambdas, C_values, model):\n",
    "    d = {'lambdas': lambdas, 'C_values': C_values, 'mean_cv_score': model.scores_[1].mean(axis = 0)}\n",
    "    return(pd.DataFrame(data=d))\n",
    "\n",
    "def create_roc_plot(y_true, y_pred):\n",
    "    fpr, tpr, thresholds = roc_curve(y_true, y_pred)\n",
    "    all_coords = pd.DataFrame({\n",
    "        'fpr': fpr,\n",
    "        'tpr': tpr,\n",
    "        'thresholds': thresholds\n",
    "    })\n",
    "    \n",
    "    plot = ggplot(all_coords, aes(x = 'fpr', y = 'tpr')) \\\n",
    "        + geom_line(color=color[0], size = 0.7) \\\n",
    "        + geom_area(position = 'identity', fill = 'mediumaquamarine', alpha = 0.3) \\\n",
    "        + xlab(\"False Positive Rate (1-Specifity)\") \\\n",
    "        + ylab(\"True Positive Rate (Sensitivity)\") \\\n",
    "        + geom_abline(intercept = 0, slope = 1,  linetype = \"dotted\", color = \"black\") \\\n",
    "        + scale_y_continuous(limits = (0, 1), breaks = seq(0, 1, .1), expand = (0, 0.01)) \\\n",
    "        + scale_x_continuous(limits = (0, 1), breaks = seq(0, 1, .1), expand = (0.01, 0)) \\\n",
    "        + theme_bw()\n",
    "    return(plot)\n",
    "\n",
    "def sigmoid_array(x):\n",
    "    return(1 / (1 + np.exp(-x)))\n",
    "\n",
    "def generate_fold_prediction(model, X, fold, param_index):\n",
    "    fold_coef = model.coefs_paths_[1][fold,param_index,:]\n",
    "    return(sigmoid_array(np.dot(X, np.transpose(fold_coef)[:-1]) +  np.transpose(fold_coef)[-1]))\n",
    "\n",
    "def create_loss_plot(all_coords, optimal_threshold, curr_exp_loss):\n",
    "    all_coords_copy = all_coords.copy()\n",
    "    all_coords_copy['loss'] = (all_coords_copy.false_pos*FP + all_coords_copy.false_neg*FN)/all_coords_copy.n\n",
    "    \n",
    "    t = optimal_threshold\n",
    "    l = curr_exp_loss\n",
    "    \n",
    "    plot = ggplot(all_coords_copy, aes(x = 'thresholds', y = 'loss')) + \\\n",
    "        geom_line(color=color[0], size=0.7) + \\\n",
    "        scale_x_continuous(breaks = seq(0, 1.1, by = 0.1)) + \\\n",
    "        coord_cartesian(xlim=(0,1))+ \\\n",
    "        geom_vline(xintercept = t , color = color[0] ) + \\\n",
    "        annotate(geom = \"text\", x = t - 0.01, y= max(all_coords_copy.loss) - 0.4,\n",
    "                 label=\"best threshold: \" + str(round(t,2)),\n",
    "                 colour=color[1], angle=90, size = 7) +\\\n",
    "        annotate(geom = \"text\", x = t + 0.06, y= l,\\\n",
    "                 label= str(round(l, 2)), size = 7) +\\\n",
    "        theme_bw()\n",
    "    return(plot)\n",
    "\n",
    "\n",
    "def create_roc_plot_with_optimal(all_coords, optimal_threshold):\n",
    "    all_coords_copy = all_coords.copy()\n",
    "    all_coords_copy['sp'] = all_coords_copy.true_neg/all_coords_copy.neg\n",
    "    all_coords_copy['se'] = all_coords_copy.true_pos/all_coords_copy.pos\n",
    "    \n",
    "    best_coords = all_coords_copy[all_coords_copy.thresholds == optimal_threshold]\n",
    "    sp = best_coords.sp.values[0]\n",
    "    se = best_coords.se.values[0]\n",
    "\n",
    "    plot = ggplot(all_coords_copy, aes(x = 'sp', y = 'se')) +\\\n",
    "        geom_line(color=color[0], size=0.7) +\\\n",
    "        scale_y_continuous(breaks = seq(0, 1.1, by = 0.1)) +\\\n",
    "        scale_x_reverse(breaks = seq(0, 1.1, by = 0.1)) +\\\n",
    "        geom_point(data = pd.DataFrame({'sp': [sp], 'se': [se]})) +\\\n",
    "        annotate(geom = \"text\", x = sp, y = se + 0.03,\n",
    "                 label = str(round(sp, 2)) + ', ' + str(round(se, 2)), size = 7) +\\\n",
    "        theme_bw()\n",
    "    return(plot)\n"
   ]
  },
  {
   "cell_type": "markdown",
   "metadata": {},
   "source": [
    "## 1.0  ***Import Data***"
   ]
  },
  {
   "cell_type": "code",
   "execution_count": 149,
   "metadata": {},
   "outputs": [],
   "source": [
    "# Read in the data offline\n",
    "data = pd.read_csv('cs_bisnode_panel.csv')\n",
    "# Read in the data online\n",
    "#original_data = pd.read_csv('https://raw.githubusercontent.com/mateschieszler/DA3-A3/main/cs_bisnode_panel.csv')"
   ]
  },
  {
   "cell_type": "code",
   "execution_count": 150,
   "metadata": {},
   "outputs": [
    {
     "data": {
      "text/html": [
       "<div>\n",
       "<style scoped>\n",
       "    .dataframe tbody tr th:only-of-type {\n",
       "        vertical-align: middle;\n",
       "    }\n",
       "\n",
       "    .dataframe tbody tr th {\n",
       "        vertical-align: top;\n",
       "    }\n",
       "\n",
       "    .dataframe thead th {\n",
       "        text-align: right;\n",
       "    }\n",
       "</style>\n",
       "<table border=\"1\" class=\"dataframe\">\n",
       "  <thead>\n",
       "    <tr style=\"text-align: right;\">\n",
       "      <th></th>\n",
       "      <th>comp_id</th>\n",
       "      <th>begin</th>\n",
       "      <th>end</th>\n",
       "      <th>COGS</th>\n",
       "      <th>amort</th>\n",
       "      <th>curr_assets</th>\n",
       "      <th>curr_liab</th>\n",
       "      <th>extra_exp</th>\n",
       "      <th>extra_inc</th>\n",
       "      <th>extra_profit_loss</th>\n",
       "      <th>...</th>\n",
       "      <th>gender</th>\n",
       "      <th>origin</th>\n",
       "      <th>nace_main</th>\n",
       "      <th>ind2</th>\n",
       "      <th>ind</th>\n",
       "      <th>urban_m</th>\n",
       "      <th>region_m</th>\n",
       "      <th>founded_date</th>\n",
       "      <th>exit_date</th>\n",
       "      <th>labor_avg</th>\n",
       "    </tr>\n",
       "  </thead>\n",
       "  <tbody>\n",
       "    <tr>\n",
       "      <th>0</th>\n",
       "      <td>1001034.0</td>\n",
       "      <td>2005-01-01</td>\n",
       "      <td>2005-12-31</td>\n",
       "      <td>NaN</td>\n",
       "      <td>692.592590</td>\n",
       "      <td>7266.666504</td>\n",
       "      <td>7574.074219</td>\n",
       "      <td>0.0</td>\n",
       "      <td>0.0</td>\n",
       "      <td>0.0</td>\n",
       "      <td>...</td>\n",
       "      <td>mix</td>\n",
       "      <td>Domestic</td>\n",
       "      <td>5630.0</td>\n",
       "      <td>56.0</td>\n",
       "      <td>3.0</td>\n",
       "      <td>1</td>\n",
       "      <td>Central</td>\n",
       "      <td>1990-11-19</td>\n",
       "      <td>NaN</td>\n",
       "      <td>NaN</td>\n",
       "    </tr>\n",
       "    <tr>\n",
       "      <th>1</th>\n",
       "      <td>1001034.0</td>\n",
       "      <td>2006-01-01</td>\n",
       "      <td>2006-12-31</td>\n",
       "      <td>NaN</td>\n",
       "      <td>603.703674</td>\n",
       "      <td>13122.222656</td>\n",
       "      <td>12211.111328</td>\n",
       "      <td>0.0</td>\n",
       "      <td>0.0</td>\n",
       "      <td>0.0</td>\n",
       "      <td>...</td>\n",
       "      <td>mix</td>\n",
       "      <td>Domestic</td>\n",
       "      <td>5630.0</td>\n",
       "      <td>56.0</td>\n",
       "      <td>3.0</td>\n",
       "      <td>1</td>\n",
       "      <td>Central</td>\n",
       "      <td>1990-11-19</td>\n",
       "      <td>NaN</td>\n",
       "      <td>NaN</td>\n",
       "    </tr>\n",
       "    <tr>\n",
       "      <th>2</th>\n",
       "      <td>1001034.0</td>\n",
       "      <td>2007-01-01</td>\n",
       "      <td>2007-12-31</td>\n",
       "      <td>NaN</td>\n",
       "      <td>425.925934</td>\n",
       "      <td>8196.295898</td>\n",
       "      <td>7800.000000</td>\n",
       "      <td>0.0</td>\n",
       "      <td>0.0</td>\n",
       "      <td>0.0</td>\n",
       "      <td>...</td>\n",
       "      <td>mix</td>\n",
       "      <td>Domestic</td>\n",
       "      <td>5630.0</td>\n",
       "      <td>56.0</td>\n",
       "      <td>3.0</td>\n",
       "      <td>1</td>\n",
       "      <td>Central</td>\n",
       "      <td>1990-11-19</td>\n",
       "      <td>NaN</td>\n",
       "      <td>NaN</td>\n",
       "    </tr>\n",
       "    <tr>\n",
       "      <th>3</th>\n",
       "      <td>1001034.0</td>\n",
       "      <td>2008-01-01</td>\n",
       "      <td>2008-12-31</td>\n",
       "      <td>NaN</td>\n",
       "      <td>300.000000</td>\n",
       "      <td>8485.185547</td>\n",
       "      <td>7781.481445</td>\n",
       "      <td>0.0</td>\n",
       "      <td>0.0</td>\n",
       "      <td>0.0</td>\n",
       "      <td>...</td>\n",
       "      <td>mix</td>\n",
       "      <td>Domestic</td>\n",
       "      <td>5630.0</td>\n",
       "      <td>56.0</td>\n",
       "      <td>3.0</td>\n",
       "      <td>1</td>\n",
       "      <td>Central</td>\n",
       "      <td>1990-11-19</td>\n",
       "      <td>NaN</td>\n",
       "      <td>NaN</td>\n",
       "    </tr>\n",
       "    <tr>\n",
       "      <th>4</th>\n",
       "      <td>1001034.0</td>\n",
       "      <td>2009-01-01</td>\n",
       "      <td>2009-12-31</td>\n",
       "      <td>NaN</td>\n",
       "      <td>207.407410</td>\n",
       "      <td>5137.037109</td>\n",
       "      <td>15300.000000</td>\n",
       "      <td>0.0</td>\n",
       "      <td>0.0</td>\n",
       "      <td>0.0</td>\n",
       "      <td>...</td>\n",
       "      <td>mix</td>\n",
       "      <td>Domestic</td>\n",
       "      <td>5630.0</td>\n",
       "      <td>56.0</td>\n",
       "      <td>3.0</td>\n",
       "      <td>1</td>\n",
       "      <td>Central</td>\n",
       "      <td>1990-11-19</td>\n",
       "      <td>NaN</td>\n",
       "      <td>0.083333</td>\n",
       "    </tr>\n",
       "  </tbody>\n",
       "</table>\n",
       "<p>5 rows × 48 columns</p>\n",
       "</div>"
      ],
      "text/plain": [
       "     comp_id       begin         end  COGS       amort   curr_assets  \\\n",
       "0  1001034.0  2005-01-01  2005-12-31   NaN  692.592590   7266.666504   \n",
       "1  1001034.0  2006-01-01  2006-12-31   NaN  603.703674  13122.222656   \n",
       "2  1001034.0  2007-01-01  2007-12-31   NaN  425.925934   8196.295898   \n",
       "3  1001034.0  2008-01-01  2008-12-31   NaN  300.000000   8485.185547   \n",
       "4  1001034.0  2009-01-01  2009-12-31   NaN  207.407410   5137.037109   \n",
       "\n",
       "      curr_liab  extra_exp  extra_inc  extra_profit_loss  ...  gender  \\\n",
       "0   7574.074219        0.0        0.0                0.0  ...     mix   \n",
       "1  12211.111328        0.0        0.0                0.0  ...     mix   \n",
       "2   7800.000000        0.0        0.0                0.0  ...     mix   \n",
       "3   7781.481445        0.0        0.0                0.0  ...     mix   \n",
       "4  15300.000000        0.0        0.0                0.0  ...     mix   \n",
       "\n",
       "     origin  nace_main  ind2  ind  urban_m  region_m  founded_date  exit_date  \\\n",
       "0  Domestic     5630.0  56.0  3.0        1   Central    1990-11-19        NaN   \n",
       "1  Domestic     5630.0  56.0  3.0        1   Central    1990-11-19        NaN   \n",
       "2  Domestic     5630.0  56.0  3.0        1   Central    1990-11-19        NaN   \n",
       "3  Domestic     5630.0  56.0  3.0        1   Central    1990-11-19        NaN   \n",
       "4  Domestic     5630.0  56.0  3.0        1   Central    1990-11-19        NaN   \n",
       "\n",
       "   labor_avg  \n",
       "0        NaN  \n",
       "1        NaN  \n",
       "2        NaN  \n",
       "3        NaN  \n",
       "4   0.083333  \n",
       "\n",
       "[5 rows x 48 columns]"
      ]
     },
     "execution_count": 150,
     "metadata": {},
     "output_type": "execute_result"
    }
   ],
   "source": [
    "data.head()"
   ]
  },
  {
   "cell_type": "markdown",
   "metadata": {},
   "source": [
    "### 1.1 Data Preparation"
   ]
  },
  {
   "cell_type": "code",
   "execution_count": 151,
   "metadata": {},
   "outputs": [],
   "source": [
    "# add all missing year and comp_id combinations -\n",
    "# originally missing combinations will have NAs in all other columns\n",
    "data = (data.set_index([\"year\", \"comp_id\"]).unstack(fill_value=\"toReplace\").stack().reset_index())\n",
    "data = data.replace(\"toReplace\", np.nan)  # only way I could define it as NaN\n",
    "\n",
    "# generate status_alive; if sales larger than zero and not-NA, then firm is alive\n",
    "data[\"status_alive\"] = (data[\"sales\"] > 0 & (False == data[\"sales\"].isna())).astype(int)\n",
    "\n",
    "# defaults in one year if there are sales in this year but no sales the next year\n",
    "# Status_in_a_year: data.groupby('comp_id')['status_alive'].shift(-1)\n",
    "data[\"default\"] = ((data[\"status_alive\"] == 1) & \n",
    "                    (data.groupby(\"comp_id\")[\"status_alive\"].shift(-1) == 0)).astype(int)"
   ]
  },
  {
   "cell_type": "code",
   "execution_count": 152,
   "metadata": {},
   "outputs": [],
   "source": [
    "# filter for status alive = 1\n",
    "data = data.loc[(data[\"status_alive\"] == 1) & \n",
    "               #(data[\"year\"].isin([2013,2014])) &\n",
    "                (data['year'] <= 2014) &\n",
    "                (data[\"ind2\"] == 26) & \n",
    "                #(data[\"sales\"] >= 1000) &\n",
    "                (data[\"sales\"] <= 10000000)]"
   ]
  },
  {
   "cell_type": "markdown",
   "metadata": {},
   "source": [
    "### 1.2 Label Engineering"
   ]
  },
  {
   "cell_type": "code",
   "execution_count": 153,
   "metadata": {},
   "outputs": [],
   "source": [
    "# Replacimg negative sales values with 1. This operation is done outside of \n",
    "# ...the `assign` method because it's a direct modification of the dataframe.\n",
    "data[\"sales\"] = np.where(\n",
    "    data[\"sales\"] < 0, 1, data[\"sales\"]\n",
    ")\n",
    "\n",
    "# Adding new columns to the dataframe through the `assign` method.\n",
    "data = data.assign(\n",
    "    # Create a new column 'ln_sales'. If sales are greater than 0, calculate the natural logarithm of sales.\n",
    "    # If sales are NaN, keep them as NaN. Otherwise, set to 0. This ensures that negative sales, \n",
    "    # ...if any existed before the first operation, now converted to 1, won't result in a math error.\n",
    "    ln_sales=np.where(\n",
    "        data[\"sales\"] > 0,\n",
    "        np.log(data[\"sales\"]),\n",
    "        (np.where(data[\"sales\"].isna(), np.nan, 0)),\n",
    "    ),\n",
    "    # Convert sales to millions by dividing by 1,000,000 for easier readability and analysis.\n",
    "    sales_mil=data[\"sales\"] / 1000000,\n",
    "    # Similar to 'ln_sales', but this time applying the logarithm to the sales converted to millions. \n",
    "    # ...Handles NaN and non-positive values similarly.\n",
    "    sales_mil_log=np.where(\n",
    "        data[\"sales\"] > 0,\n",
    "        np.log(data[\"sales\"] / 1000000),\n",
    "        (np.where(data[\"sales\"].isna(), np.nan, 0)),\n",
    "    ),\n",
    ")\n",
    "\n",
    "# Calculating the year-over-year change in the logarithm of sales (in millions) by subtracting \n",
    "# ...the previous year's value from the current year's value for each company.\n",
    "data['d1_sales_mil_log']=data['sales_mil_log']-data.groupby('comp_id')['sales_mil_log'].shift(1)\n",
    "\n",
    "\n",
    "# Calculating the age of each company by subtracting the founding year from the current year. \n",
    "# ...If the result is negative (which might happen due to data errors), set the age to 0.\n",
    "data[\"age\"] = np.where(\n",
    "    data[\"year\"] - data[\"founded_year\"] < 0, 0, data[\"year\"] - data[\"founded_year\"]\n",
    ")\n",
    "\n",
    "# Identifying new companies or those without a full year of balance sheet data. \n",
    "# ...Mark them with a 1, others with a 0. If 'age' is NaN, keep it as NaN.\n",
    "data[\"new\"] = np.where(\n",
    "    ((data[\"age\"] <= 1) | (data[\"balsheet_notfullyear\"] == 1)),\n",
    "    1,\n",
    "    (np.where(data[\"age\"].isna(), np.nan, 0)),\n",
    ")\n",
    "\n",
    "# For new companies, set the year-over-year change in log sales to 0. \n",
    "# ...This adjustment is for handling new entries or missing data appropriately.\n",
    "data[\"d1_sales_mil_log\"] = np.where(\n",
    "    data[\"new\"] == 1, 0, np.where(data[\"new\"].isna(), np.nan, data[\"d1_sales_mil_log\"])\n",
    ")\n",
    "\n",
    "# If the year-over-year change in log sales is NaN, consider the company \n",
    "# ...as new and update the 'new' column accordingly.\n",
    "data[\"new\"] = np.where(data[\"d1_sales_mil_log\"].isna(), 1, data[\"new\"])\n",
    "\n",
    "# Replacing NaN values in 'd1_sales_mil_log' with 0, ensuring the dataset \n",
    "# ...does not have missing values in this calculation.\n",
    "data[\"d1_sales_mil_log\"] = np.where(\n",
    "    data[\"d1_sales_mil_log\"].isna(), 0, data[\"d1_sales_mil_log\"]\n",
    ")"
   ]
  },
  {
   "cell_type": "code",
   "execution_count": 154,
   "metadata": {},
   "outputs": [
    {
     "data": {
      "text/plain": [
       "flag_asset_problem\n",
       "0.0    11082\n",
       "1.0        7\n",
       "Name: comp_id, dtype: int64"
      ]
     },
     "execution_count": 154,
     "metadata": {},
     "output_type": "execute_result"
    }
   ],
   "source": [
    "# Adding more variables as firm characteristics\n",
    "data[\"age2\"] = data[\"age\"] ** 2\n",
    "\n",
    "# Grouping values for foreign_management as dummies \n",
    "data[\"foreign_management\"] = np.where(\n",
    "    data[\"foreign\"] >= 0.5, 1, np.where(data[\"foreign\"].isna(), np.nan, 0)\n",
    ")\n",
    "\n",
    "# Creating new columns for the categorical gender and and region variables\n",
    "data[\"gender_m\"] = data[\"gender\"].astype(\"category\")\n",
    "data[\"m_region_loc\"] = data[\"region_m\"].astype(\"category\")\n",
    "\n",
    "###########################################################\n",
    "# look at more financial variables, create ratios\n",
    "###########################################################\n",
    "\n",
    "# assets can't be negative. Change them to 0 and add a flag.\n",
    "data[\"flag_asset_problem\"] = np.where(\n",
    "    (\n",
    "        (data[\"intang_assets\"] < 0)\n",
    "        | (data[\"curr_assets\"] < 0)\n",
    "        | (data[\"fixed_assets\"] < 0)\n",
    "    ),\n",
    "    1,\n",
    "    0,\n",
    ")\n",
    "data[\"flag_asset_problem\"] = np.where(\n",
    "    (\n",
    "        (data[\"intang_assets\"].isna())\n",
    "        | (data[\"curr_assets\"].isna())\n",
    "        | (data[\"fixed_assets\"].isna())\n",
    "    ),\n",
    "    np.nan,\n",
    "    data[\"flag_asset_problem\"],\n",
    ")\n",
    "data.groupby(\"flag_asset_problem\").count()[\"comp_id\"]"
   ]
  },
  {
   "cell_type": "code",
   "execution_count": 155,
   "metadata": {},
   "outputs": [],
   "source": [
    "# generate different sales variables\n",
    "# sales log squared\n",
    "data[\"sales_mil_log_sq\"] = data[\"sales_mil_log\"] ** 2\n",
    "\n",
    "data[\"flag_low_d1_sales_mil_log\"] = np.where(data[\"d1_sales_mil_log\"] < -1.5, 1, 0)\n",
    "data[\"flag_high_d1_sales_mil_log\"] = np.where(data[\"d1_sales_mil_log\"] > 1.5, 1, 0)\n",
    "data[\"d1_sales_mil_log_mod\"] = np.where(\n",
    "    data[\"d1_sales_mil_log\"] < -1.5,\n",
    "    -1.5,\n",
    "    np.where(data[\"d1_sales_mil_log\"] > 1.5, 1.5, data[\"d1_sales_mil_log\"]),\n",
    ")\n",
    "data[\"d1_sales_mil_log_mod_sq\"] = data[\"d1_sales_mil_log_mod\"] ** 2\n"
   ]
  },
  {
   "cell_type": "code",
   "execution_count": 156,
   "metadata": {},
   "outputs": [],
   "source": [
    "# Calculating the CEO's age\n",
    "data[\"ceo_age\"] = data[\"year\"] - data[\"birth_year\"]\n",
    "data = data.assign(\n",
    "    flag_low_ceo_age=(data[\"ceo_age\"] < 25).astype(int),\n",
    "    flag_high_ceo_age=(data[\"ceo_age\"] > 75).astype(int),\n",
    "    flag_miss_ceo_age=(data[\"ceo_age\"].isna()).astype(int),\n",
    ")\n",
    "\n",
    "# Capping and imputing the missing values for CEO age\n",
    "data[\"ceo_age\"] = np.where(data[\"ceo_age\"] < 25, 25, data[\"ceo_age\"])\n",
    "data[\"ceo_age\"] = np.where(data[\"ceo_age\"] > 75, 75, data[\"ceo_age\"])\n",
    "data[\"ceo_age\"] = np.where(\n",
    "    data[\"ceo_age\"].isna(), data[\"ceo_age\"].mean(), data[\"ceo_age\"]\n",
    ")\n",
    "\n",
    "# Creating a new binary column for young CEOs\n",
    "data[\"ceo_young\"] = (data[\"ceo_age\"] < 40).astype(int)\n"
   ]
  },
  {
   "cell_type": "code",
   "execution_count": 157,
   "metadata": {},
   "outputs": [],
   "source": [
    "# Creating category type variables\n",
    "data[\"urban_m\"] = data[\"urban_m\"].astype(\"category\")\n",
    "data[\"default_f\"] = data[\"default\"].astype(\"category\")\n",
    "data[\"default_f\"] = data[\"default_f\"].cat.rename_categories([\"no_default\", \"default\"])\n",
    "data['year'] = data['year'].astype('category')"
   ]
  },
  {
   "cell_type": "code",
   "execution_count": 158,
   "metadata": {},
   "outputs": [],
   "source": [
    "# Tranforming the negative asset variables to 0\n",
    "data[\"intang_assets\"] = np.where(data[\"intang_assets\"] < 0, 0, data[\"intang_assets\"])\n",
    "data[\"curr_assets\"] = np.where(data[\"curr_assets\"] < 0, 0, data[\"curr_assets\"])\n",
    "data[\"fixed_assets\"] = np.where(data[\"fixed_assets\"] < 0, 0, data[\"fixed_assets\"])\n",
    "\n",
    "# Generating the total assets balance sheet variable by adding up the intangible, current and fixed assets\n",
    "data[\"total_assets_bs\"] = (\n",
    "    data[\"intang_assets\"] + data[\"curr_assets\"] + data[\"fixed_assets\"]\n",
    ")"
   ]
  },
  {
   "cell_type": "code",
   "execution_count": 159,
   "metadata": {},
   "outputs": [],
   "source": [
    "# number emp, very noisy measure\n",
    "data[\"labor_avg_mod\"] = np.where(\n",
    "    data[\"labor_avg\"].isna(), data[\"labor_avg\"].mean(), data[\"labor_avg\"]\n",
    ")\n",
    "data[\"flag_miss_labor_avg\"] = (data[\"labor_avg\"].isna()).astype(int)"
   ]
  },
  {
   "cell_type": "code",
   "execution_count": 160,
   "metadata": {},
   "outputs": [],
   "source": [
    "# Creating More Ratios\n",
    "# Collecting the profit and loss names\n",
    "pl_names = ['extra_exp',\n",
    "            'extra_inc',\n",
    "            'extra_profit_loss',\n",
    "            'inc_bef_tax',\n",
    "            'inventories',\n",
    "            'material_exp',\n",
    "            'profit_loss_year',\n",
    "            'personnel_exp']\n",
    "\n",
    "# Collecting the balance sheet names\n",
    "bs_names = ['intang_assets',\n",
    "            'curr_liab',\n",
    "            'fixed_assets',\n",
    "            'liq_assets',\n",
    "            'curr_assets',\n",
    "            'share_eq',\n",
    "            'subscribed_cap',\n",
    "            'tang_assets' ]\n",
    "\n",
    "# Scaling the the pl_names elements by dividing them with sales and creating a new column for them\n",
    "data[[col + \"_pl\" for col in pl_names]] = data[pl_names].div(\n",
    "    data[\"sales\"], axis=\"index\"\n",
    ")\n",
    "\n",
    "# Creating new columns for bs_names by dividing each specified column by total_assets_bs\n",
    "# Creating new columns for bs_names by dividing each specified column by total_assets_bs\n",
    "for col in bs_names:\n",
    "    # Assuming bs_names does not already include \"_bs\"\n",
    "    new_col_name = f\"{col}_bs\" \n",
    "    # Directly assigning the result of division, handling NaN in total_assets_bs inline\n",
    "    data[new_col_name] = np.where(\n",
    "        data[\"total_assets_bs\"].isna(), \n",
    "        # If total_assets_bs is NaN, assign NaNŰ\n",
    "        np.nan, \n",
    "        # Handling division by zero by replacing NaN values resulting from division by zero with 0\n",
    "        # ... and replacing Infinite values with 0\n",
    "        data[col].div(data[\"total_assets_bs\"], fill_value=0).replace((np.inf, -np.inf), 0)\n",
    "    )"
   ]
  },
  {
   "cell_type": "markdown",
   "metadata": {},
   "source": [
    "### 1.3 Creating Flags, Imputation and Winsorizing"
   ]
  },
  {
   "cell_type": "code",
   "execution_count": 161,
   "metadata": {},
   "outputs": [],
   "source": [
    "########################################################################\n",
    "# creating flags, and winsorizing tails\n",
    "########################################################################\n",
    "\n",
    "# Variables that represent accounting items that cannot be negative (e.g. materials)\n",
    "zero = [\n",
    "    \"extra_exp_pl\",\n",
    "    \"extra_inc_pl\",\n",
    "    \"inventories_pl\",\n",
    "    \"material_exp_pl\",\n",
    "    \"personnel_exp_pl\",\n",
    "    \"curr_liab_bs\",\n",
    "    \"fixed_assets_bs\",\n",
    "    \"liq_assets_bs\",\n",
    "    \"curr_assets_bs\",\n",
    "    \"subscribed_cap_bs\",\n",
    "    \"intang_assets_bs\",\n",
    "]\n",
    "\n",
    "data[[col + \"_flag_high\" for col in zero]] = np.where(\n",
    "    data[zero].isna(), np.nan, (data[zero] > 1).astype(int)\n",
    ")\n",
    "data[[col for col in zero]] = np.where(\n",
    "    data[zero].isna(), np.nan, np.where(data[zero] > 1, 1, data[zero])\n",
    ")\n",
    "data[[col + \"_flag_error\" for col in zero]] = np.where(\n",
    "    data[zero].isna(), np.nan, (data[zero] < 0).astype(int)\n",
    ")\n",
    "data[[col for col in zero]] = np.where(\n",
    "    data[zero].isna(), np.nan, np.where(data[zero] < 0, 0, data[zero])\n",
    ")"
   ]
  },
  {
   "cell_type": "code",
   "execution_count": 162,
   "metadata": {},
   "outputs": [],
   "source": [
    "# for vars that could be any, but are mostly between -1 and 1\n",
    "anyof = [\"extra_profit_loss_pl\", \"inc_bef_tax_pl\", \"profit_loss_year_pl\", \"share_eq_bs\"]\n",
    "\n",
    "data[[col + \"_flag_low\" for col in anyof]] = np.where(\n",
    "    data[anyof].isna(), np.nan, (data[anyof] < -1).astype(int)\n",
    ")\n",
    "data[[col for col in anyof]] = np.where(\n",
    "    data[anyof].isna(), np.nan, np.where((data[anyof] < -1), -1, data[anyof])\n",
    ")\n",
    "data[[col + \"_flag_high\" for col in anyof]] = np.where(\n",
    "    data[anyof].isna(), np.nan, (data[anyof] > 1).astype(int)\n",
    ")\n",
    "data[[col for col in anyof]] = np.where(\n",
    "    data[anyof].isna(), np.nan, np.where((data[anyof] > 1), 1, data[anyof])\n",
    ")\n",
    "data[[col + \"_flag_zero\" for col in anyof]] = np.where(\n",
    "    data[anyof].isna(), np.nan, (data[anyof] == 0).astype(int)\n",
    ")\n",
    "data[[col + \"_quad\" for col in anyof]] = np.where(\n",
    "    data[anyof].isna(), np.nan, data[anyof] ** 2\n",
    ")"
   ]
  },
  {
   "cell_type": "code",
   "execution_count": 163,
   "metadata": {},
   "outputs": [],
   "source": [
    "# Calculating the year-over-year changes\n",
    "\n",
    "variables_to_difference = ['inventories_pl', 'personnel_exp_pl', 'material_exp_pl', \n",
    "                            'total_assets_bs', 'intang_assets_bs', 'inc_bef_tax_pl', 'extra_inc_pl']\n",
    "\n",
    "# Loop through each variable and create the corresponding d1 variable\n",
    "for var in variables_to_difference:\n",
    "    # Calculate the year-over-year change by subtracting the previous year's value\n",
    "    data[f'd1_{var}'] = data[var] - data.groupby('comp_id')[var].shift(1)"
   ]
  },
  {
   "cell_type": "code",
   "execution_count": 164,
   "metadata": {},
   "outputs": [
    {
     "data": {
      "text/plain": [
       "COGS                   9878\n",
       "amort                    28\n",
       "curr_assets               3\n",
       "curr_liab                 3\n",
       "extra_exp                47\n",
       "                       ... \n",
       "d1_material_exp_pl     1662\n",
       "d1_total_assets_bs     1639\n",
       "d1_intang_assets_bs    1661\n",
       "d1_inc_bef_tax_pl      1635\n",
       "d1_extra_inc_pl        1706\n",
       "Length: 91, dtype: int64"
      ]
     },
     "execution_count": 164,
     "metadata": {},
     "output_type": "execute_result"
    }
   ],
   "source": [
    "to_impute = data.isnull().sum()\n",
    "to_impute = to_impute[to_impute > 0]\n",
    "to_impute"
   ]
  },
  {
   "cell_type": "code",
   "execution_count": 165,
   "metadata": {},
   "outputs": [],
   "source": [
    "# drop columns with over 12000 missing values\n",
    "to_drop = ['D','exit_year','wages','finished_prod','COGS','net_exp_sales','net_dom_sales','exit_date','labor_avg']\n",
    "data = data.drop(to_drop, axis=1)"
   ]
  },
  {
   "cell_type": "code",
   "execution_count": 166,
   "metadata": {},
   "outputs": [],
   "source": [
    "fill_mean = ['amort',\n",
    "            'curr_assets',\n",
    "            'curr_assets_bs',\n",
    "            'personnel_exp',\n",
    "            'personnel_exp_pl',\n",
    "            'material_exp',\n",
    "            'material_exp_pl',\n",
    "            'liq_assets',\n",
    "            'liq_assets_bs',\n",
    "            'inventories',\n",
    "            'intang_assets',\n",
    "            'intang_assets_bs',\n",
    "            'fixed_assets',\n",
    "            'fixed_assets_bs',\n",
    "            'extra_profit_loss',\n",
    "            'extra_inc',\n",
    "            'extra_exp', \n",
    "            'curr_liab',\n",
    "            'curr_liab_bs',\n",
    "            'tang_assets',\n",
    "            'tang_assets_bs',\n",
    "            'profit_loss_year',\n",
    "            'inc_bef_tax',\n",
    "            'share_eq',\n",
    "            'share_eq_bs',\n",
    "            'share_eq_bs_quad',\n",
    "            'subscribed_cap',\n",
    "            'ceo_count',\n",
    "            'inoffice_days',\n",
    "            'age',\n",
    "            'age2',\n",
    "            'extra_exp_pl',\n",
    "            'extra_inc_pl',\n",
    "            'extra_profit_loss_pl',\n",
    "            'inventories_pl',\n",
    "            'profit_loss_year_pl',\n",
    "            'subscribed_cap_bs',\n",
    "            'extra_profit_loss_pl_quad',\n",
    "            'profit_loss_year_pl_quad',\n",
    "            'total_assets_bs',\n",
    "            'd1_inventories_pl',\n",
    "            'd1_personnel_exp_pl',\n",
    "            'd1_material_exp_pl',\n",
    "            'd1_total_assets_bs',\n",
    "            'd1_intang_assets_bs',\n",
    "            'd1_inc_bef_tax_pl',\n",
    "            'd1_extra_inc_pl'\n",
    "            ]\n",
    "\n",
    "fill_mode = ['foreign',\n",
    "            'female',\n",
    "            'gender',\n",
    "            'origin',\n",
    "            'region_m',\n",
    "            'founded_year',\n",
    "            'birth_year',\n",
    "            'foreign_management',\n",
    "            'gender_m',\n",
    "            'm_region_loc',\n",
    "            'material_exp_pl_flag_high',\n",
    "            'personnel_exp_pl_flag_high',\n",
    "            'curr_liab_bs_flag_high',\n",
    "            'fixed_assets_bs_flag_high',\n",
    "            'liq_assets_bs_flag_high',\n",
    "            'curr_assets_bs_flag_high',\n",
    "            'intang_assets_bs_flag_high',\n",
    "            'material_exp_pl_flag_error',\n",
    "            'personnel_exp_pl_flag_error',\n",
    "            'curr_liab_bs_flag_error',\n",
    "            'fixed_assets_bs_flag_error',\n",
    "            'liq_assets_bs_flag_error',\n",
    "            'curr_assets_bs_flag_error',\n",
    "            'intang_assets_bs_flag_error',\n",
    "            'share_eq_bs_flag_low',\n",
    "            'share_eq_bs_flag_high',\n",
    "            'share_eq_bs_flag_zero',\n",
    "            'flag_asset_problem',\n",
    "            'extra_exp_pl_flag_high',\n",
    "            'extra_inc_pl_flag_high',\n",
    "            'inventories_pl_flag_high',\n",
    "            'subscribed_cap_bs_flag_high',\n",
    "            'extra_exp_pl_flag_error',\n",
    "            'extra_inc_pl_flag_error',\n",
    "            'extra_profit_loss_pl_flag_low',\n",
    "            'profit_loss_year_pl_flag_low',\n",
    "            'extra_profit_loss_pl_flag_high',\n",
    "            'profit_loss_year_pl_flag_high',\n",
    "            'extra_profit_loss_pl_flag_zero',\n",
    "            'profit_loss_year_pl_flag_zero',\n",
    "            'inventories_pl_flag_error',\n",
    "            'subscribed_cap_bs_flag_error']\n",
    "\n",
    "# Fill binary variables and categoricals with mode and add flags\n",
    "for var in fill_mode:\n",
    "    data[f'flag_{var}'] = data[var].isna().astype(int)\n",
    "    data[var].fillna(data[var].mode()[0], inplace=True)\n",
    "\n",
    "# Fill numerical variables with mean and add flags\n",
    "for var in fill_mean:\n",
    "    data[f'flag_{var}'] = data[var].isna().astype(int)\n",
    "    data[var].fillna(data[var].mean(),\n",
    "         inplace=True)"
   ]
  },
  {
   "cell_type": "code",
   "execution_count": 167,
   "metadata": {},
   "outputs": [],
   "source": [
    "# dropping flags with no variation\n",
    "flag_columns = [col for col in data.columns if \"flag\" in col]\n",
    "data = data.drop(\n",
    "    data[flag_columns].std()[(data[flag_columns].std() == 0)].index, axis=1\n",
    ")"
   ]
  },
  {
   "cell_type": "code",
   "execution_count": 168,
   "metadata": {},
   "outputs": [
    {
     "data": {
      "text/html": [
       "<div>\n",
       "<style scoped>\n",
       "    .dataframe tbody tr th:only-of-type {\n",
       "        vertical-align: middle;\n",
       "    }\n",
       "\n",
       "    .dataframe tbody tr th {\n",
       "        vertical-align: top;\n",
       "    }\n",
       "\n",
       "    .dataframe thead th {\n",
       "        text-align: right;\n",
       "    }\n",
       "</style>\n",
       "<table border=\"1\" class=\"dataframe\">\n",
       "  <thead>\n",
       "    <tr style=\"text-align: right;\">\n",
       "      <th></th>\n",
       "      <th>balsheet_flag</th>\n",
       "      <th>flag_asset_problem</th>\n",
       "      <th>flag_low_d1_sales_mil_log</th>\n",
       "      <th>flag_high_d1_sales_mil_log</th>\n",
       "      <th>flag_low_ceo_age</th>\n",
       "      <th>flag_high_ceo_age</th>\n",
       "      <th>flag_miss_ceo_age</th>\n",
       "      <th>flag_miss_labor_avg</th>\n",
       "      <th>extra_exp_pl_flag_high</th>\n",
       "      <th>extra_inc_pl_flag_high</th>\n",
       "      <th>...</th>\n",
       "      <th>flag_subscribed_cap_bs</th>\n",
       "      <th>flag_profit_loss_year_pl_quad</th>\n",
       "      <th>flag_total_assets_bs</th>\n",
       "      <th>flag_d1_inventories_pl</th>\n",
       "      <th>flag_d1_personnel_exp_pl</th>\n",
       "      <th>flag_d1_material_exp_pl</th>\n",
       "      <th>flag_d1_total_assets_bs</th>\n",
       "      <th>flag_d1_intang_assets_bs</th>\n",
       "      <th>flag_d1_inc_bef_tax_pl</th>\n",
       "      <th>flag_d1_extra_inc_pl</th>\n",
       "    </tr>\n",
       "  </thead>\n",
       "  <tbody>\n",
       "    <tr>\n",
       "      <th>count</th>\n",
       "      <td>11092.000000</td>\n",
       "      <td>11092.000000</td>\n",
       "      <td>11092.000000</td>\n",
       "      <td>11092.000000</td>\n",
       "      <td>11092.000000</td>\n",
       "      <td>11092.000000</td>\n",
       "      <td>11092.00000</td>\n",
       "      <td>11092.000000</td>\n",
       "      <td>11092.000000</td>\n",
       "      <td>11092.000000</td>\n",
       "      <td>...</td>\n",
       "      <td>11092.000000</td>\n",
       "      <td>11092.000000</td>\n",
       "      <td>11092.000000</td>\n",
       "      <td>11092.000000</td>\n",
       "      <td>11092.000000</td>\n",
       "      <td>11092.000000</td>\n",
       "      <td>11092.000000</td>\n",
       "      <td>11092.000000</td>\n",
       "      <td>11092.000000</td>\n",
       "      <td>11092.000000</td>\n",
       "    </tr>\n",
       "    <tr>\n",
       "      <th>mean</th>\n",
       "      <td>0.008475</td>\n",
       "      <td>0.000631</td>\n",
       "      <td>0.028309</td>\n",
       "      <td>0.018301</td>\n",
       "      <td>0.003696</td>\n",
       "      <td>0.003246</td>\n",
       "      <td>0.36621</td>\n",
       "      <td>0.567256</td>\n",
       "      <td>0.000902</td>\n",
       "      <td>0.004598</td>\n",
       "      <td>...</td>\n",
       "      <td>0.000270</td>\n",
       "      <td>0.000270</td>\n",
       "      <td>0.000270</td>\n",
       "      <td>0.147764</td>\n",
       "      <td>0.149838</td>\n",
       "      <td>0.149838</td>\n",
       "      <td>0.147764</td>\n",
       "      <td>0.149748</td>\n",
       "      <td>0.147404</td>\n",
       "      <td>0.153805</td>\n",
       "    </tr>\n",
       "    <tr>\n",
       "      <th>std</th>\n",
       "      <td>0.091671</td>\n",
       "      <td>0.025115</td>\n",
       "      <td>0.165861</td>\n",
       "      <td>0.134045</td>\n",
       "      <td>0.060688</td>\n",
       "      <td>0.056880</td>\n",
       "      <td>0.48179</td>\n",
       "      <td>0.495478</td>\n",
       "      <td>0.030014</td>\n",
       "      <td>0.067655</td>\n",
       "      <td>...</td>\n",
       "      <td>0.016444</td>\n",
       "      <td>0.016444</td>\n",
       "      <td>0.016444</td>\n",
       "      <td>0.354882</td>\n",
       "      <td>0.356928</td>\n",
       "      <td>0.356928</td>\n",
       "      <td>0.354882</td>\n",
       "      <td>0.356840</td>\n",
       "      <td>0.354524</td>\n",
       "      <td>0.360778</td>\n",
       "    </tr>\n",
       "    <tr>\n",
       "      <th>min</th>\n",
       "      <td>0.000000</td>\n",
       "      <td>0.000000</td>\n",
       "      <td>0.000000</td>\n",
       "      <td>0.000000</td>\n",
       "      <td>0.000000</td>\n",
       "      <td>0.000000</td>\n",
       "      <td>0.00000</td>\n",
       "      <td>0.000000</td>\n",
       "      <td>0.000000</td>\n",
       "      <td>0.000000</td>\n",
       "      <td>...</td>\n",
       "      <td>0.000000</td>\n",
       "      <td>0.000000</td>\n",
       "      <td>0.000000</td>\n",
       "      <td>0.000000</td>\n",
       "      <td>0.000000</td>\n",
       "      <td>0.000000</td>\n",
       "      <td>0.000000</td>\n",
       "      <td>0.000000</td>\n",
       "      <td>0.000000</td>\n",
       "      <td>0.000000</td>\n",
       "    </tr>\n",
       "    <tr>\n",
       "      <th>25%</th>\n",
       "      <td>0.000000</td>\n",
       "      <td>0.000000</td>\n",
       "      <td>0.000000</td>\n",
       "      <td>0.000000</td>\n",
       "      <td>0.000000</td>\n",
       "      <td>0.000000</td>\n",
       "      <td>0.00000</td>\n",
       "      <td>0.000000</td>\n",
       "      <td>0.000000</td>\n",
       "      <td>0.000000</td>\n",
       "      <td>...</td>\n",
       "      <td>0.000000</td>\n",
       "      <td>0.000000</td>\n",
       "      <td>0.000000</td>\n",
       "      <td>0.000000</td>\n",
       "      <td>0.000000</td>\n",
       "      <td>0.000000</td>\n",
       "      <td>0.000000</td>\n",
       "      <td>0.000000</td>\n",
       "      <td>0.000000</td>\n",
       "      <td>0.000000</td>\n",
       "    </tr>\n",
       "    <tr>\n",
       "      <th>50%</th>\n",
       "      <td>0.000000</td>\n",
       "      <td>0.000000</td>\n",
       "      <td>0.000000</td>\n",
       "      <td>0.000000</td>\n",
       "      <td>0.000000</td>\n",
       "      <td>0.000000</td>\n",
       "      <td>0.00000</td>\n",
       "      <td>1.000000</td>\n",
       "      <td>0.000000</td>\n",
       "      <td>0.000000</td>\n",
       "      <td>...</td>\n",
       "      <td>0.000000</td>\n",
       "      <td>0.000000</td>\n",
       "      <td>0.000000</td>\n",
       "      <td>0.000000</td>\n",
       "      <td>0.000000</td>\n",
       "      <td>0.000000</td>\n",
       "      <td>0.000000</td>\n",
       "      <td>0.000000</td>\n",
       "      <td>0.000000</td>\n",
       "      <td>0.000000</td>\n",
       "    </tr>\n",
       "    <tr>\n",
       "      <th>75%</th>\n",
       "      <td>0.000000</td>\n",
       "      <td>0.000000</td>\n",
       "      <td>0.000000</td>\n",
       "      <td>0.000000</td>\n",
       "      <td>0.000000</td>\n",
       "      <td>0.000000</td>\n",
       "      <td>1.00000</td>\n",
       "      <td>1.000000</td>\n",
       "      <td>0.000000</td>\n",
       "      <td>0.000000</td>\n",
       "      <td>...</td>\n",
       "      <td>0.000000</td>\n",
       "      <td>0.000000</td>\n",
       "      <td>0.000000</td>\n",
       "      <td>0.000000</td>\n",
       "      <td>0.000000</td>\n",
       "      <td>0.000000</td>\n",
       "      <td>0.000000</td>\n",
       "      <td>0.000000</td>\n",
       "      <td>0.000000</td>\n",
       "      <td>0.000000</td>\n",
       "    </tr>\n",
       "    <tr>\n",
       "      <th>max</th>\n",
       "      <td>1.000000</td>\n",
       "      <td>1.000000</td>\n",
       "      <td>1.000000</td>\n",
       "      <td>1.000000</td>\n",
       "      <td>1.000000</td>\n",
       "      <td>1.000000</td>\n",
       "      <td>1.00000</td>\n",
       "      <td>1.000000</td>\n",
       "      <td>1.000000</td>\n",
       "      <td>1.000000</td>\n",
       "      <td>...</td>\n",
       "      <td>1.000000</td>\n",
       "      <td>1.000000</td>\n",
       "      <td>1.000000</td>\n",
       "      <td>1.000000</td>\n",
       "      <td>1.000000</td>\n",
       "      <td>1.000000</td>\n",
       "      <td>1.000000</td>\n",
       "      <td>1.000000</td>\n",
       "      <td>1.000000</td>\n",
       "      <td>1.000000</td>\n",
       "    </tr>\n",
       "  </tbody>\n",
       "</table>\n",
       "<p>8 rows × 116 columns</p>\n",
       "</div>"
      ],
      "text/plain": [
       "       balsheet_flag  flag_asset_problem  flag_low_d1_sales_mil_log  \\\n",
       "count   11092.000000        11092.000000               11092.000000   \n",
       "mean        0.008475            0.000631                   0.028309   \n",
       "std         0.091671            0.025115                   0.165861   \n",
       "min         0.000000            0.000000                   0.000000   \n",
       "25%         0.000000            0.000000                   0.000000   \n",
       "50%         0.000000            0.000000                   0.000000   \n",
       "75%         0.000000            0.000000                   0.000000   \n",
       "max         1.000000            1.000000                   1.000000   \n",
       "\n",
       "       flag_high_d1_sales_mil_log  flag_low_ceo_age  flag_high_ceo_age  \\\n",
       "count                11092.000000      11092.000000       11092.000000   \n",
       "mean                     0.018301          0.003696           0.003246   \n",
       "std                      0.134045          0.060688           0.056880   \n",
       "min                      0.000000          0.000000           0.000000   \n",
       "25%                      0.000000          0.000000           0.000000   \n",
       "50%                      0.000000          0.000000           0.000000   \n",
       "75%                      0.000000          0.000000           0.000000   \n",
       "max                      1.000000          1.000000           1.000000   \n",
       "\n",
       "       flag_miss_ceo_age  flag_miss_labor_avg  extra_exp_pl_flag_high  \\\n",
       "count        11092.00000         11092.000000            11092.000000   \n",
       "mean             0.36621             0.567256                0.000902   \n",
       "std              0.48179             0.495478                0.030014   \n",
       "min              0.00000             0.000000                0.000000   \n",
       "25%              0.00000             0.000000                0.000000   \n",
       "50%              0.00000             1.000000                0.000000   \n",
       "75%              1.00000             1.000000                0.000000   \n",
       "max              1.00000             1.000000                1.000000   \n",
       "\n",
       "       extra_inc_pl_flag_high  ...  flag_subscribed_cap_bs  \\\n",
       "count            11092.000000  ...            11092.000000   \n",
       "mean                 0.004598  ...                0.000270   \n",
       "std                  0.067655  ...                0.016444   \n",
       "min                  0.000000  ...                0.000000   \n",
       "25%                  0.000000  ...                0.000000   \n",
       "50%                  0.000000  ...                0.000000   \n",
       "75%                  0.000000  ...                0.000000   \n",
       "max                  1.000000  ...                1.000000   \n",
       "\n",
       "       flag_profit_loss_year_pl_quad  flag_total_assets_bs  \\\n",
       "count                   11092.000000          11092.000000   \n",
       "mean                        0.000270              0.000270   \n",
       "std                         0.016444              0.016444   \n",
       "min                         0.000000              0.000000   \n",
       "25%                         0.000000              0.000000   \n",
       "50%                         0.000000              0.000000   \n",
       "75%                         0.000000              0.000000   \n",
       "max                         1.000000              1.000000   \n",
       "\n",
       "       flag_d1_inventories_pl  flag_d1_personnel_exp_pl  \\\n",
       "count            11092.000000              11092.000000   \n",
       "mean                 0.147764                  0.149838   \n",
       "std                  0.354882                  0.356928   \n",
       "min                  0.000000                  0.000000   \n",
       "25%                  0.000000                  0.000000   \n",
       "50%                  0.000000                  0.000000   \n",
       "75%                  0.000000                  0.000000   \n",
       "max                  1.000000                  1.000000   \n",
       "\n",
       "       flag_d1_material_exp_pl  flag_d1_total_assets_bs  \\\n",
       "count             11092.000000             11092.000000   \n",
       "mean                  0.149838                 0.147764   \n",
       "std                   0.356928                 0.354882   \n",
       "min                   0.000000                 0.000000   \n",
       "25%                   0.000000                 0.000000   \n",
       "50%                   0.000000                 0.000000   \n",
       "75%                   0.000000                 0.000000   \n",
       "max                   1.000000                 1.000000   \n",
       "\n",
       "       flag_d1_intang_assets_bs  flag_d1_inc_bef_tax_pl  flag_d1_extra_inc_pl  \n",
       "count              11092.000000            11092.000000          11092.000000  \n",
       "mean                   0.149748                0.147404              0.153805  \n",
       "std                    0.356840                0.354524              0.360778  \n",
       "min                    0.000000                0.000000              0.000000  \n",
       "25%                    0.000000                0.000000              0.000000  \n",
       "50%                    0.000000                0.000000              0.000000  \n",
       "75%                    0.000000                0.000000              0.000000  \n",
       "max                    1.000000                1.000000              1.000000  \n",
       "\n",
       "[8 rows x 116 columns]"
      ]
     },
     "execution_count": 168,
     "metadata": {},
     "output_type": "execute_result"
    }
   ],
   "source": [
    "# what flags do we have left?\n",
    "flag_columns = [col for col in data.columns if \"flag\" in col]\n",
    "data[flag_columns].describe()"
   ]
  },
  {
   "cell_type": "code",
   "execution_count": 169,
   "metadata": {},
   "outputs": [],
   "source": [
    "from scipy.stats.mstats import winsorize\n",
    "def winsorize_columns(data, columns):\n",
    "    \"\"\"\n",
    "    Winsorize specified columns in a DataFrame above the 85th percentile.\n",
    "    Parameters:\n",
    "    - data (pd.DataFrame): Input DataFrame.\n",
    "    - columns (list): List of column names to winsorize.\n",
    "    Returns:\n",
    "    - pd.DataFrame: DataFrame with winsorized values.\n",
    "    \"\"\"\n",
    "    # Copy the input DataFrame to avoid modifying the original data\n",
    "    data_copy = data.copy()\n",
    "    # Iterate through the specified columns and winsorize values\n",
    "    for column in columns:\n",
    "        # Check if the column exists in the DataFrame\n",
    "        if column in data_copy.columns:\n",
    "            # Winsorize values above the 90th percentile\n",
    "            data_copy[column] = winsorize(data_copy[column], limits=(0, 0.10))\n",
    "    return data_copy\n",
    "to_winsorize = [\"curr_assets\", \"curr_liab\", \"extra_exp\", \"extra_inc\", \"extra_profit_loss\", \"fixed_assets\",\n",
    "            \"inc_bef_tax\", \"intang_assets\", \"inventories\", \"liq_assets\", \"material_exp\", \"personnel_exp\",\n",
    "            \"profit_loss_year\", \"share_eq\", \"subscribed_cap\",\"balsheet_flag\", \"balsheet_length\",\"balsheet_notfullyear\",\n",
    "            \"total_assets_bs\",\"labor_avg_mod\",\"d1_sales_mil_log\",\"d1_sales_mil_log_mod\",\"d1_sales_mil_log_mod_sq\",]\n",
    "data = winsorize_columns(data,to_winsorize)"
   ]
  },
  {
   "cell_type": "code",
   "execution_count": 170,
   "metadata": {},
   "outputs": [
    {
     "data": {
      "text/plain": [
       "(11092, 201)"
      ]
     },
     "execution_count": 170,
     "metadata": {},
     "output_type": "execute_result"
    }
   ],
   "source": [
    "data.shape"
   ]
  },
  {
   "cell_type": "code",
   "execution_count": 265,
   "metadata": {},
   "outputs": [],
   "source": [
    "# drop unused factor levels\n",
    "for col in data.select_dtypes(include=[\"category\"]).columns:\n",
    "    data[col] = data[col].cat.remove_unused_categories()"
   ]
  },
  {
   "cell_type": "markdown",
   "metadata": {},
   "source": [
    "### 1.4 EDA"
   ]
  },
  {
   "cell_type": "code",
   "execution_count": 273,
   "metadata": {},
   "outputs": [
    {
     "data": {
      "text/plain": [
       "count    11092.000000\n",
       "mean        -0.105997\n",
       "std          0.570488\n",
       "min        -10.172101\n",
       "25%         -0.137392\n",
       "50%          0.000000\n",
       "75%          0.105643\n",
       "max          0.434403\n",
       "Name: d1_sales_mil_log, dtype: float64"
      ]
     },
     "execution_count": 273,
     "metadata": {},
     "output_type": "execute_result"
    }
   ],
   "source": [
    "data.d1_sales_mil_log.describe()"
   ]
  },
  {
   "cell_type": "code",
   "execution_count": 271,
   "metadata": {},
   "outputs": [
    {
     "data": {
      "image/png": "[encoded data removed]",
      "text/plain": [
       "<Figure size 640x480 with 1 Axes>"
      ]
     },
     "metadata": {
      "image/png": {
       "height": 480,
       "width": 640
      }
     },
     "output_type": "display_data"
    }
   ],
   "source": [
    "data['d1_sales_mil_log'].hist(bins=100)\n",
    "plt.show()"
   ]
  },
  {
   "cell_type": "code",
   "execution_count": 268,
   "metadata": {},
   "outputs": [
    {
     "data": {
      "image/png": "[encoded data removed]",
      "text/plain": [
       "<Figure size 640x480 with 1 Axes>"
      ]
     },
     "metadata": {
      "image/png": {
       "height": 480,
       "width": 640
      }
     },
     "output_type": "display_data"
    },
    {
     "data": {
      "text/plain": [
       "<Figure Size: (640 x 480)>"
      ]
     },
     "execution_count": 268,
     "metadata": {},
     "output_type": "execute_result"
    }
   ],
   "source": [
    "(\n",
    "    ggplot(data, aes(x=\"sales_mil_log\", y=\"default\"))\n",
    "    + geom_point(color=color[0])\n",
    "    + geom_smooth(method=\"lm\", formula=\"y ~ x + I(x**2)\", color=color[1], se=False)\n",
    "    + geom_smooth(method=\"loess\", color=color[2], se=False, size=1.5, span=0.9)\n",
    "    + labs(x=\"sales_mil_log\", y=\"default\")\n",
    "    + theme_bw()\n",
    ")"
   ]
  },
  {
   "cell_type": "code",
   "execution_count": 278,
   "metadata": {},
   "outputs": [
    {
     "data": {
      "image/png": "[encoded data removed]",
      "text/plain": [
       "<Figure size 640x480 with 1 Axes>"
      ]
     },
     "metadata": {
      "image/png": {
       "height": 480,
       "width": 640
      }
     },
     "output_type": "display_data"
    }
   ],
   "source": [
    "data.loc[data['default']== 0].hist(\"d1_sales_mil_log_mod\",bins=100)\n",
    "plt.show()"
   ]
  },
  {
   "cell_type": "code",
   "execution_count": 280,
   "metadata": {},
   "outputs": [
    {
     "data": {
      "image/png": "[encoded data removed]",
      "text/plain": [
       "<Figure size 640x480 with 1 Axes>"
      ]
     },
     "metadata": {
      "image/png": {
       "height": 480,
       "width": 640
      }
     },
     "output_type": "display_data"
    },
    {
     "data": {
      "text/plain": [
       "<Figure Size: (640 x 480)>"
      ]
     },
     "execution_count": 280,
     "metadata": {},
     "output_type": "execute_result"
    }
   ],
   "source": [
    "(\n",
    "    ggplot(data, aes(x=\"d1_sales_mil_log\", y=\"default\"))\n",
    "    + geom_point(size=0.1, color=color[1])\n",
    "    + geom_smooth(method=\"loess\", color=color[0], se=False, size=1.5, span=0.9)\n",
    "    + labs(x=\"Growth rate (Diff of ln sales)\", y=\"default\")\n",
    "    + scale_x_continuous(limits=(-1.5, 1.5), breaks=seq(-1.5, 0.5, by=0.5))\n",
    "    + theme_bw()\n",
    ")"
   ]
  },
  {
   "cell_type": "code",
   "execution_count": 284,
   "metadata": {},
   "outputs": [
    {
     "data": {
      "text/html": [
       "<div>\n",
       "<style scoped>\n",
       "    .dataframe tbody tr th:only-of-type {\n",
       "        vertical-align: middle;\n",
       "    }\n",
       "\n",
       "    .dataframe tbody tr th {\n",
       "        vertical-align: top;\n",
       "    }\n",
       "\n",
       "    .dataframe thead th {\n",
       "        text-align: right;\n",
       "    }\n",
       "</style>\n",
       "<table border=\"1\" class=\"dataframe\">\n",
       "  <thead>\n",
       "    <tr style=\"text-align: right;\">\n",
       "      <th></th>\n",
       "      <th>default</th>\n",
       "      <th>status_alive</th>\n",
       "    </tr>\n",
       "    <tr>\n",
       "      <th>year</th>\n",
       "      <th></th>\n",
       "      <th></th>\n",
       "    </tr>\n",
       "  </thead>\n",
       "  <tbody>\n",
       "    <tr>\n",
       "      <th>2005</th>\n",
       "      <td>75</td>\n",
       "      <td>1003</td>\n",
       "    </tr>\n",
       "    <tr>\n",
       "      <th>2006</th>\n",
       "      <td>65</td>\n",
       "      <td>1035</td>\n",
       "    </tr>\n",
       "    <tr>\n",
       "      <th>2007</th>\n",
       "      <td>77</td>\n",
       "      <td>1089</td>\n",
       "    </tr>\n",
       "    <tr>\n",
       "      <th>2008</th>\n",
       "      <td>73</td>\n",
       "      <td>1154</td>\n",
       "    </tr>\n",
       "    <tr>\n",
       "      <th>2009</th>\n",
       "      <td>96</td>\n",
       "      <td>1191</td>\n",
       "    </tr>\n",
       "    <tr>\n",
       "      <th>2010</th>\n",
       "      <td>96</td>\n",
       "      <td>1161</td>\n",
       "    </tr>\n",
       "    <tr>\n",
       "      <th>2011</th>\n",
       "      <td>76</td>\n",
       "      <td>1141</td>\n",
       "    </tr>\n",
       "    <tr>\n",
       "      <th>2012</th>\n",
       "      <td>88</td>\n",
       "      <td>1131</td>\n",
       "    </tr>\n",
       "    <tr>\n",
       "      <th>2013</th>\n",
       "      <td>73</td>\n",
       "      <td>1102</td>\n",
       "    </tr>\n",
       "    <tr>\n",
       "      <th>2014</th>\n",
       "      <td>69</td>\n",
       "      <td>1085</td>\n",
       "    </tr>\n",
       "  </tbody>\n",
       "</table>\n",
       "</div>"
      ],
      "text/plain": [
       "      default  status_alive\n",
       "year                       \n",
       "2005       75          1003\n",
       "2006       65          1035\n",
       "2007       77          1089\n",
       "2008       73          1154\n",
       "2009       96          1191\n",
       "2010       96          1161\n",
       "2011       76          1141\n",
       "2012       88          1131\n",
       "2013       73          1102\n",
       "2014       69          1085"
      ]
     },
     "execution_count": 284,
     "metadata": {},
     "output_type": "execute_result"
    }
   ],
   "source": [
    "# look at companies by year\n",
    "data[['year','default','status_alive']].groupby('year').sum()"
   ]
  },
  {
   "cell_type": "code",
   "execution_count": null,
   "metadata": {},
   "outputs": [],
   "source": []
  },
  {
   "cell_type": "markdown",
   "metadata": {},
   "source": [
    "## 2. Seperate Training and Holdout Set"
   ]
  },
  {
   "cell_type": "code",
   "execution_count": 172,
   "metadata": {},
   "outputs": [],
   "source": [
    "data.reset_index(drop = True, inplace=True)"
   ]
  },
  {
   "cell_type": "code",
   "execution_count": 173,
   "metadata": {},
   "outputs": [
    {
     "name": "stdout",
     "output_type": "stream",
     "text": [
      "Total firms in holdout set: 1037\n",
      "Number of defaulted firms: 56\n",
      "Number of firms that stayed alive: 981\n",
      "Average sales of the firms: 490202.21792682\n",
      "Minimum sales: 1070.370361328125\n",
      "Maximum sales: 9576485.0\n"
     ]
    }
   ],
   "source": [
    "holdout_set = data.loc[(data['ind2'] == 26) & (data['year'] == 2014) & (data['sales'] >= 1000) & (data['sales'] <= 10000000)]\n",
    "\n",
    "# Display information about the resulting holdout set\n",
    "print(\"Total firms in holdout set:\", len(holdout_set))\n",
    "print(\"Number of defaulted firms:\", len(holdout_set[holdout_set['default'] == 1]))\n",
    "print(\"Number of firms that stayed alive:\", len(holdout_set[holdout_set['default'] == 0]))  # Since all firms meet the condition\n",
    "print(\"Average sales of the firms:\", holdout_set['sales'].mean())\n",
    "print(\"Minimum sales:\", holdout_set['sales'].min())\n",
    "print(\"Maximum sales:\", holdout_set['sales'].max())"
   ]
  },
  {
   "cell_type": "code",
   "execution_count": 174,
   "metadata": {},
   "outputs": [
    {
     "data": {
      "text/plain": [
       "Series([], dtype: float64)"
      ]
     },
     "execution_count": 174,
     "metadata": {},
     "output_type": "execute_result"
    }
   ],
   "source": [
    "# Check for potential NAs in the holdout set\n",
    "empty_columns = holdout_set.columns[holdout_set.isna().any()].tolist()\n",
    "data[empty_columns].isna().sum()[data[empty_columns].isna().sum() > 0]"
   ]
  },
  {
   "cell_type": "code",
   "execution_count": 175,
   "metadata": {},
   "outputs": [],
   "source": [
    "# remove the holdout set from the data to get training set\n",
    "train = data.drop(holdout_set.index)\n",
    "# get the target variable and the index for the training and holdout set\n",
    "y_holdout = holdout_set['default']\n",
    "y_train = train['default']\n",
    "index_train = y_train.index\n",
    "index_holdout = y_holdout.index"
   ]
  },
  {
   "cell_type": "code",
   "execution_count": 176,
   "metadata": {},
   "outputs": [
    {
     "data": {
      "text/plain": [
       "Series([], dtype: float64)"
      ]
     },
     "execution_count": 176,
     "metadata": {},
     "output_type": "execute_result"
    }
   ],
   "source": [
    "# Check for potential NAs in the training set\n",
    "empty_columns = train.columns[train.isna().any()].tolist()\n",
    "data[empty_columns].isna().sum()[data[empty_columns].isna().sum() > 0]"
   ]
  },
  {
   "cell_type": "code",
   "execution_count": 177,
   "metadata": {},
   "outputs": [
    {
     "name": "stdout",
     "output_type": "stream",
     "text": [
      "Total\n",
      "0    0.928958\n",
      "1    0.071042\n",
      "Name: default, dtype: float64\n",
      "Train\n",
      "0    0.9272\n",
      "1    0.0728\n",
      "Name: default, dtype: float64\n",
      "Holdout\n",
      "0    0.945998\n",
      "1    0.054002\n",
      "Name: default, dtype: float64\n"
     ]
    }
   ],
   "source": [
    "print('Total')\n",
    "print(data['default'].value_counts(normalize=True))\n",
    "print('Train')\n",
    "print(train['default'].value_counts(normalize=True))\n",
    "print('Holdout')\n",
    "print(holdout_set['default'].value_counts(normalize=True))"
   ]
  },
  {
   "cell_type": "code",
   "execution_count": 178,
   "metadata": {},
   "outputs": [
    {
     "data": {
      "text/plain": [
       "2005    1003\n",
       "2006    1035\n",
       "2007    1089\n",
       "2008    1154\n",
       "2009    1191\n",
       "2010    1161\n",
       "2011    1141\n",
       "2012    1131\n",
       "2013    1102\n",
       "2014      48\n",
       "Name: year, dtype: int64"
      ]
     },
     "execution_count": 178,
     "metadata": {},
     "output_type": "execute_result"
    }
   ],
   "source": [
    "train.year.value_counts().sort_index()"
   ]
  },
  {
   "cell_type": "markdown",
   "metadata": {},
   "source": [
    "## 3. Model Building"
   ]
  },
  {
   "cell_type": "markdown",
   "metadata": {},
   "source": [
    "***Pre-define Loss Function***"
   ]
  },
  {
   "cell_type": "code",
   "execution_count": 179,
   "metadata": {},
   "outputs": [],
   "source": [
    "\n",
    "# cross validation method\n",
    "k = KFold(n_splits = 5, shuffle = True, random_state = 20240301)\n",
    "\n",
    "# no regularisation needed so setting the paremeter to very high value\n",
    "Cs_value_logit = [1e20]\n",
    "\n",
    "FP = 3\n",
    "FN = 15\n",
    "cost = FN/FP\n",
    "\n",
    "# the prevalence, or the proportion of cases in the population (n.cases/(n.controls+n.cases))\n",
    "prevelance = y_train.sum()/len(y_train)"
   ]
  },
  {
   "cell_type": "markdown",
   "metadata": {},
   "source": [
    "### ***Variable Selection***"
   ]
  },
  {
   "cell_type": "code",
   "execution_count": 180,
   "metadata": {},
   "outputs": [],
   "source": [
    "rawvars = [\n",
    "    \"curr_assets\",\n",
    "    \"curr_liab\",\n",
    "    \"extra_exp\",\n",
    "    \"extra_inc\",\n",
    "    \"extra_profit_loss\",\n",
    "    \"fixed_assets\",\n",
    "    \"inc_bef_tax\",\n",
    "    \"intang_assets\",\n",
    "    \"inventories\",\n",
    "    \"liq_assets\",\n",
    "    \"material_exp\",\n",
    "    \"personnel_exp\",\n",
    "    \"profit_loss_year\",\n",
    "    \"sales_mil\",\n",
    "    \"sales_mil_log\",\n",
    "    \"share_eq\",\n",
    "    \"subscribed_cap\"\n",
    "]\n",
    "qualityvars = [\"balsheet_flag\", \"balsheet_length\", \"balsheet_notfullyear\"]\n",
    "engvar = [\n",
    "    \"total_assets_bs\",\n",
    "    \"fixed_assets_bs\",\n",
    "    \"liq_assets_bs\",\n",
    "    \"curr_assets_bs\",\n",
    "    \"share_eq_bs\",\n",
    "    \"subscribed_cap_bs\",\n",
    "    \"intang_assets_bs\",\n",
    "    \"extra_exp_pl\",\n",
    "    \"extra_inc_pl\",\n",
    "    \"extra_profit_loss_pl\",\n",
    "    \"inc_bef_tax_pl\",\n",
    "    \"inventories_pl\",\n",
    "    \"material_exp_pl\",\n",
    "    \"profit_loss_year_pl\",\n",
    "    \"personnel_exp_pl\"\n",
    "]\n",
    "engvar2 = [\n",
    "    \"extra_profit_loss_pl_quad\",\n",
    "    \"inc_bef_tax_pl_quad\",\n",
    "    \"profit_loss_year_pl_quad\",\n",
    "    \"share_eq_bs_quad\"\n",
    "]\n",
    "\n",
    "engvar3 = []\n",
    "for col in data.columns:\n",
    "    if (\n",
    "        col.endswith(\"flag_low\")\n",
    "        or col.endswith(\"flag_high\")\n",
    "        or col.endswith(\"flag_error\")\n",
    "        or col.endswith(\"flag_zero\")\n",
    "        or col.startswith(\"flag_\")\n",
    "    ):\n",
    "        engvar3.append(col)\n",
    "        \n",
    "d1 =  [\"d1_sales_mil_log_mod\", \"d1_sales_mil_log_mod_sq\",\n",
    "        \"flag_low_d1_sales_mil_log\", \"flag_high_d1_sales_mil_log\",\n",
    "        \"year\",'d1_inventories_pl', 'd1_personnel_exp_pl', 'd1_material_exp_pl', \n",
    "        'd1_total_assets_bs', 'd1_intang_assets_bs', 'd1_inc_bef_tax_pl', 'd1_extra_inc_pl']\n",
    "\n",
    "hr = [\n",
    "    \"female\",\n",
    "    \"ceo_age\",\n",
    "    \"flag_high_ceo_age\",\n",
    "    \"flag_low_ceo_age\",\n",
    "    \"flag_miss_ceo_age\",\n",
    "    \"ceo_count\",\n",
    "    \"labor_avg_mod\",\n",
    "    \"flag_miss_labor_avg\",\n",
    "    \"foreign_management\",\n",
    "]"
   ]
  },
  {
   "cell_type": "code",
   "execution_count": 181,
   "metadata": {},
   "outputs": [],
   "source": [
    "#Creat dummy columns from category variables and drop first level\n",
    "m_region_locmat = patsy.dmatrix(\"0 + C(m_region_loc)\",data, return_type=\"dataframe\")\n",
    "m_region_locmat = m_region_locmat.drop(['C(m_region_loc)[Central]'], axis=1)\n",
    "\n",
    "urban_mmat = patsy.dmatrix(\"0 + C(urban_m)\",data, return_type=\"dataframe\")\n",
    "urban_mmat = urban_mmat.drop(['C(urban_m)[1.0]'], axis=1)\n",
    "\n",
    "firm = pd.concat([data[[\"age\", \"age2\",\"new\"]],m_region_locmat, urban_mmat], axis=1)"
   ]
  },
  {
   "cell_type": "markdown",
   "metadata": {},
   "source": [
    "## Linear Probability Models: Logit and Lasso models"
   ]
  },
  {
   "cell_type": "code",
   "execution_count": 182,
   "metadata": {},
   "outputs": [],
   "source": [
    "# Define X1\n",
    "basevars = data[[\"sales_mil_log\", \"sales_mil_log_sq\", \"d1_sales_mil_log_mod\", \"profit_loss_year_pl\"]]\n",
    "X1 = pd.concat([basevars], axis=1)\n",
    "\n",
    "# Define X2\n",
    "X2additional_vars = data[[\"fixed_assets_bs\", \"share_eq_bs\",\"curr_liab_bs\", \\\n",
    "                          \"age\", \"foreign_management\"]]\n",
    "X2 = pd.concat([X1, X2additional_vars], axis=1)\n",
    "\n",
    "# Define X3\n",
    "firm = pd.concat([data[[\"age\", \"age2\",\"new\"]], m_region_locmat, urban_mmat], axis=1)\n",
    "X3 = pd.concat([data[[\"sales_mil_log\", \"sales_mil_log_sq\"] + engvar + d1], firm], axis=1)\n",
    "\n",
    "# Define X4\n",
    "X4 = pd.concat([data[[\"sales_mil_log\", \"sales_mil_log_sq\"] + engvar + d1 \\\n",
    "                                 + engvar2 + engvar3 + hr + qualityvars], firm], axis=1)"
   ]
  },
  {
   "cell_type": "code",
   "execution_count": 183,
   "metadata": {},
   "outputs": [],
   "source": [
    "all_interactions = [\"sales_mil_log:age\",\n",
    "                \"sales_mil_log:female\",\n",
    "                \"sales_mil_log:profit_loss_year_pl\",\n",
    "                \"sales_mil_log:foreign_management\",\n",
    "                \"female:foreign_management\",\n",
    "                \"ceo_young:share_eq_bs\",\n",
    "                \"ceo_young:extra_profit_loss_pl\",\n",
    "                \"origin:foreign_management\",\n",
    "                \"female : sales_mil_log_sq\",\n",
    "                \"personnel_exp : sales_mil\",\n",
    "                \"personnel_exp : extra_profit_loss\",\n",
    "                \"urban_m:sales_mil_log\",\n",
    "                \"urban_m:sales_mil_log_sq\",\n",
    "                \"urban_m:d1_sales_mil_log_mod\",\n",
    "                \"urban_m:profit_loss_year_pl\",\n",
    "                \"urban_m:fixed_assets_bs\",\n",
    "                \"urban_m:share_eq_bs\",\n",
    "                \"urban_m:curr_liab_bs\",\n",
    "                \"urban_m:age\",\n",
    "                \"year:age\",\n",
    "                \"year:sales_mil_log\",\n",
    "                \"year:sales_mil_log_sq\",\n",
    "                \"year:d1_sales_mil_log_mod\",\n",
    "                \"year:profit_loss_year_pl\",\n",
    "                \"year:fixed_assets_bs\",\n",
    "                ]"
   ]
  },
  {
   "cell_type": "code",
   "execution_count": 184,
   "metadata": {},
   "outputs": [],
   "source": [
    "intmat = patsy.dmatrix(\n",
    "    \"0 + \" + \" + \".join(all_interactions), data, return_type=\"dataframe\"\n",
    ")\n",
    "\n",
    "# drop first level to get k-1 dummies of k categorical levels\n",
    "for col in intmat.columns:\n",
    "    if col.endswith('C(urban_m)[1]') or col.startswith('C(year)[-1]'):\n",
    "        intmat = intmat.drop([col], axis=1)\n",
    "\n",
    "X5 = pd.concat([X4, intmat], axis=1)\n",
    "\n",
    "logitvars = X5"
   ]
  },
  {
   "cell_type": "code",
   "execution_count": 185,
   "metadata": {},
   "outputs": [],
   "source": [
    "logit_model_vars = [X1.iloc[index_train], X2.iloc[index_train], X3.iloc[index_train], X4.iloc[index_train], X5.iloc[index_train]]\n",
    "\n",
    "logit_models = dict()\n",
    "CV_RMSE_folds = dict()"
   ]
  },
  {
   "cell_type": "code",
   "execution_count": 186,
   "metadata": {},
   "outputs": [
    {
     "name": "stdout",
     "output_type": "stream",
     "text": [
      "CPU times: total: 54.7 s\n",
      "Wall time: 17.3 s\n"
     ]
    }
   ],
   "source": [
    "%%time\n",
    "for i in range(len(logit_model_vars)):\n",
    "    LRCV_brier = LogisticRegressionCV(\n",
    "        Cs=Cs_value_logit, \n",
    "        cv=k, # simply the number of folds\n",
    "        refit=True, \n",
    "        scoring='neg_brier_score', \n",
    "        solver=\"newton-cg\", \n",
    "        tol=1e-7, \n",
    "        random_state=20240301)\n",
    "    logit_models['X'+str(i+1)] = LRCV_brier.fit(logit_model_vars[i], y_train)\n",
    "    \n",
    "    # Calculate RMSE on test for each fold\n",
    "    CV_RMSE_folds['X'+str(i+1)] = np.sqrt(-1*(logit_models['X'+str(i+1)].scores_[1])).flatten()"
   ]
  },
  {
   "cell_type": "markdown",
   "metadata": {},
   "source": [
    "#### Lasso logit"
   ]
  },
  {
   "cell_type": "code",
   "execution_count": 187,
   "metadata": {},
   "outputs": [],
   "source": [
    "normalized_logitvars = pd.DataFrame(StandardScaler().fit_transform(logitvars.iloc[index_train]))\n",
    "normalized_logitvars.columns = logitvars.columns\n",
    "\n",
    "lambdas=list(10**np.arange(-1,-4.01, -1/3))\n",
    "n_obs = normalized_logitvars.shape[0]*4/5\n",
    "Cs_values = [1/(l*n_obs) for l in lambdas]"
   ]
  },
  {
   "cell_type": "code",
   "execution_count": 300,
   "metadata": {},
   "outputs": [],
   "source": [
    "# train lasso for accuracy\n",
    "logLasso = LogisticRegressionCV(\n",
    "    Cs = Cs_values, \n",
    "    penalty = 'l1', # L1 makes it lasso\n",
    "    cv = k, \n",
    "    refit = True, \n",
    "    scoring = 'accuracy',\n",
    "    solver = 'liblinear',\n",
    "    random_state = 20240301)"
   ]
  },
  {
   "cell_type": "code",
   "execution_count": 189,
   "metadata": {},
   "outputs": [
    {
     "name": "stdout",
     "output_type": "stream",
     "text": [
      "CPU times: total: 1min 3s\n",
      "Wall time: 1min 3s\n"
     ]
    }
   ],
   "source": [
    "%%time\n",
    "logit_models[\"LASSO\"] = logLasso.fit(normalized_logitvars, y_train)"
   ]
  },
  {
   "cell_type": "code",
   "execution_count": 301,
   "metadata": {},
   "outputs": [
    {
     "data": {
      "text/plain": [
       "0.004641588833612782"
      ]
     },
     "execution_count": 301,
     "metadata": {},
     "output_type": "execute_result"
    }
   ],
   "source": [
    "cv_summary_lasso = cv_summary(lambdas, Cs_values, logit_models[\"LASSO\"])\n",
    "best_lambda = cv_summary_lasso.sort_values('mean_cv_score', ascending = False).iloc[0,0]\n",
    "best_lambda"
   ]
  },
  {
   "cell_type": "code",
   "execution_count": 304,
   "metadata": {},
   "outputs": [
    {
     "data": {
      "text/html": [
       "<div>\n",
       "<style scoped>\n",
       "    .dataframe tbody tr th:only-of-type {\n",
       "        vertical-align: middle;\n",
       "    }\n",
       "\n",
       "    .dataframe tbody tr th {\n",
       "        vertical-align: top;\n",
       "    }\n",
       "\n",
       "    .dataframe thead th {\n",
       "        text-align: right;\n",
       "    }\n",
       "</style>\n",
       "<table border=\"1\" class=\"dataframe\">\n",
       "  <thead>\n",
       "    <tr style=\"text-align: right;\">\n",
       "      <th></th>\n",
       "      <th>variable</th>\n",
       "      <th>coefficient</th>\n",
       "    </tr>\n",
       "  </thead>\n",
       "  <tbody>\n",
       "    <tr>\n",
       "      <th>31</th>\n",
       "      <td>profit_loss_year_pl_quad</td>\n",
       "      <td>0.260763</td>\n",
       "    </tr>\n",
       "    <tr>\n",
       "      <th>152</th>\n",
       "      <td>flag_miss_ceo_age</td>\n",
       "      <td>0.198252</td>\n",
       "    </tr>\n",
       "    <tr>\n",
       "      <th>1</th>\n",
       "      <td>sales_mil_log_sq</td>\n",
       "      <td>0.188983</td>\n",
       "    </tr>\n",
       "    <tr>\n",
       "      <th>72</th>\n",
       "      <td>flag_birth_year</td>\n",
       "      <td>0.118459</td>\n",
       "    </tr>\n",
       "    <tr>\n",
       "      <th>45</th>\n",
       "      <td>curr_liab_bs_flag_high</td>\n",
       "      <td>0.116540</td>\n",
       "    </tr>\n",
       "    <tr>\n",
       "      <th>...</th>\n",
       "      <td>...</td>\n",
       "      <td>...</td>\n",
       "    </tr>\n",
       "    <tr>\n",
       "      <th>158</th>\n",
       "      <td>balsheet_length</td>\n",
       "      <td>-0.084061</td>\n",
       "    </tr>\n",
       "    <tr>\n",
       "      <th>160</th>\n",
       "      <td>age</td>\n",
       "      <td>-0.090034</td>\n",
       "    </tr>\n",
       "    <tr>\n",
       "      <th>161</th>\n",
       "      <td>age2</td>\n",
       "      <td>-0.096008</td>\n",
       "    </tr>\n",
       "    <tr>\n",
       "      <th>0</th>\n",
       "      <td>sales_mil_log</td>\n",
       "      <td>-0.188070</td>\n",
       "    </tr>\n",
       "    <tr>\n",
       "      <th>257</th>\n",
       "      <td>Intercept</td>\n",
       "      <td>-2.811731</td>\n",
       "    </tr>\n",
       "  </tbody>\n",
       "</table>\n",
       "<p>258 rows × 2 columns</p>\n",
       "</div>"
      ],
      "text/plain": [
       "                     variable  coefficient\n",
       "31   profit_loss_year_pl_quad     0.260763\n",
       "152         flag_miss_ceo_age     0.198252\n",
       "1            sales_mil_log_sq     0.188983\n",
       "72            flag_birth_year     0.118459\n",
       "45     curr_liab_bs_flag_high     0.116540\n",
       "..                        ...          ...\n",
       "158           balsheet_length    -0.084061\n",
       "160                       age    -0.090034\n",
       "161                      age2    -0.096008\n",
       "0               sales_mil_log    -0.188070\n",
       "257                 Intercept    -2.811731\n",
       "\n",
       "[258 rows x 2 columns]"
      ]
     },
     "execution_count": 304,
     "metadata": {},
     "output_type": "execute_result"
    }
   ],
   "source": [
    "create_coef_matrix(normalized_logitvars, logit_models[\"LASSO\"]).sort_values('coefficient', ascending = False)"
   ]
  },
  {
   "cell_type": "markdown",
   "metadata": {},
   "source": [
    "Training for ***Brier-score*** (aka RMSE)"
   ]
  },
  {
   "cell_type": "code",
   "execution_count": 191,
   "metadata": {},
   "outputs": [],
   "source": [
    "#refit with negative brier score so we have RMSE values for the same cv split\n",
    "\n",
    "logLasso_brier = LogisticRegressionCV(\n",
    "    Cs = Cs_values, \n",
    "    penalty = 'l1', \n",
    "    cv = k, \n",
    "    refit = True, \n",
    "    scoring = 'neg_brier_score', \n",
    "    solver = \"liblinear\", \n",
    "    random_state = 20240301)\n",
    "logLasso_brier_fitted = logLasso_brier.fit(normalized_logitvars, y_train)\n"
   ]
  },
  {
   "cell_type": "code",
   "execution_count": 192,
   "metadata": {},
   "outputs": [],
   "source": [
    "for i, l in enumerate(lambdas):\n",
    "    if l == best_lambda:\n",
    "        best_lambda_i = i\n",
    "        CV_RMSE_folds['LASSO'] = np.sqrt(-1*(logLasso_brier_fitted.scores_[1][:,i])).tolist()"
   ]
  },
  {
   "cell_type": "code",
   "execution_count": 305,
   "metadata": {},
   "outputs": [
    {
     "data": {
      "text/html": [
       "<div>\n",
       "<style scoped>\n",
       "    .dataframe tbody tr th:only-of-type {\n",
       "        vertical-align: middle;\n",
       "    }\n",
       "\n",
       "    .dataframe tbody tr th {\n",
       "        vertical-align: top;\n",
       "    }\n",
       "\n",
       "    .dataframe thead th {\n",
       "        text-align: right;\n",
       "    }\n",
       "</style>\n",
       "<table border=\"1\" class=\"dataframe\">\n",
       "  <thead>\n",
       "    <tr style=\"text-align: right;\">\n",
       "      <th></th>\n",
       "      <th>X1</th>\n",
       "      <th>X2</th>\n",
       "      <th>X3</th>\n",
       "      <th>X4</th>\n",
       "      <th>X5</th>\n",
       "      <th>LASSO</th>\n",
       "      <th>gbm_p</th>\n",
       "    </tr>\n",
       "  </thead>\n",
       "  <tbody>\n",
       "    <tr>\n",
       "      <th>0</th>\n",
       "      <td>0.266793</td>\n",
       "      <td>0.262684</td>\n",
       "      <td>0.260872</td>\n",
       "      <td>0.259539</td>\n",
       "      <td>0.277269</td>\n",
       "      <td>0.261023</td>\n",
       "      <td>0.268974</td>\n",
       "    </tr>\n",
       "    <tr>\n",
       "      <th>1</th>\n",
       "      <td>0.246158</td>\n",
       "      <td>0.246033</td>\n",
       "      <td>0.243616</td>\n",
       "      <td>0.238021</td>\n",
       "      <td>0.259438</td>\n",
       "      <td>0.238249</td>\n",
       "      <td>0.260743</td>\n",
       "    </tr>\n",
       "    <tr>\n",
       "      <th>2</th>\n",
       "      <td>0.243103</td>\n",
       "      <td>0.244394</td>\n",
       "      <td>0.243469</td>\n",
       "      <td>0.238776</td>\n",
       "      <td>0.246544</td>\n",
       "      <td>0.237047</td>\n",
       "      <td>0.256441</td>\n",
       "    </tr>\n",
       "    <tr>\n",
       "      <th>3</th>\n",
       "      <td>0.255738</td>\n",
       "      <td>0.254085</td>\n",
       "      <td>0.251859</td>\n",
       "      <td>0.249947</td>\n",
       "      <td>0.267237</td>\n",
       "      <td>0.248516</td>\n",
       "      <td>0.259400</td>\n",
       "    </tr>\n",
       "    <tr>\n",
       "      <th>4</th>\n",
       "      <td>0.241084</td>\n",
       "      <td>0.241616</td>\n",
       "      <td>0.240885</td>\n",
       "      <td>0.237836</td>\n",
       "      <td>0.248347</td>\n",
       "      <td>0.236664</td>\n",
       "      <td>0.253074</td>\n",
       "    </tr>\n",
       "  </tbody>\n",
       "</table>\n",
       "</div>"
      ],
      "text/plain": [
       "         X1        X2        X3        X4        X5     LASSO     gbm_p\n",
       "0  0.266793  0.262684  0.260872  0.259539  0.277269  0.261023  0.268974\n",
       "1  0.246158  0.246033  0.243616  0.238021  0.259438  0.238249  0.260743\n",
       "2  0.243103  0.244394  0.243469  0.238776  0.246544  0.237047  0.256441\n",
       "3  0.255738  0.254085  0.251859  0.249947  0.267237  0.248516  0.259400\n",
       "4  0.241084  0.241616  0.240885  0.237836  0.248347  0.236664  0.253074"
      ]
     },
     "execution_count": 305,
     "metadata": {},
     "output_type": "execute_result"
    }
   ],
   "source": [
    "pd.DataFrame(CV_RMSE_folds)"
   ]
  },
  {
   "cell_type": "markdown",
   "metadata": {},
   "source": [
    "AUC using no loss fn"
   ]
  },
  {
   "cell_type": "code",
   "execution_count": 193,
   "metadata": {},
   "outputs": [],
   "source": [
    "CV_AUC_folds = dict()"
   ]
  },
  {
   "cell_type": "code",
   "execution_count": 194,
   "metadata": {},
   "outputs": [],
   "source": [
    "for i in range(len(logit_model_vars)):\n",
    "    LRCV_auc = LogisticRegressionCV(\n",
    "        Cs=Cs_value_logit, \n",
    "        cv=k, \n",
    "        refit=True, \n",
    "        scoring='roc_auc', \n",
    "        solver=\"newton-cg\", \n",
    "        tol=1e-7, \n",
    "        random_state = 20240301)\n",
    "    LRCV_auc_fit = LRCV_auc.fit(logit_model_vars[i], y_train)\n",
    "    # Calculate AUC on test for each fold\n",
    "    CV_AUC_folds['X'+str(i+1)] = LRCV_auc_fit.scores_[1][:,0].tolist()"
   ]
  },
  {
   "cell_type": "code",
   "execution_count": 195,
   "metadata": {},
   "outputs": [
    {
     "name": "stdout",
     "output_type": "stream",
     "text": [
      "CPU times: total: 1min 4s\n",
      "Wall time: 1min 4s\n"
     ]
    }
   ],
   "source": [
    "%%time\n",
    "#refit with AUC so we have AUC values for the same cv split\n",
    "\n",
    "logLasso_auc = LogisticRegressionCV(\n",
    "    Cs=Cs_values, \n",
    "    penalty='l1', \n",
    "    cv=k, \n",
    "    refit=True, scoring='roc_auc', \n",
    "    solver=\"liblinear\", \n",
    "    random_state = 20240301)\n",
    "logLasso_auc_fitted = logLasso_auc.fit(normalized_logitvars, y_train)\n",
    "CV_AUC_folds['LASSO'] = logLasso_auc_fitted.scores_[1][:,best_lambda_i].tolist()"
   ]
  },
  {
   "cell_type": "code",
   "execution_count": 196,
   "metadata": {},
   "outputs": [],
   "source": [
    "CV_RMSE = dict()\n",
    "CV_AUC = dict()\n",
    "nvars = dict()\n",
    "\n",
    "for key in logit_models:\n",
    "    CV_RMSE[key] = np.mean(CV_RMSE_folds[key])\n",
    "    CV_AUC[key] = np.mean(CV_AUC_folds[key])  "
   ]
  },
  {
   "cell_type": "code",
   "execution_count": 197,
   "metadata": {},
   "outputs": [],
   "source": [
    "for key in logit_models:\n",
    "    if key != 'LASSO':\n",
    "        nvars[key] = logit_models[key].n_features_in_\n",
    "    else:\n",
    "        nvars[key] = sum(x != 0 for x in logit_models[key].coef_[0].tolist())"
   ]
  },
  {
   "cell_type": "code",
   "execution_count": 198,
   "metadata": {},
   "outputs": [
    {
     "data": {
      "text/html": [
       "<div>\n",
       "<style scoped>\n",
       "    .dataframe tbody tr th:only-of-type {\n",
       "        vertical-align: middle;\n",
       "    }\n",
       "\n",
       "    .dataframe tbody tr th {\n",
       "        vertical-align: top;\n",
       "    }\n",
       "\n",
       "    .dataframe thead th {\n",
       "        text-align: right;\n",
       "    }\n",
       "</style>\n",
       "<table border=\"1\" class=\"dataframe\">\n",
       "  <thead>\n",
       "    <tr style=\"text-align: right;\">\n",
       "      <th></th>\n",
       "      <th>Number of predictors</th>\n",
       "      <th>CV RMSE</th>\n",
       "      <th>CV AUC</th>\n",
       "    </tr>\n",
       "  </thead>\n",
       "  <tbody>\n",
       "    <tr>\n",
       "      <th>X1</th>\n",
       "      <td>4.0</td>\n",
       "      <td>0.250575</td>\n",
       "      <td>0.719073</td>\n",
       "    </tr>\n",
       "    <tr>\n",
       "      <th>X2</th>\n",
       "      <td>9.0</td>\n",
       "      <td>0.249762</td>\n",
       "      <td>0.749591</td>\n",
       "    </tr>\n",
       "    <tr>\n",
       "      <th>X3</th>\n",
       "      <td>36.0</td>\n",
       "      <td>0.248140</td>\n",
       "      <td>0.761520</td>\n",
       "    </tr>\n",
       "    <tr>\n",
       "      <th>X4</th>\n",
       "      <td>167.0</td>\n",
       "      <td>0.244824</td>\n",
       "      <td>0.786514</td>\n",
       "    </tr>\n",
       "    <tr>\n",
       "      <th>X5</th>\n",
       "      <td>258.0</td>\n",
       "      <td>0.259767</td>\n",
       "      <td>0.657734</td>\n",
       "    </tr>\n",
       "    <tr>\n",
       "      <th>LASSO</th>\n",
       "      <td>53.0</td>\n",
       "      <td>0.244300</td>\n",
       "      <td>0.792296</td>\n",
       "    </tr>\n",
       "  </tbody>\n",
       "</table>\n",
       "</div>"
      ],
      "text/plain": [
       "       Number of predictors   CV RMSE    CV AUC\n",
       "X1                      4.0  0.250575  0.719073\n",
       "X2                      9.0  0.249762  0.749591\n",
       "X3                     36.0  0.248140  0.761520\n",
       "X4                    167.0  0.244824  0.786514\n",
       "X5                    258.0  0.259767  0.657734\n",
       "LASSO                  53.0  0.244300  0.792296"
      ]
     },
     "execution_count": 198,
     "metadata": {},
     "output_type": "execute_result"
    }
   ],
   "source": [
    "logit_summary1 = np.transpose(pd.DataFrame.from_dict([nvars,CV_RMSE,CV_AUC], orient='columns'))\n",
    "logit_summary1.columns = ['Number of predictors', 'CV RMSE', 'CV AUC']\n",
    "logit_summary1"
   ]
  },
  {
   "cell_type": "markdown",
   "metadata": {},
   "source": [
    "#### X4 or Lasso seems to be the best model"
   ]
  },
  {
   "cell_type": "code",
   "execution_count": 315,
   "metadata": {},
   "outputs": [
    {
     "data": {
      "text/plain": [
       "0.213"
      ]
     },
     "execution_count": 315,
     "metadata": {},
     "output_type": "execute_result"
    }
   ],
   "source": [
    "best_model = logit_models['X4']\n",
    "best_model_X_holdout = X4.iloc[index_holdout]\n",
    "\n",
    "logit_predicted_probabilities_holdout = best_model.predict_proba(best_model_X_holdout)[:,1]\n",
    "best_rmse_holdout = np.sqrt(metrics.mean_squared_error(y_holdout, logit_predicted_probabilities_holdout))\n",
    "round(best_rmse_holdout, 3)"
   ]
  },
  {
   "cell_type": "markdown",
   "metadata": {},
   "source": [
    "**Discrete ROC (with thresholds in steps) on holdout**"
   ]
  },
  {
   "cell_type": "code",
   "execution_count": 316,
   "metadata": {},
   "outputs": [
    {
     "data": {
      "text/html": [
       "<div>\n",
       "<style scoped>\n",
       "    .dataframe tbody tr th:only-of-type {\n",
       "        vertical-align: middle;\n",
       "    }\n",
       "\n",
       "    .dataframe tbody tr th {\n",
       "        vertical-align: top;\n",
       "    }\n",
       "\n",
       "    .dataframe thead th {\n",
       "        text-align: right;\n",
       "    }\n",
       "</style>\n",
       "<table border=\"1\" class=\"dataframe\">\n",
       "  <thead>\n",
       "    <tr style=\"text-align: right;\">\n",
       "      <th></th>\n",
       "      <th>thresholds</th>\n",
       "      <th>true_positive_rates</th>\n",
       "      <th>false_positive_rates</th>\n",
       "      <th>expected_losses</th>\n",
       "    </tr>\n",
       "  </thead>\n",
       "  <tbody>\n",
       "    <tr>\n",
       "      <th>0</th>\n",
       "      <td>0.05</td>\n",
       "      <td>0.678571</td>\n",
       "      <td>0.211009</td>\n",
       "      <td>3.254581</td>\n",
       "    </tr>\n",
       "    <tr>\n",
       "      <th>1</th>\n",
       "      <td>0.10</td>\n",
       "      <td>0.410714</td>\n",
       "      <td>0.069317</td>\n",
       "      <td>1.460945</td>\n",
       "    </tr>\n",
       "    <tr>\n",
       "      <th>2</th>\n",
       "      <td>0.15</td>\n",
       "      <td>0.267857</td>\n",
       "      <td>0.026504</td>\n",
       "      <td>0.969142</td>\n",
       "    </tr>\n",
       "    <tr>\n",
       "      <th>3</th>\n",
       "      <td>0.20</td>\n",
       "      <td>0.232143</td>\n",
       "      <td>0.018349</td>\n",
       "      <td>0.882353</td>\n",
       "    </tr>\n",
       "    <tr>\n",
       "      <th>4</th>\n",
       "      <td>0.25</td>\n",
       "      <td>0.196429</td>\n",
       "      <td>0.009174</td>\n",
       "      <td>0.781099</td>\n",
       "    </tr>\n",
       "    <tr>\n",
       "      <th>5</th>\n",
       "      <td>0.30</td>\n",
       "      <td>0.160714</td>\n",
       "      <td>0.008155</td>\n",
       "      <td>0.795564</td>\n",
       "    </tr>\n",
       "    <tr>\n",
       "      <th>6</th>\n",
       "      <td>0.35</td>\n",
       "      <td>0.160714</td>\n",
       "      <td>0.006116</td>\n",
       "      <td>0.766635</td>\n",
       "    </tr>\n",
       "    <tr>\n",
       "      <th>7</th>\n",
       "      <td>0.40</td>\n",
       "      <td>0.071429</td>\n",
       "      <td>0.003058</td>\n",
       "      <td>0.795564</td>\n",
       "    </tr>\n",
       "    <tr>\n",
       "      <th>8</th>\n",
       "      <td>0.45</td>\n",
       "      <td>0.053571</td>\n",
       "      <td>0.002039</td>\n",
       "      <td>0.795564</td>\n",
       "    </tr>\n",
       "    <tr>\n",
       "      <th>9</th>\n",
       "      <td>0.50</td>\n",
       "      <td>0.035714</td>\n",
       "      <td>0.002039</td>\n",
       "      <td>0.810029</td>\n",
       "    </tr>\n",
       "    <tr>\n",
       "      <th>10</th>\n",
       "      <td>0.55</td>\n",
       "      <td>0.000000</td>\n",
       "      <td>0.002039</td>\n",
       "      <td>0.838959</td>\n",
       "    </tr>\n",
       "    <tr>\n",
       "      <th>11</th>\n",
       "      <td>0.60</td>\n",
       "      <td>0.000000</td>\n",
       "      <td>0.001019</td>\n",
       "      <td>0.824494</td>\n",
       "    </tr>\n",
       "    <tr>\n",
       "      <th>12</th>\n",
       "      <td>0.65</td>\n",
       "      <td>0.000000</td>\n",
       "      <td>0.000000</td>\n",
       "      <td>0.810029</td>\n",
       "    </tr>\n",
       "    <tr>\n",
       "      <th>13</th>\n",
       "      <td>0.70</td>\n",
       "      <td>0.000000</td>\n",
       "      <td>0.000000</td>\n",
       "      <td>0.810029</td>\n",
       "    </tr>\n",
       "    <tr>\n",
       "      <th>14</th>\n",
       "      <td>0.75</td>\n",
       "      <td>0.000000</td>\n",
       "      <td>0.000000</td>\n",
       "      <td>0.810029</td>\n",
       "    </tr>\n",
       "  </tbody>\n",
       "</table>\n",
       "</div>"
      ],
      "text/plain": [
       "    thresholds  true_positive_rates  false_positive_rates  expected_losses\n",
       "0         0.05             0.678571              0.211009         3.254581\n",
       "1         0.10             0.410714              0.069317         1.460945\n",
       "2         0.15             0.267857              0.026504         0.969142\n",
       "3         0.20             0.232143              0.018349         0.882353\n",
       "4         0.25             0.196429              0.009174         0.781099\n",
       "5         0.30             0.160714              0.008155         0.795564\n",
       "6         0.35             0.160714              0.006116         0.766635\n",
       "7         0.40             0.071429              0.003058         0.795564\n",
       "8         0.45             0.053571              0.002039         0.795564\n",
       "9         0.50             0.035714              0.002039         0.810029\n",
       "10        0.55             0.000000              0.002039         0.838959\n",
       "11        0.60             0.000000              0.001019         0.824494\n",
       "12        0.65             0.000000              0.000000         0.810029\n",
       "13        0.70             0.000000              0.000000         0.810029\n",
       "14        0.75             0.000000              0.000000         0.810029"
      ]
     },
     "execution_count": 316,
     "metadata": {},
     "output_type": "execute_result"
    }
   ],
   "source": [
    "thresholds = [i/100 for i in range(5, 80, 5)]\n",
    "cm = dict()\n",
    "true_positive_rates = []\n",
    "false_positive_rates = []\n",
    "expected_losses = []  # Initialize a list to store expected losses\n",
    "\n",
    "for thr in thresholds:\n",
    "    holdout_prediction = np.where(logit_predicted_probabilities_holdout < thr, 0, 1)\n",
    "    cm_thr = confusion_matrix(y_holdout, holdout_prediction, labels=[0, 1])\n",
    "    cm[thr] = cm_thr\n",
    "    tn, fp, fn, tp = cm_thr.ravel()\n",
    "    true_positive_rates.append(tp/(tp+fn))\n",
    "    false_positive_rates.append(fp/(fp+tn))\n",
    "\n",
    "    # Calculate expected loss\n",
    "    curr_expected_loss = (fp * FN+ fn *FN) / len(y_holdout)\n",
    "    expected_losses.append(curr_expected_loss)\n",
    "\n",
    "# Create DataFrame\n",
    "tpr_fpr_expected_loss = pd.DataFrame({\n",
    "    'thresholds': thresholds,\n",
    "    'true_positive_rates': true_positive_rates,\n",
    "    'false_positive_rates': false_positive_rates,\n",
    "    'expected_losses': expected_losses  # Add the new column for expected losses\n",
    "})\n",
    "\n",
    "tpr_fpr_expected_loss"
   ]
  },
  {
   "cell_type": "code",
   "execution_count": 317,
   "metadata": {},
   "outputs": [
    {
     "name": "stdout",
     "output_type": "stream",
     "text": [
      "0  (no default):  1033\n",
      "0  (default):  1033\n"
     ]
    }
   ],
   "source": [
    "logit_class_prediction = best_model.predict(best_model_X_holdout)\n",
    "\n",
    "values, counts = np.unique(logit_class_prediction.tolist(), return_counts=True)\n",
    "print(values[0],' (no default): ',counts[0])\n",
    "print(values[0],' (default): ',counts[0])"
   ]
  },
  {
   "cell_type": "code",
   "execution_count": 318,
   "metadata": {},
   "outputs": [
    {
     "data": {
      "text/html": [
       "<div>\n",
       "<style scoped>\n",
       "    .dataframe tbody tr th:only-of-type {\n",
       "        vertical-align: middle;\n",
       "    }\n",
       "\n",
       "    .dataframe tbody tr th {\n",
       "        vertical-align: top;\n",
       "    }\n",
       "\n",
       "    .dataframe thead th {\n",
       "        text-align: right;\n",
       "    }\n",
       "</style>\n",
       "<table border=\"1\" class=\"dataframe\">\n",
       "  <thead>\n",
       "    <tr style=\"text-align: right;\">\n",
       "      <th></th>\n",
       "      <th>Actul no defaul</th>\n",
       "      <th>Actual default</th>\n",
       "    </tr>\n",
       "  </thead>\n",
       "  <tbody>\n",
       "    <tr>\n",
       "      <th>Predicted no default</th>\n",
       "      <td>734</td>\n",
       "      <td>17</td>\n",
       "    </tr>\n",
       "    <tr>\n",
       "      <th>Predicted default</th>\n",
       "      <td>247</td>\n",
       "      <td>39</td>\n",
       "    </tr>\n",
       "  </tbody>\n",
       "</table>\n",
       "</div>"
      ],
      "text/plain": [
       "                      Actul no defaul  Actual default\n",
       "Predicted no default              734              17\n",
       "Predicted default                 247              39"
      ]
     },
     "execution_count": 318,
     "metadata": {},
     "output_type": "execute_result"
    }
   ],
   "source": [
    "mean_predicted_default_prob = np.mean(logit_predicted_probabilities_holdout)\n",
    "\n",
    "holdout_prediction = np.where(logit_predicted_probabilities_holdout < mean_predicted_default_prob, 0, 1)\n",
    "cm_object2 = confusion_matrix(y_holdout, holdout_prediction, labels=[0,1])\n",
    "cm2 = pd.DataFrame(cm_object2, \n",
    "    index=['Actul no defaul', 'Actual default'], \n",
    "    columns=['Predicted no default', 'Predicted default'])\n",
    "cm2.T"
   ]
  },
  {
   "cell_type": "code",
   "execution_count": 330,
   "metadata": {},
   "outputs": [
    {
     "data": {
      "image/png": "[encoded data removed]",
      "text/plain": [
       "<Figure size 640x480 with 1 Axes>"
      ]
     },
     "metadata": {
      "image/png": {
       "height": 480,
       "width": 640
      }
     },
     "output_type": "display_data"
    },
    {
     "data": {
      "text/plain": [
       "<Figure Size: (640 x 480)>"
      ]
     },
     "execution_count": 330,
     "metadata": {},
     "output_type": "execute_result"
    }
   ],
   "source": [
    "holdout = pd.concat([best_model_X_holdout, y_holdout], axis=1)\n",
    "holdout[\"best_logit_no_loss_pred\"] = logit_predicted_probabilities_holdout\n",
    "create_calibration_plot(\n",
    "    holdout, \n",
    "    file_name = \"DA3_A3_calibration_plot.png\",\n",
    "    prob_var='best_logit_no_loss_pred', \n",
    "    actual_var='default',\n",
    "    y_lab=\"Actual event probability\", \n",
    "    n_bins=10, \n",
    "    breaks=None)"
   ]
  },
  {
   "cell_type": "code",
   "execution_count": 321,
   "metadata": {},
   "outputs": [],
   "source": [
    "tpr_fpr_for_thresholds = pd.DataFrame(\n",
    "    {'thresholds': thresholds,\n",
    "     'true_positive_rates': true_positive_rates,\n",
    "     'false_positive_rates': false_positive_rates})"
   ]
  },
  {
   "cell_type": "code",
   "execution_count": 322,
   "metadata": {},
   "outputs": [
    {
     "data": {
      "image/png": "[encoded data removed]",
      "text/plain": [
       "<Figure size 640x480 with 1 Axes>"
      ]
     },
     "metadata": {
      "image/png": {
       "height": 480,
       "width": 640
      }
     },
     "output_type": "display_data"
    },
    {
     "data": {
      "text/plain": [
       "<Figure Size: (640 x 480)>"
      ]
     },
     "execution_count": 322,
     "metadata": {},
     "output_type": "execute_result"
    }
   ],
   "source": [
    "ggplot(tpr_fpr_for_thresholds, aes(x = 'false_positive_rates', y = 'true_positive_rates', color='thresholds'))\\\n",
    "        + labs(\n",
    "            x = \"False positive rate (1 - Specificity)\", \n",
    "            y = \"True positive rate (Sensitivity)\",\n",
    "            title = 'ROC curve for the best model (X4)'\n",
    "        )\\\n",
    "        + geom_point(size=2, alpha=0.8) + scale_color_continuous(trans = 'reverse')\\\n",
    "        + scale_x_continuous(limits=(0,1), breaks = seq(0, 1.01, by = 0.1))\\\n",
    "        + scale_y_continuous(limits=(0,1), breaks = seq(0, 1.01, by = 0.1))\\\n",
    "        + theme_bw()\\\n",
    "        +theme(legend_position=\"right\",\n",
    "            axis_text=element_text(size=10),\n",
    "            axis_title=element_text(size=10),\n",
    "            legend_text = element_text(size = 6),\n",
    "            legend_title = element_text(size = 6),\n",
    "            legend_key_size=6)"
   ]
  },
  {
   "cell_type": "code",
   "execution_count": 323,
   "metadata": {},
   "outputs": [
    {
     "data": {
      "image/png": "[encoded data removed]",
      "text/plain": [
       "<Figure size 640x480 with 1 Axes>"
      ]
     },
     "metadata": {
      "image/png": {
       "height": 480,
       "width": 640
      }
     },
     "output_type": "display_data"
    },
    {
     "data": {
      "text/plain": [
       "<Figure Size: (640 x 480)>"
      ]
     },
     "execution_count": 323,
     "metadata": {},
     "output_type": "execute_result"
    }
   ],
   "source": [
    "create_roc_plot(y_holdout, logit_predicted_probabilities_holdout)"
   ]
  },
  {
   "cell_type": "markdown",
   "metadata": {},
   "source": [
    "#### Lasso logit"
   ]
  },
  {
   "cell_type": "code",
   "execution_count": 204,
   "metadata": {},
   "outputs": [],
   "source": [
    "best_thresholds_cv = dict()\n",
    "expected_loss_cv = dict()\n",
    "fold5_threshold = dict()\n",
    "fold5_expected_loss = dict()\n",
    "fold5_all_coords = dict()\n",
    "\n",
    "for i, model_name in enumerate(logit_models):\n",
    "    best_thresholds = []\n",
    "    expected_loss =[]\n",
    "    if model_name != 'LASSO':\n",
    "        X = logit_model_vars[i]\n",
    "        c_index = 0\n",
    "    else:\n",
    "        X = normalized_logitvars\n",
    "        c_index = best_lambda_i\n",
    "    fold = 0\n",
    "    for train_index, test_index in k.split(X):\n",
    "        X_fold = X.iloc[test_index,:]\n",
    "        y_fold = y_train.iloc[test_index]\n",
    "        pred_fold = generate_fold_prediction(logit_models[model_name], X_fold, fold, c_index)\n",
    "        false_pos_rate, true_pos_rate, thresholds = roc_curve(y_fold, pred_fold)\n",
    "        optimal_threshold = sorted(list(zip(\n",
    "            np.abs(true_pos_rate + (1 - prevelance)/(cost * prevelance)*(1-false_pos_rate)),\\\n",
    "                                       thresholds)), key=lambda i: i[0], reverse=True)[0][1]\n",
    "        best_thresholds.append(optimal_threshold)\n",
    "        threshold_prediction = np.where(pred_fold < optimal_threshold, 0, 1)\n",
    "        tn, fp, fn, tp = confusion_matrix(y_fold, threshold_prediction, labels=[0,1]).ravel()\n",
    "        curr_exp_loss = (fp*FP + fn*FN)/len(y_fold)\n",
    "        expected_loss.append(curr_exp_loss)\n",
    "        fold = fold+1\n",
    "\n",
    "    best_thresholds_cv[model_name] = np.mean(best_thresholds)\n",
    "    expected_loss_cv[model_name] = np.mean(expected_loss)\n",
    "\n",
    "    # for fold #5\n",
    "    fold5_threshold[model_name] = optimal_threshold\n",
    "    fold5_expected_loss[model_name] = curr_exp_loss\n",
    "\n",
    "    all_coords = pd.DataFrame({\n",
    "        'false_pos': false_pos_rate*sum(y_fold == 0),\n",
    "        'true_pos': true_pos_rate*sum(y_fold == 1),\n",
    "        'false_neg': sum(y_fold == 1) - true_pos_rate*sum(y_fold == 1),\n",
    "        'true_neg': sum(y_fold == 0) - false_pos_rate*sum(y_fold == 0),\n",
    "        'pos': sum(y_fold == 1),\n",
    "        'neg': sum(y_fold == 0),\n",
    "        'n': len(y_fold),\n",
    "        'thresholds': thresholds\n",
    "    })\n",
    "    \n",
    "    fold5_all_coords[model_name] = all_coords"
   ]
  },
  {
   "cell_type": "code",
   "execution_count": 205,
   "metadata": {},
   "outputs": [
    {
     "data": {
      "text/plain": [
       "0.12155858240428223"
      ]
     },
     "execution_count": 205,
     "metadata": {},
     "output_type": "execute_result"
    }
   ],
   "source": [
    "best_logit_optimal_treshold = best_thresholds_cv[\"X5\"]\n",
    "best_logit_optimal_treshold"
   ]
  },
  {
   "cell_type": "code",
   "execution_count": 206,
   "metadata": {},
   "outputs": [
    {
     "data": {
      "text/plain": [
       "0.677"
      ]
     },
     "execution_count": 206,
     "metadata": {},
     "output_type": "execute_result"
    }
   ],
   "source": [
    "holdout_treshold = np.where(logit_predicted_probabilities_holdout < best_logit_optimal_treshold, 0, 1)\n",
    "tn, fp, fn, tp = confusion_matrix(y_holdout, holdout_treshold, labels=[0,1]).ravel()\n",
    "expected_loss_holdout = (fp*FP + fn*FN)/len(y_holdout)\n",
    "round(expected_loss_holdout, 3)"
   ]
  },
  {
   "cell_type": "markdown",
   "metadata": {},
   "source": [
    "### Loss Function on Logit and lasso"
   ]
  },
  {
   "cell_type": "code",
   "execution_count": 207,
   "metadata": {},
   "outputs": [
    {
     "data": {
      "text/html": [
       "<div>\n",
       "<style scoped>\n",
       "    .dataframe tbody tr th:only-of-type {\n",
       "        vertical-align: middle;\n",
       "    }\n",
       "\n",
       "    .dataframe tbody tr th {\n",
       "        vertical-align: top;\n",
       "    }\n",
       "\n",
       "    .dataframe thead th {\n",
       "        text-align: right;\n",
       "    }\n",
       "</style>\n",
       "<table border=\"1\" class=\"dataframe\">\n",
       "  <thead>\n",
       "    <tr style=\"text-align: right;\">\n",
       "      <th></th>\n",
       "      <th>Actul no defaul</th>\n",
       "      <th>Actual default</th>\n",
       "    </tr>\n",
       "  </thead>\n",
       "  <tbody>\n",
       "    <tr>\n",
       "      <th>Predicted no default</th>\n",
       "      <td>932</td>\n",
       "      <td>37</td>\n",
       "    </tr>\n",
       "    <tr>\n",
       "      <th>Predicted default</th>\n",
       "      <td>49</td>\n",
       "      <td>19</td>\n",
       "    </tr>\n",
       "  </tbody>\n",
       "</table>\n",
       "</div>"
      ],
      "text/plain": [
       "                      Actul no defaul  Actual default\n",
       "Predicted no default              932              37\n",
       "Predicted default                  49              19"
      ]
     },
     "execution_count": 207,
     "metadata": {},
     "output_type": "execute_result"
    }
   ],
   "source": [
    "cm_object3 = confusion_matrix(y_holdout, holdout_treshold, labels=[0,1])\n",
    "cm3 = pd.DataFrame(cm_object3, \n",
    "    index=['Actul no defaul', 'Actual default'], \n",
    "    columns=['Predicted no default', 'Predicted default'])\n",
    "cm3.T"
   ]
  },
  {
   "cell_type": "markdown",
   "metadata": {},
   "source": [
    "### 2.2 ***Random Forest***"
   ]
  },
  {
   "cell_type": "code",
   "execution_count": 208,
   "metadata": {},
   "outputs": [],
   "source": [
    "# Define rfvars for RF (no interactions, no modified features)\n",
    "rfvars  = pd.concat([data[[\"sales_mil\", \"d1_sales_mil_log\",\"year\"] + rawvars + hr + d1 + qualityvars + engvar], firm], axis=1)"
   ]
  },
  {
   "cell_type": "code",
   "execution_count": 209,
   "metadata": {},
   "outputs": [],
   "source": [
    "rfvars_train = rfvars.iloc[index_train]\n",
    "rfvars_holdout = rfvars.iloc[index_holdout]"
   ]
  },
  {
   "cell_type": "code",
   "execution_count": 210,
   "metadata": {},
   "outputs": [],
   "source": [
    "grid = {'max_features': [7,8,9,10],\n",
    "        'criterion':['gini'],\n",
    "        'min_samples_split': [10,11,12]}\n",
    "\n",
    "elements = len(grid['max_features'])*len(grid['min_samples_split'])        "
   ]
  },
  {
   "cell_type": "code",
   "execution_count": 211,
   "metadata": {},
   "outputs": [],
   "source": [
    "prob_forest = RandomForestClassifier(\n",
    "    random_state=20240205, \n",
    "    n_estimators=500, \n",
    "    oob_score=True)\n",
    "\n",
    "prob_forest_grid = GridSearchCV(\n",
    "    prob_forest, \n",
    "    grid, \n",
    "    cv=k, \n",
    "    refit='accuracy',\n",
    "    scoring = ['accuracy', 'roc_auc', 'neg_brier_score'], \n",
    "    n_jobs=-1)"
   ]
  },
  {
   "cell_type": "code",
   "execution_count": 212,
   "metadata": {},
   "outputs": [
    {
     "name": "stdout",
     "output_type": "stream",
     "text": [
      "CPU times: total: 18.4 s\n",
      "Wall time: 1min 47s\n"
     ]
    }
   ],
   "source": [
    "%%time\n",
    "prob_forest_fit = prob_forest_grid.fit(rfvars_train, y_train)"
   ]
  },
  {
   "cell_type": "code",
   "execution_count": 213,
   "metadata": {},
   "outputs": [
    {
     "data": {
      "text/plain": [
       "array([0.92819493, 0.92849329, 0.92819493, 0.92819493, 0.92879165,\n",
       "       0.92819493, 0.92759821, 0.92859274, 0.92829438, 0.92819493,\n",
       "       0.92829438, 0.92819493])"
      ]
     },
     "execution_count": 213,
     "metadata": {},
     "output_type": "execute_result"
    }
   ],
   "source": [
    "cv_accuracy = np.zeros([elements]) # change \n",
    "for i in range(5):\n",
    "    cv_accuracy = cv_accuracy + prob_forest_fit.cv_results_['split' + str(i) + '_test_accuracy']\n",
    "cv_accuracy = cv_accuracy/5\n",
    "cv_accuracy"
   ]
  },
  {
   "cell_type": "code",
   "execution_count": 214,
   "metadata": {},
   "outputs": [
    {
     "data": {
      "text/plain": [
       "array([0.81453012, 0.81483954, 0.81317497, 0.81208515, 0.811911  ,\n",
       "       0.81364437, 0.81266815, 0.81158584, 0.81061768, 0.81067823,\n",
       "       0.81311524, 0.8105724 ])"
      ]
     },
     "execution_count": 214,
     "metadata": {},
     "output_type": "execute_result"
    }
   ],
   "source": [
    "cv_auc = np.zeros([elements])\n",
    "for i in range(5):\n",
    "    cv_auc = cv_auc + prob_forest_fit.cv_results_['split' + str(i) + '_test_roc_auc']\n",
    "cv_auc = cv_auc/5\n",
    "cv_auc"
   ]
  },
  {
   "cell_type": "code",
   "execution_count": 215,
   "metadata": {},
   "outputs": [
    {
     "data": {
      "text/plain": [
       "array([0.24208423, 0.24211131, 0.24217769, 0.24256015, 0.24239878,\n",
       "       0.24219987, 0.24265834, 0.24260402, 0.24262393, 0.24273085,\n",
       "       0.24261103, 0.2424988 ])"
      ]
     },
     "execution_count": 215,
     "metadata": {},
     "output_type": "execute_result"
    }
   ],
   "source": [
    "cv_rmse = np.zeros([elements])\n",
    "for i in range(5):\n",
    "    cv_rmse = cv_rmse +np.sqrt(-1*(prob_forest_fit.cv_results_['split' + str(i) + '_test_neg_brier_score'])).tolist()\n",
    "cv_rmse = cv_rmse/5\n",
    "cv_rmse"
   ]
  },
  {
   "cell_type": "code",
   "execution_count": 216,
   "metadata": {},
   "outputs": [
    {
     "data": {
      "text/html": [
       "<div>\n",
       "<style scoped>\n",
       "    .dataframe tbody tr th:only-of-type {\n",
       "        vertical-align: middle;\n",
       "    }\n",
       "\n",
       "    .dataframe tbody tr th {\n",
       "        vertical-align: top;\n",
       "    }\n",
       "\n",
       "    .dataframe thead th {\n",
       "        text-align: right;\n",
       "    }\n",
       "</style>\n",
       "<table border=\"1\" class=\"dataframe\">\n",
       "  <thead>\n",
       "    <tr style=\"text-align: right;\">\n",
       "      <th></th>\n",
       "      <th>max_features</th>\n",
       "      <th>min_samples_split</th>\n",
       "      <th>cv_accuracy</th>\n",
       "      <th>cv_auc</th>\n",
       "      <th>cv_rmse</th>\n",
       "    </tr>\n",
       "  </thead>\n",
       "  <tbody>\n",
       "    <tr>\n",
       "      <th>0</th>\n",
       "      <td>7</td>\n",
       "      <td>10</td>\n",
       "      <td>0.928195</td>\n",
       "      <td>0.814530</td>\n",
       "      <td>0.242084</td>\n",
       "    </tr>\n",
       "    <tr>\n",
       "      <th>1</th>\n",
       "      <td>7</td>\n",
       "      <td>11</td>\n",
       "      <td>0.928493</td>\n",
       "      <td>0.814840</td>\n",
       "      <td>0.242111</td>\n",
       "    </tr>\n",
       "    <tr>\n",
       "      <th>2</th>\n",
       "      <td>7</td>\n",
       "      <td>12</td>\n",
       "      <td>0.928195</td>\n",
       "      <td>0.813175</td>\n",
       "      <td>0.242178</td>\n",
       "    </tr>\n",
       "    <tr>\n",
       "      <th>3</th>\n",
       "      <td>8</td>\n",
       "      <td>10</td>\n",
       "      <td>0.928195</td>\n",
       "      <td>0.812085</td>\n",
       "      <td>0.242560</td>\n",
       "    </tr>\n",
       "    <tr>\n",
       "      <th>4</th>\n",
       "      <td>8</td>\n",
       "      <td>11</td>\n",
       "      <td>0.928792</td>\n",
       "      <td>0.811911</td>\n",
       "      <td>0.242399</td>\n",
       "    </tr>\n",
       "    <tr>\n",
       "      <th>5</th>\n",
       "      <td>8</td>\n",
       "      <td>12</td>\n",
       "      <td>0.928195</td>\n",
       "      <td>0.813644</td>\n",
       "      <td>0.242200</td>\n",
       "    </tr>\n",
       "    <tr>\n",
       "      <th>6</th>\n",
       "      <td>9</td>\n",
       "      <td>10</td>\n",
       "      <td>0.927598</td>\n",
       "      <td>0.812668</td>\n",
       "      <td>0.242658</td>\n",
       "    </tr>\n",
       "    <tr>\n",
       "      <th>7</th>\n",
       "      <td>9</td>\n",
       "      <td>11</td>\n",
       "      <td>0.928593</td>\n",
       "      <td>0.811586</td>\n",
       "      <td>0.242604</td>\n",
       "    </tr>\n",
       "    <tr>\n",
       "      <th>8</th>\n",
       "      <td>9</td>\n",
       "      <td>12</td>\n",
       "      <td>0.928294</td>\n",
       "      <td>0.810618</td>\n",
       "      <td>0.242624</td>\n",
       "    </tr>\n",
       "    <tr>\n",
       "      <th>9</th>\n",
       "      <td>10</td>\n",
       "      <td>10</td>\n",
       "      <td>0.928195</td>\n",
       "      <td>0.810678</td>\n",
       "      <td>0.242731</td>\n",
       "    </tr>\n",
       "    <tr>\n",
       "      <th>10</th>\n",
       "      <td>10</td>\n",
       "      <td>11</td>\n",
       "      <td>0.928294</td>\n",
       "      <td>0.813115</td>\n",
       "      <td>0.242611</td>\n",
       "    </tr>\n",
       "    <tr>\n",
       "      <th>11</th>\n",
       "      <td>10</td>\n",
       "      <td>12</td>\n",
       "      <td>0.928195</td>\n",
       "      <td>0.810572</td>\n",
       "      <td>0.242499</td>\n",
       "    </tr>\n",
       "  </tbody>\n",
       "</table>\n",
       "</div>"
      ],
      "text/plain": [
       "   max_features min_samples_split  cv_accuracy    cv_auc   cv_rmse\n",
       "0             7                10     0.928195  0.814530  0.242084\n",
       "1             7                11     0.928493  0.814840  0.242111\n",
       "2             7                12     0.928195  0.813175  0.242178\n",
       "3             8                10     0.928195  0.812085  0.242560\n",
       "4             8                11     0.928792  0.811911  0.242399\n",
       "5             8                12     0.928195  0.813644  0.242200\n",
       "6             9                10     0.927598  0.812668  0.242658\n",
       "7             9                11     0.928593  0.811586  0.242604\n",
       "8             9                12     0.928294  0.810618  0.242624\n",
       "9            10                10     0.928195  0.810678  0.242731\n",
       "10           10                11     0.928294  0.813115  0.242611\n",
       "11           10                12     0.928195  0.810572  0.242499"
      ]
     },
     "execution_count": 216,
     "metadata": {},
     "output_type": "execute_result"
    }
   ],
   "source": [
    "prob_forest_cv_results = pd.DataFrame({\n",
    "    'max_features': prob_forest_fit.cv_results_['param_max_features'],\n",
    "    'min_samples_split': prob_forest_fit.cv_results_['param_min_samples_split'],\n",
    "    'cv_accuracy': cv_accuracy,\n",
    "    'cv_auc': cv_auc,\n",
    "    'cv_rmse': cv_rmse\n",
    "})\n",
    "prob_forest_cv_results"
   ]
  },
  {
   "cell_type": "code",
   "execution_count": 217,
   "metadata": {},
   "outputs": [
    {
     "data": {
      "text/plain": [
       "{'criterion': 'gini', 'max_features': 8, 'min_samples_split': 11}"
      ]
     },
     "execution_count": 217,
     "metadata": {},
     "output_type": "execute_result"
    }
   ],
   "source": [
    "best_max_features = prob_forest_fit.best_params_['max_features']\n",
    "best_min_sample_split = prob_forest_fit.best_params_['min_samples_split']\n",
    "prob_forest_fit.best_params_"
   ]
  },
  {
   "cell_type": "code",
   "execution_count": 218,
   "metadata": {},
   "outputs": [],
   "source": [
    "prob_forest_best_results = prob_forest_cv_results[\n",
    "    (prob_forest_cv_results.max_features == best_max_features) & \n",
    "    (prob_forest_cv_results.min_samples_split == best_min_sample_split)]\n",
    "prob_forest_best_results_index = prob_forest_best_results.index.values[0]\n",
    "\n",
    "CV_RMSE['rf_p']  = prob_forest_best_results.cv_rmse.values[0]\n",
    "CV_AUC['rf_p'] = prob_forest_best_results.cv_auc.values[0]"
   ]
  },
  {
   "cell_type": "code",
   "execution_count": 219,
   "metadata": {},
   "outputs": [],
   "source": [
    "best_thresholds = list()\n",
    "expected_loss = list()\n",
    "\n",
    "fold = 0\n",
    "for train_index, test_index in k.split(rfvars_train):\n",
    "    X_fold = rfvars_train.iloc[test_index,:]\n",
    "    y_fold = y_train.iloc[test_index]\n",
    "    \n",
    "    X_fold_train = rfvars_train.iloc[train_index,:]\n",
    "    y_fold_train = y_train.iloc[train_index]\n",
    "    \n",
    "    prob_forest_best = RandomForestClassifier(\n",
    "        random_state=20240301, \n",
    "        n_estimators=500, \n",
    "        oob_score=True,\n",
    "        criterion = 'gini', \n",
    "        max_features = best_max_features, min_samples_split = best_min_sample_split)\n",
    "    \n",
    "    prob_forest_best_fold = prob_forest_best.fit(X_fold_train, y_fold_train)\n",
    "    pred_fold = prob_forest_best_fold.predict_proba(X_fold)[:,1]\n",
    "\n",
    "    false_pos_rate, true_pos_rate, threshold = roc_curve(y_fold, pred_fold)\n",
    "    \n",
    "    best_threshold = sorted(\n",
    "        list(\n",
    "            zip(\n",
    "                np.abs(\n",
    "                    true_pos_rate + (1 - prevelance)/(cost * prevelance)*(1-false_pos_rate)\n",
    "                ),\n",
    "                threshold\n",
    "            )\n",
    "        ), \n",
    "        key=lambda x: x[0], reverse=True)[0][1]\n",
    "    \n",
    "    best_thresholds.append(best_threshold)\n",
    "    \n",
    "    threshold_prediction = np.where(pred_fold < best_threshold, 0, 1)\n",
    "    tn, fp, fn, tp = confusion_matrix(y_fold, threshold_prediction, labels=[0,1]).ravel()\n",
    "    curr_exp_loss = (fp*FP + fn*FN)/len(y_fold)\n",
    "    expected_loss.append(curr_exp_loss)"
   ]
  },
  {
   "cell_type": "code",
   "execution_count": 333,
   "metadata": {},
   "outputs": [
    {
     "data": {
      "text/html": [
       "<div>\n",
       "<style scoped>\n",
       "    .dataframe tbody tr th:only-of-type {\n",
       "        vertical-align: middle;\n",
       "    }\n",
       "\n",
       "    .dataframe tbody tr th {\n",
       "        vertical-align: top;\n",
       "    }\n",
       "\n",
       "    .dataframe thead th {\n",
       "        text-align: right;\n",
       "    }\n",
       "</style>\n",
       "<table border=\"1\" class=\"dataframe\">\n",
       "  <thead>\n",
       "    <tr style=\"text-align: right;\">\n",
       "      <th></th>\n",
       "      <th>false_pos</th>\n",
       "      <th>true_pos</th>\n",
       "      <th>false_neg</th>\n",
       "      <th>true_neg</th>\n",
       "      <th>pos</th>\n",
       "      <th>neg</th>\n",
       "      <th>n</th>\n",
       "      <th>thresholds</th>\n",
       "    </tr>\n",
       "  </thead>\n",
       "  <tbody>\n",
       "    <tr>\n",
       "      <th>0</th>\n",
       "      <td>0.0</td>\n",
       "      <td>0.0</td>\n",
       "      <td>132.0</td>\n",
       "      <td>1879.0</td>\n",
       "      <td>132</td>\n",
       "      <td>1879</td>\n",
       "      <td>2011</td>\n",
       "      <td>inf</td>\n",
       "    </tr>\n",
       "    <tr>\n",
       "      <th>1</th>\n",
       "      <td>0.0</td>\n",
       "      <td>1.0</td>\n",
       "      <td>131.0</td>\n",
       "      <td>1879.0</td>\n",
       "      <td>132</td>\n",
       "      <td>1879</td>\n",
       "      <td>2011</td>\n",
       "      <td>9.996613e-01</td>\n",
       "    </tr>\n",
       "    <tr>\n",
       "      <th>2</th>\n",
       "      <td>1.0</td>\n",
       "      <td>1.0</td>\n",
       "      <td>131.0</td>\n",
       "      <td>1878.0</td>\n",
       "      <td>132</td>\n",
       "      <td>1879</td>\n",
       "      <td>2011</td>\n",
       "      <td>9.959722e-01</td>\n",
       "    </tr>\n",
       "    <tr>\n",
       "      <th>3</th>\n",
       "      <td>1.0</td>\n",
       "      <td>2.0</td>\n",
       "      <td>130.0</td>\n",
       "      <td>1878.0</td>\n",
       "      <td>132</td>\n",
       "      <td>1879</td>\n",
       "      <td>2011</td>\n",
       "      <td>9.955974e-01</td>\n",
       "    </tr>\n",
       "    <tr>\n",
       "      <th>4</th>\n",
       "      <td>2.0</td>\n",
       "      <td>2.0</td>\n",
       "      <td>130.0</td>\n",
       "      <td>1877.0</td>\n",
       "      <td>132</td>\n",
       "      <td>1879</td>\n",
       "      <td>2011</td>\n",
       "      <td>9.951057e-01</td>\n",
       "    </tr>\n",
       "    <tr>\n",
       "      <th>...</th>\n",
       "      <td>...</td>\n",
       "      <td>...</td>\n",
       "      <td>...</td>\n",
       "      <td>...</td>\n",
       "      <td>...</td>\n",
       "      <td>...</td>\n",
       "      <td>...</td>\n",
       "      <td>...</td>\n",
       "    </tr>\n",
       "    <tr>\n",
       "      <th>216</th>\n",
       "      <td>1736.0</td>\n",
       "      <td>130.0</td>\n",
       "      <td>2.0</td>\n",
       "      <td>143.0</td>\n",
       "      <td>132</td>\n",
       "      <td>1879</td>\n",
       "      <td>2011</td>\n",
       "      <td>1.985207e-07</td>\n",
       "    </tr>\n",
       "    <tr>\n",
       "      <th>217</th>\n",
       "      <td>1736.0</td>\n",
       "      <td>131.0</td>\n",
       "      <td>1.0</td>\n",
       "      <td>143.0</td>\n",
       "      <td>132</td>\n",
       "      <td>1879</td>\n",
       "      <td>2011</td>\n",
       "      <td>1.980826e-07</td>\n",
       "    </tr>\n",
       "    <tr>\n",
       "      <th>218</th>\n",
       "      <td>1858.0</td>\n",
       "      <td>131.0</td>\n",
       "      <td>1.0</td>\n",
       "      <td>21.0</td>\n",
       "      <td>132</td>\n",
       "      <td>1879</td>\n",
       "      <td>2011</td>\n",
       "      <td>7.109137e-08</td>\n",
       "    </tr>\n",
       "    <tr>\n",
       "      <th>219</th>\n",
       "      <td>1858.0</td>\n",
       "      <td>132.0</td>\n",
       "      <td>0.0</td>\n",
       "      <td>21.0</td>\n",
       "      <td>132</td>\n",
       "      <td>1879</td>\n",
       "      <td>2011</td>\n",
       "      <td>7.072963e-08</td>\n",
       "    </tr>\n",
       "    <tr>\n",
       "      <th>220</th>\n",
       "      <td>1879.0</td>\n",
       "      <td>132.0</td>\n",
       "      <td>0.0</td>\n",
       "      <td>0.0</td>\n",
       "      <td>132</td>\n",
       "      <td>1879</td>\n",
       "      <td>2011</td>\n",
       "      <td>1.682548e-08</td>\n",
       "    </tr>\n",
       "  </tbody>\n",
       "</table>\n",
       "<p>221 rows × 8 columns</p>\n",
       "</div>"
      ],
      "text/plain": [
       "     false_pos  true_pos  false_neg  true_neg  pos   neg     n    thresholds\n",
       "0          0.0       0.0      132.0    1879.0  132  1879  2011           inf\n",
       "1          0.0       1.0      131.0    1879.0  132  1879  2011  9.996613e-01\n",
       "2          1.0       1.0      131.0    1878.0  132  1879  2011  9.959722e-01\n",
       "3          1.0       2.0      130.0    1878.0  132  1879  2011  9.955974e-01\n",
       "4          2.0       2.0      130.0    1877.0  132  1879  2011  9.951057e-01\n",
       "..         ...       ...        ...       ...  ...   ...   ...           ...\n",
       "216     1736.0     130.0        2.0     143.0  132  1879  2011  1.985207e-07\n",
       "217     1736.0     131.0        1.0     143.0  132  1879  2011  1.980826e-07\n",
       "218     1858.0     131.0        1.0      21.0  132  1879  2011  7.109137e-08\n",
       "219     1858.0     132.0        0.0      21.0  132  1879  2011  7.072963e-08\n",
       "220     1879.0     132.0        0.0       0.0  132  1879  2011  1.682548e-08\n",
       "\n",
       "[221 rows x 8 columns]"
      ]
     },
     "execution_count": 333,
     "metadata": {},
     "output_type": "execute_result"
    }
   ],
   "source": [
    "fold5_threshold_rf = best_threshold\n",
    "fold5_expected_loss_rf = curr_exp_loss\n",
    "\n",
    "all_coords_rf = pd.DataFrame({\n",
    "    'false_pos': false_pos_rate*sum(y_fold == 0),\n",
    "    'true_pos': true_pos_rate*sum(y_fold == 1),\n",
    "    'false_neg': sum(y_fold == 1) - true_pos_rate*sum(y_fold == 1),\n",
    "    'true_neg': sum(y_fold == 0) - false_pos_rate*sum(y_fold == 0),\n",
    "    'pos': sum(y_fold == 1),\n",
    "    'neg': sum(y_fold == 0),\n",
    "    'n': len(y_fold),\n",
    "    'thresholds': threshold\n",
    "})\n",
    "\n",
    "all_coords_rf"
   ]
  },
  {
   "cell_type": "code",
   "execution_count": 334,
   "metadata": {},
   "outputs": [],
   "source": [
    "fold5_threshold_rf = best_threshold\n",
    "fold5_expected_loss_rf = curr_exp_loss\n",
    "\n",
    "all_coords_rf = pd.DataFrame({\n",
    "    'false_pos': false_pos_rate*sum(y_fold == 0),\n",
    "    'true_pos': true_pos_rate*sum(y_fold == 1),\n",
    "    'false_neg': sum(y_fold == 1) - true_pos_rate*sum(y_fold == 1),\n",
    "    'true_neg': sum(y_fold == 0) - false_pos_rate*sum(y_fold == 0),\n",
    "    'pos': sum(y_fold == 1),\n",
    "    'neg': sum(y_fold == 0),\n",
    "    'n': len(y_fold),\n",
    "    'thresholds': threshold\n",
    "})"
   ]
  },
  {
   "cell_type": "code",
   "execution_count": 220,
   "metadata": {},
   "outputs": [],
   "source": [
    "expected_loss_cv['rf_p'] = np.mean(expected_loss)\n",
    "best_thresholds_cv['rf_p'] = np.mean(best_thresholds)"
   ]
  },
  {
   "cell_type": "code",
   "execution_count": 335,
   "metadata": {},
   "outputs": [
    {
     "data": {
      "text/html": [
       "<div>\n",
       "<style scoped>\n",
       "    .dataframe tbody tr th:only-of-type {\n",
       "        vertical-align: middle;\n",
       "    }\n",
       "\n",
       "    .dataframe tbody tr th {\n",
       "        vertical-align: top;\n",
       "    }\n",
       "\n",
       "    .dataframe thead th {\n",
       "        text-align: right;\n",
       "    }\n",
       "</style>\n",
       "<table border=\"1\" class=\"dataframe\">\n",
       "  <thead>\n",
       "    <tr style=\"text-align: right;\">\n",
       "      <th></th>\n",
       "      <th>CV RMSE</th>\n",
       "      <th>CV AUC</th>\n",
       "      <th>Avg of optimal thresholds</th>\n",
       "      <th>Threshold for Fold5</th>\n",
       "      <th>Avg expected loss</th>\n",
       "      <th>Expected loss for Fold5</th>\n",
       "    </tr>\n",
       "  </thead>\n",
       "  <tbody>\n",
       "    <tr>\n",
       "      <th>0</th>\n",
       "      <td>0.242</td>\n",
       "      <td>0.812</td>\n",
       "      <td>0.196</td>\n",
       "      <td>0.001</td>\n",
       "      <td>0.827</td>\n",
       "      <td>0.798</td>\n",
       "    </tr>\n",
       "  </tbody>\n",
       "</table>\n",
       "</div>"
      ],
      "text/plain": [
       "   CV RMSE  CV AUC  Avg of optimal thresholds  Threshold for Fold5  \\\n",
       "0    0.242   0.812                      0.196                0.001   \n",
       "\n",
       "   Avg expected loss  Expected loss for Fold5  \n",
       "0              0.827                    0.798  "
      ]
     },
     "execution_count": 335,
     "metadata": {},
     "output_type": "execute_result"
    }
   ],
   "source": [
    "rf_summary = pd.DataFrame(\n",
    "    {'CV RMSE': [round(CV_RMSE['rf_p'], 3)],\n",
    "     'CV AUC': [round(CV_AUC['rf_p'], 3)],\n",
    "     'Avg of optimal thresholds': [round(best_thresholds_cv['rf_p'], 3)],\n",
    "     'Threshold for Fold5': [round(best_threshold, 3)],\n",
    "     'Avg expected loss': [round(expected_loss_cv['rf_p'], 3)],\n",
    "     'Expected loss for Fold5': [round(curr_exp_loss, 3)]})\n",
    "\n",
    "rf_summary"
   ]
  },
  {
   "cell_type": "code",
   "execution_count": 337,
   "metadata": {},
   "outputs": [
    {
     "data": {
      "image/png": "[encoded data removed]",
      "text/plain": [
       "<Figure size 640x480 with 1 Axes>"
      ]
     },
     "metadata": {
      "image/png": {
       "height": 480,
       "width": 640
      }
     },
     "output_type": "display_data"
    },
    {
     "data": {
      "text/plain": [
       "<Figure Size: (640 x 480)>"
      ]
     },
     "execution_count": 337,
     "metadata": {},
     "output_type": "execute_result"
    }
   ],
   "source": [
    "create_roc_plot_with_optimal(all_coords_rf, fold5_threshold_rf)"
   ]
  },
  {
   "cell_type": "markdown",
   "metadata": {},
   "source": [
    "### Summary for training"
   ]
  },
  {
   "cell_type": "code",
   "execution_count": 344,
   "metadata": {},
   "outputs": [
    {
     "data": {
      "text/html": [
       "<div>\n",
       "<style scoped>\n",
       "    .dataframe tbody tr th:only-of-type {\n",
       "        vertical-align: middle;\n",
       "    }\n",
       "\n",
       "    .dataframe tbody tr th {\n",
       "        vertical-align: top;\n",
       "    }\n",
       "\n",
       "    .dataframe thead th {\n",
       "        text-align: right;\n",
       "    }\n",
       "</style>\n",
       "<table border=\"1\" class=\"dataframe\">\n",
       "  <thead>\n",
       "    <tr style=\"text-align: right;\">\n",
       "      <th></th>\n",
       "      <th>Model</th>\n",
       "      <th>Number of predictors</th>\n",
       "      <th>CV RMSE</th>\n",
       "      <th>CV AUC</th>\n",
       "      <th>CV threshold</th>\n",
       "      <th>CV expected Loss</th>\n",
       "    </tr>\n",
       "  </thead>\n",
       "  <tbody>\n",
       "    <tr>\n",
       "      <th>0</th>\n",
       "      <td>X1</td>\n",
       "      <td>4</td>\n",
       "      <td>0.250575</td>\n",
       "      <td>0.719073</td>\n",
       "      <td>0.143736</td>\n",
       "      <td>0.913575</td>\n",
       "    </tr>\n",
       "    <tr>\n",
       "      <th>1</th>\n",
       "      <td>X2</td>\n",
       "      <td>9</td>\n",
       "      <td>0.249762</td>\n",
       "      <td>0.749591</td>\n",
       "      <td>0.133552</td>\n",
       "      <td>0.896867</td>\n",
       "    </tr>\n",
       "    <tr>\n",
       "      <th>2</th>\n",
       "      <td>X3</td>\n",
       "      <td>36</td>\n",
       "      <td>0.248140</td>\n",
       "      <td>0.761520</td>\n",
       "      <td>0.160504</td>\n",
       "      <td>0.888812</td>\n",
       "    </tr>\n",
       "    <tr>\n",
       "      <th>3</th>\n",
       "      <td>X4</td>\n",
       "      <td>167</td>\n",
       "      <td>0.244824</td>\n",
       "      <td>0.786514</td>\n",
       "      <td>0.155484</td>\n",
       "      <td>0.845549</td>\n",
       "    </tr>\n",
       "    <tr>\n",
       "      <th>4</th>\n",
       "      <td>X5</td>\n",
       "      <td>258</td>\n",
       "      <td>0.259767</td>\n",
       "      <td>0.657734</td>\n",
       "      <td>0.121559</td>\n",
       "      <td>1.028444</td>\n",
       "    </tr>\n",
       "    <tr>\n",
       "      <th>5</th>\n",
       "      <td>LASSO</td>\n",
       "      <td>53</td>\n",
       "      <td>0.244300</td>\n",
       "      <td>0.792296</td>\n",
       "      <td>0.169742</td>\n",
       "      <td>0.830930</td>\n",
       "    </tr>\n",
       "    <tr>\n",
       "      <th>6</th>\n",
       "      <td>rf_p</td>\n",
       "      <td>66</td>\n",
       "      <td>0.242399</td>\n",
       "      <td>0.811911</td>\n",
       "      <td>0.195594</td>\n",
       "      <td>0.827051</td>\n",
       "    </tr>\n",
       "    <tr>\n",
       "      <th>7</th>\n",
       "      <td>gbm_p</td>\n",
       "      <td>66</td>\n",
       "      <td>0.259727</td>\n",
       "      <td>0.793627</td>\n",
       "      <td>0.001038</td>\n",
       "      <td>0.812432</td>\n",
       "    </tr>\n",
       "  </tbody>\n",
       "</table>\n",
       "</div>"
      ],
      "text/plain": [
       "   Model  Number of predictors   CV RMSE    CV AUC  CV threshold  \\\n",
       "0     X1                     4  0.250575  0.719073      0.143736   \n",
       "1     X2                     9  0.249762  0.749591      0.133552   \n",
       "2     X3                    36  0.248140  0.761520      0.160504   \n",
       "3     X4                   167  0.244824  0.786514      0.155484   \n",
       "4     X5                   258  0.259767  0.657734      0.121559   \n",
       "5  LASSO                    53  0.244300  0.792296      0.169742   \n",
       "6   rf_p                    66  0.242399  0.811911      0.195594   \n",
       "7  gbm_p                    66  0.259727  0.793627      0.001038   \n",
       "\n",
       "   CV expected Loss  \n",
       "0          0.913575  \n",
       "1          0.896867  \n",
       "2          0.888812  \n",
       "3          0.845549  \n",
       "4          1.028444  \n",
       "5          0.830930  \n",
       "6          0.827051  \n",
       "7          0.812432  "
      ]
     },
     "execution_count": 344,
     "metadata": {},
     "output_type": "execute_result"
    }
   ],
   "source": [
    "nvars['rf_p'] = len(rfvars.columns)\n",
    "\n",
    "summary_results = pd.DataFrame({\"Model\": list(nvars.keys()),\n",
    "                              \"Number of predictors\": list(nvars.values()),\n",
    "                              \"CV RMSE\": list(CV_RMSE.values()),\n",
    "                              \"CV AUC\": list(CV_AUC.values()),\n",
    "                              \"CV threshold\": list(best_thresholds_cv.values()),\n",
    "                              \"CV expected Loss\": list(expected_loss_cv.values())\n",
    "                               })\n",
    "summary_results"
   ]
  },
  {
   "cell_type": "markdown",
   "metadata": {},
   "source": [
    "**Take model to holdout and estimate RMSE, AUC and expected loss**"
   ]
  },
  {
   "cell_type": "code",
   "execution_count": 221,
   "metadata": {},
   "outputs": [],
   "source": [
    "prob_forest_fit_best = prob_forest_fit.best_estimator_\n",
    "rf_predicted_probabilities_holdout = prob_forest_fit_best.predict_proba(rfvars_holdout)[:,1]\n",
    "rmse_rf = np.sqrt(mean_squared_error(y_holdout, rf_predicted_probabilities_holdout))\n",
    "auc_rf = roc_auc_score(y_holdout, rf_predicted_probabilities_holdout)"
   ]
  },
  {
   "cell_type": "code",
   "execution_count": 338,
   "metadata": {},
   "outputs": [
    {
     "data": {
      "text/plain": [
       "0.21"
      ]
     },
     "execution_count": 338,
     "metadata": {},
     "output_type": "execute_result"
    }
   ],
   "source": [
    "prob_forest_fit_best = prob_forest_fit.best_estimator_\n",
    "rf_predicted_probabilities_holdout = prob_forest_fit_best.predict_proba(rfvars_holdout)[:,1]\n",
    "rmse_rf = np.sqrt(mean_squared_error(y_holdout, rf_predicted_probabilities_holdout))\n",
    "round(rmse_rf, 3)"
   ]
  },
  {
   "cell_type": "markdown",
   "metadata": {},
   "source": [
    "**ROC AUC  on holdout**"
   ]
  },
  {
   "cell_type": "code",
   "execution_count": 222,
   "metadata": {},
   "outputs": [
    {
     "data": {
      "text/plain": [
       "0.842"
      ]
     },
     "execution_count": 222,
     "metadata": {},
     "output_type": "execute_result"
    }
   ],
   "source": [
    "auc_rf = roc_auc_score(y_holdout, rf_predicted_probabilities_holdout)\n",
    "round(auc_rf, 3)"
   ]
  },
  {
   "cell_type": "markdown",
   "metadata": {},
   "source": [
    "**Expected loss on holdout**"
   ]
  },
  {
   "cell_type": "code",
   "execution_count": 369,
   "metadata": {},
   "outputs": [
    {
     "data": {
      "text/plain": [
       "0.5786"
      ]
     },
     "execution_count": 369,
     "metadata": {},
     "output_type": "execute_result"
    }
   ],
   "source": [
    "# Checking id the positive class is above the optimal threshold, if its less than the threshold, it assings a 0\n",
    "holdout_treshold = np.where(\n",
    "    rf_predicted_probabilities_holdout < best_thresholds_cv[\"rf_p\"], 0, 1\n",
    ")\n",
    "\n",
    "# Creating a confusion matrix for the holdout set\n",
    "tn, fp, fn, tp = confusion_matrix(y_holdout, holdout_treshold, labels=[0, 1]).ravel()\n",
    "\n",
    "# Calculating the expected loss for the holdout set\n",
    "expected_loss_holdout = (fp * FP + fn * FN) / len(y_holdout)\n",
    "round(expected_loss_holdout, 4)"
   ]
  },
  {
   "cell_type": "code",
   "execution_count": 370,
   "metadata": {},
   "outputs": [
    {
     "data": {
      "text/html": [
       "<div>\n",
       "<style scoped>\n",
       "    .dataframe tbody tr th:only-of-type {\n",
       "        vertical-align: middle;\n",
       "    }\n",
       "\n",
       "    .dataframe tbody tr th {\n",
       "        vertical-align: top;\n",
       "    }\n",
       "\n",
       "    .dataframe thead th {\n",
       "        text-align: right;\n",
       "    }\n",
       "</style>\n",
       "<table border=\"1\" class=\"dataframe\">\n",
       "  <thead>\n",
       "    <tr style=\"text-align: right;\">\n",
       "      <th></th>\n",
       "      <th>Actul no defaul</th>\n",
       "      <th>Actual default</th>\n",
       "    </tr>\n",
       "  </thead>\n",
       "  <tbody>\n",
       "    <tr>\n",
       "      <th>Predicted no default</th>\n",
       "      <td>931</td>\n",
       "      <td>30</td>\n",
       "    </tr>\n",
       "    <tr>\n",
       "      <th>Predicted default</th>\n",
       "      <td>50</td>\n",
       "      <td>26</td>\n",
       "    </tr>\n",
       "  </tbody>\n",
       "</table>\n",
       "</div>"
      ],
      "text/plain": [
       "                      Actul no defaul  Actual default\n",
       "Predicted no default              931              30\n",
       "Predicted default                  50              26"
      ]
     },
     "execution_count": 370,
     "metadata": {},
     "output_type": "execute_result"
    }
   ],
   "source": [
    "cm_object3 = confusion_matrix(y_holdout, holdout_treshold, labels=[0,1])\n",
    "cm3 = pd.DataFrame(cm_object3, \n",
    "    index=['Actul no defaul', 'Actual default'], \n",
    "    columns=['Predicted no default', 'Predicted default'])\n",
    "cm3.T"
   ]
  },
  {
   "cell_type": "code",
   "execution_count": 376,
   "metadata": {},
   "outputs": [
    {
     "name": "stdout",
     "output_type": "stream",
     "text": [
      "Specificity (sp): 0.9490316004077471\n",
      "Sensitivity (se): 0.4642857142857143\n"
     ]
    }
   ],
   "source": [
    "# Assuming confusion matrix is stored in cm_optimal\n",
    "tn_optimal, fp_optimal, fn_optimal, tp_optimal = cm_object3.ravel()\n",
    "\n",
    "# Calculate specificity (sp) and sensitivity (se)\n",
    "sp_optimal = tn_optimal / (tn_optimal + fp_optimal)\n",
    "se_optimal = tp_optimal / (tp_optimal + fn_optimal)"
   ]
  },
  {
   "cell_type": "code",
   "execution_count": 388,
   "metadata": {},
   "outputs": [
    {
     "data": {
      "image/png": "[encoded data removed]",
      "text/plain": [
       "<Figure size 640x480 with 1 Axes>"
      ]
     },
     "metadata": {
      "image/png": {
       "height": 480,
       "width": 640
      },
      "needs_background": "light"
     },
     "output_type": "display_data"
    },
    {
     "data": {
      "text/plain": [
       "<Figure Size: (640 x 480)>"
      ]
     },
     "execution_count": 388,
     "metadata": {},
     "output_type": "execute_result"
    }
   ],
   "source": [
    "# Assuming `rf_predicted_probabilities_holdout` contains your predicted probabilities for the positive class\n",
    "fpr, tpr, thresholds = roc_curve(y_holdout, rf_predicted_probabilities_holdout)\n",
    "\n",
    "# Calculate the Area Under the Curve (AUC)\n",
    "roc_auc = auc(fpr, tpr)\n",
    "\n",
    "# Assuming confusion matrix is stored in cm_optimal\n",
    "tn_optimal, fp_optimal, fn_optimal, tp_optimal = cm_object3.ravel()\n",
    "\n",
    "# Calculate specificity (sp) and sensitivity (se)\n",
    "sp_optimal = tn_optimal / (tn_optimal + fp_optimal)\n",
    "se_optimal = tp_optimal / (tp_optimal + fn_optimal)\n",
    "\n",
    "# Create a DataFrame for the ROC curve\n",
    "roc_df = pd.DataFrame({'fpr': fpr, 'tpr': tpr})\n",
    "\n",
    "# Find the optimal point\n",
    "optimal_point = (best_thresholds_cv['rf_p'], 1 - np.mean(expected_loss))\n",
    "\n",
    "# Plot ROC curve using ggplot\n",
    "roc_plot = ggplot(roc_df, aes(x='fpr', y='tpr')) + \\\n",
    "    geom_line(color='darkblue', size=1) + \\\n",
    "    geom_point(x=se_optimal, y=sp_optimal, \n",
    "               color='black', size=3, shape='o', alpha=0.7) + \\\n",
    "    annotate(geom = \"text\", x = se_optimal, y = sp_optimal + 0.05,\n",
    "                 label = str(round(sp_optimal, 2)) + ', ' + str(round(se_optimal, 2)), size = 7) + \\\n",
    "    labs(x='False Positive Rate (FPR)', y='True Positive Rate (TPR)', \n",
    "         title='Receiver Operating Characteristic (ROC) Curve', \n",
    "         subtitle='AUC = {:.2f}'.format(roc_auc)) + \\\n",
    "    theme_minimal() \n",
    "\n",
    "roc_plot"
   ]
  },
  {
   "cell_type": "code",
   "execution_count": null,
   "metadata": {},
   "outputs": [],
   "source": []
  },
  {
   "cell_type": "code",
   "execution_count": null,
   "metadata": {},
   "outputs": [],
   "source": []
  },
  {
   "cell_type": "code",
   "execution_count": null,
   "metadata": {},
   "outputs": [],
   "source": []
  },
  {
   "cell_type": "code",
   "execution_count": null,
   "metadata": {},
   "outputs": [],
   "source": []
  },
  {
   "cell_type": "code",
   "execution_count": null,
   "metadata": {},
   "outputs": [],
   "source": []
  },
  {
   "cell_type": "markdown",
   "metadata": {},
   "source": [
    "### ***GBM***"
   ]
  },
  {
   "cell_type": "code",
   "execution_count": 227,
   "metadata": {},
   "outputs": [],
   "source": [
    "numerical_columns = [\n",
    "    'sales_mil', 'd1_sales_mil_log','d1_sales_mil_log_mod','d1_sales_mil_log_mod_sq','curr_assets', 'curr_liab',\n",
    "    'extra_exp', 'extra_inc', 'extra_profit_loss', 'fixed_assets',\n",
    "    'inc_bef_tax', 'intang_assets', 'inventories', 'liq_assets',\n",
    "    'material_exp', 'personnel_exp', 'profit_loss_year',\n",
    "    'share_eq', 'subscribed_cap', 'ceo_age', 'labor_avg_mod', 'age', 'age2','d1_inventories_pl','d1_personnel_exp_pl',\n",
    "    'd1_material_exp_pl','d1_total_assets_bs','d1_intang_assets_bs','d1_inc_bef_tax_pl','d1_extra_inc_pl','total_assets_bs','fixed_assets_bs',\n",
    "    'liq_assets_bs', 'curr_assets_bs', 'share_eq_bs', 'subscribed_cap_bs',\n",
    "       'intang_assets_bs', 'extra_exp_pl', 'extra_inc_pl',\n",
    "       'extra_profit_loss_pl', 'inc_bef_tax_pl', 'inventories_pl',\n",
    "       'material_exp_pl', 'profit_loss_year_pl', 'personnel_exp_pl',\n",
    "]\n",
    "\n",
    "categorical_columns = [\n",
    "    'female', 'flag_high_ceo_age', 'flag_low_ceo_age','flag_miss_ceo_age','ceo_count','flag_low_d1_sales_mil_log','flag_high_d1_sales_mil_log',\n",
    "    'flag_miss_labor_avg', 'foreign_management', 'balsheet_length',\n",
    "    'balsheet_notfullyear', 'new',\n",
    "    'C(m_region_loc)[East]',\n",
    "    'C(m_region_loc)[West]', 'C(urban_m)[2.0]', 'C(urban_m)[3.0]',\"year\",'balsheet_flag'\n",
    "]\n",
    "\n",
    "# Filter columns based on their type\n",
    "numerical_data = rfvars[numerical_columns]\n",
    "categorical_data = rfvars[categorical_columns]"
   ]
  },
  {
   "cell_type": "code",
   "execution_count": 228,
   "metadata": {},
   "outputs": [],
   "source": [
    "from xgboost import XGBClassifier\n",
    "from sklearn.model_selection import GridSearchCV\n",
    "\n",
    "# Assuming XGBoost is the gradient boosting classifier you want to use\n",
    "\n",
    "# Define the parameter grid for XGBoost\n",
    "xgb_param_grid = {\n",
    "    'n_estimators': [100, 500],\n",
    "    'learning_rate': [0.01, 0.1, 0.2],\n",
    "    'max_depth': [3, 5, 7],\n",
    "}\n",
    "\n",
    "# Initialize XGBoost classifier\n",
    "xgb_model = XGBClassifier(random_state=20240205)\n",
    "\n",
    "# Initialize GridSearchCV for XGBoost\n",
    "xgb_grid = GridSearchCV(\n",
    "    xgb_model, \n",
    "    xgb_param_grid, \n",
    "    cv=k, \n",
    "    refit='accuracy',\n",
    "    scoring=['accuracy', 'roc_auc', 'neg_brier_score'], \n",
    "    n_jobs=-1\n",
    ")"
   ]
  },
  {
   "cell_type": "code",
   "execution_count": 229,
   "metadata": {},
   "outputs": [
    {
     "data": {
      "text/plain": [
       "27"
      ]
     },
     "execution_count": 229,
     "metadata": {},
     "output_type": "execute_result"
    }
   ],
   "source": [
    "from sklearn.ensemble import GradientBoostingClassifier\n",
    "gbm = GradientBoostingClassifier(learning_rate=0.1, min_samples_split=20, max_features = 10\n",
    "                                ,n_estimators = 50, random_state=20240205)\n",
    "\n",
    "tune_grid = {\"n_estimators\": [300,350,400], \"max_depth\": [12,13,14],'max_features': [6, 7, 8]}\n",
    "\n",
    "gbm_model_cv = GridSearchCV(\n",
    "    gbm,\n",
    "    tune_grid,\n",
    "    cv=5,\n",
    "    scoring=['accuracy', 'roc_auc', 'neg_brier_score'],\n",
    "    verbose=10,\n",
    "    refit='accuracy',\n",
    "    n_jobs=-1\n",
    ")\n",
    "\n",
    "elements = len(tune_grid['n_estimators'])*len(tune_grid['max_depth'] * len(tune_grid['max_features']))\n",
    "elements"
   ]
  },
  {
   "cell_type": "code",
   "execution_count": 230,
   "metadata": {},
   "outputs": [],
   "source": [
    "from sklearn.preprocessing import OneHotEncoder\n",
    "from sklearn.compose import ColumnTransformer\n",
    "from sklearn.pipeline import Pipeline\n",
    "\n",
    "categorical_encoder = OneHotEncoder(handle_unknown=\"ignore\")\n",
    "\n",
    "preprocessing = ColumnTransformer(\n",
    "    [\n",
    "        (\"cat\", categorical_encoder, categorical_columns),\n",
    "        (\"num\", \"passthrough\", numerical_columns),\n",
    "    ]\n",
    ")\n",
    "\n",
    "gbm_pipe = Pipeline(\n",
    "    [(\"preprocess\", preprocessing), (\"regressor\", gbm_model_cv)], verbose=True\n",
    ")"
   ]
  },
  {
   "cell_type": "code",
   "execution_count": 231,
   "metadata": {},
   "outputs": [
    {
     "name": "stdout",
     "output_type": "stream",
     "text": [
      "Fitting 5 folds for each of 27 candidates, totalling 135 fits\n"
     ]
    },
    {
     "name": "stdout",
     "output_type": "stream",
     "text": [
      "CPU times: total: 13.2 s\n",
      "Wall time: 3min 19s\n"
     ]
    }
   ],
   "source": [
    "%%time\n",
    "gbm_model_fit = gbm_model_cv.fit(rfvars_train, y_train)"
   ]
  },
  {
   "cell_type": "code",
   "execution_count": 232,
   "metadata": {},
   "outputs": [],
   "source": [
    "# accuracy\n",
    "cv_accuracy = np.zeros([elements]) # change \n",
    "for i in range(5):\n",
    "    cv_accuracy = cv_accuracy + gbm_model_fit.cv_results_['split' + str(i) + '_test_accuracy']\n",
    "cv_accuracy = cv_accuracy/5\n",
    "\n",
    "# auc\n",
    "cv_auc = np.zeros([elements])\n",
    "for i in range(5):\n",
    "    cv_auc = cv_auc + gbm_model_fit.cv_results_['split' + str(i) + '_test_roc_auc']\n",
    "cv_auc = cv_auc/5\n",
    "\n",
    "# rmse\n",
    "cv_rmse = np.zeros([elements])\n",
    "for i in range(5):\n",
    "    cv_rmse = cv_rmse +np.sqrt(-1*(gbm_model_fit.cv_results_['split' + str(i) + '_test_neg_brier_score'])).tolist()\n",
    "cv_rmse = cv_rmse/5"
   ]
  },
  {
   "cell_type": "code",
   "execution_count": 233,
   "metadata": {},
   "outputs": [],
   "source": [
    "gbm_cv_results = pd.DataFrame({\n",
    "    'max_features': gbm_model_fit.cv_results_['param_max_features'],\n",
    "    'n_estimators': gbm_model_fit.cv_results_['param_n_estimators'],\n",
    "    'max_depth': gbm_model_fit.cv_results_['param_max_depth'],\n",
    "    'cv_accuracy': cv_accuracy,\n",
    "    'cv_auc': cv_auc,\n",
    "    'cv_rmse': cv_rmse\n",
    "})"
   ]
  },
  {
   "cell_type": "code",
   "execution_count": 234,
   "metadata": {},
   "outputs": [
    {
     "data": {
      "text/html": [
       "<div>\n",
       "<style scoped>\n",
       "    .dataframe tbody tr th:only-of-type {\n",
       "        vertical-align: middle;\n",
       "    }\n",
       "\n",
       "    .dataframe tbody tr th {\n",
       "        vertical-align: top;\n",
       "    }\n",
       "\n",
       "    .dataframe thead th {\n",
       "        text-align: right;\n",
       "    }\n",
       "</style>\n",
       "<table border=\"1\" class=\"dataframe\">\n",
       "  <thead>\n",
       "    <tr style=\"text-align: right;\">\n",
       "      <th></th>\n",
       "      <th>max_features</th>\n",
       "      <th>n_estimators</th>\n",
       "      <th>max_depth</th>\n",
       "      <th>cv_accuracy</th>\n",
       "      <th>cv_auc</th>\n",
       "      <th>cv_rmse</th>\n",
       "    </tr>\n",
       "  </thead>\n",
       "  <tbody>\n",
       "    <tr>\n",
       "      <th>0</th>\n",
       "      <td>6</td>\n",
       "      <td>300</td>\n",
       "      <td>12</td>\n",
       "      <td>0.927797</td>\n",
       "      <td>0.788956</td>\n",
       "      <td>0.260789</td>\n",
       "    </tr>\n",
       "    <tr>\n",
       "      <th>1</th>\n",
       "      <td>6</td>\n",
       "      <td>350</td>\n",
       "      <td>12</td>\n",
       "      <td>0.928195</td>\n",
       "      <td>0.788305</td>\n",
       "      <td>0.261708</td>\n",
       "    </tr>\n",
       "    <tr>\n",
       "      <th>2</th>\n",
       "      <td>6</td>\n",
       "      <td>400</td>\n",
       "      <td>12</td>\n",
       "      <td>0.927996</td>\n",
       "      <td>0.788497</td>\n",
       "      <td>0.262057</td>\n",
       "    </tr>\n",
       "    <tr>\n",
       "      <th>3</th>\n",
       "      <td>7</td>\n",
       "      <td>300</td>\n",
       "      <td>12</td>\n",
       "      <td>0.928593</td>\n",
       "      <td>0.785423</td>\n",
       "      <td>0.260269</td>\n",
       "    </tr>\n",
       "    <tr>\n",
       "      <th>4</th>\n",
       "      <td>7</td>\n",
       "      <td>350</td>\n",
       "      <td>12</td>\n",
       "      <td>0.928195</td>\n",
       "      <td>0.786174</td>\n",
       "      <td>0.261238</td>\n",
       "    </tr>\n",
       "    <tr>\n",
       "      <th>5</th>\n",
       "      <td>7</td>\n",
       "      <td>400</td>\n",
       "      <td>12</td>\n",
       "      <td>0.927996</td>\n",
       "      <td>0.786952</td>\n",
       "      <td>0.262095</td>\n",
       "    </tr>\n",
       "    <tr>\n",
       "      <th>6</th>\n",
       "      <td>8</td>\n",
       "      <td>300</td>\n",
       "      <td>12</td>\n",
       "      <td>0.927698</td>\n",
       "      <td>0.789507</td>\n",
       "      <td>0.262080</td>\n",
       "    </tr>\n",
       "    <tr>\n",
       "      <th>7</th>\n",
       "      <td>8</td>\n",
       "      <td>350</td>\n",
       "      <td>12</td>\n",
       "      <td>0.926803</td>\n",
       "      <td>0.789297</td>\n",
       "      <td>0.263282</td>\n",
       "    </tr>\n",
       "    <tr>\n",
       "      <th>8</th>\n",
       "      <td>8</td>\n",
       "      <td>400</td>\n",
       "      <td>12</td>\n",
       "      <td>0.926902</td>\n",
       "      <td>0.788144</td>\n",
       "      <td>0.263821</td>\n",
       "    </tr>\n",
       "    <tr>\n",
       "      <th>9</th>\n",
       "      <td>6</td>\n",
       "      <td>300</td>\n",
       "      <td>13</td>\n",
       "      <td>0.928095</td>\n",
       "      <td>0.790735</td>\n",
       "      <td>0.261812</td>\n",
       "    </tr>\n",
       "    <tr>\n",
       "      <th>10</th>\n",
       "      <td>6</td>\n",
       "      <td>350</td>\n",
       "      <td>13</td>\n",
       "      <td>0.927698</td>\n",
       "      <td>0.791754</td>\n",
       "      <td>0.262808</td>\n",
       "    </tr>\n",
       "    <tr>\n",
       "      <th>11</th>\n",
       "      <td>6</td>\n",
       "      <td>400</td>\n",
       "      <td>13</td>\n",
       "      <td>0.927499</td>\n",
       "      <td>0.790600</td>\n",
       "      <td>0.263810</td>\n",
       "    </tr>\n",
       "    <tr>\n",
       "      <th>12</th>\n",
       "      <td>7</td>\n",
       "      <td>300</td>\n",
       "      <td>13</td>\n",
       "      <td>0.929388</td>\n",
       "      <td>0.793627</td>\n",
       "      <td>0.259727</td>\n",
       "    </tr>\n",
       "    <tr>\n",
       "      <th>13</th>\n",
       "      <td>7</td>\n",
       "      <td>350</td>\n",
       "      <td>13</td>\n",
       "      <td>0.928991</td>\n",
       "      <td>0.794753</td>\n",
       "      <td>0.261004</td>\n",
       "    </tr>\n",
       "    <tr>\n",
       "      <th>14</th>\n",
       "      <td>7</td>\n",
       "      <td>400</td>\n",
       "      <td>13</td>\n",
       "      <td>0.928294</td>\n",
       "      <td>0.792792</td>\n",
       "      <td>0.261979</td>\n",
       "    </tr>\n",
       "    <tr>\n",
       "      <th>15</th>\n",
       "      <td>8</td>\n",
       "      <td>300</td>\n",
       "      <td>13</td>\n",
       "      <td>0.928195</td>\n",
       "      <td>0.795745</td>\n",
       "      <td>0.262395</td>\n",
       "    </tr>\n",
       "    <tr>\n",
       "      <th>16</th>\n",
       "      <td>8</td>\n",
       "      <td>350</td>\n",
       "      <td>13</td>\n",
       "      <td>0.928294</td>\n",
       "      <td>0.795043</td>\n",
       "      <td>0.263011</td>\n",
       "    </tr>\n",
       "    <tr>\n",
       "      <th>17</th>\n",
       "      <td>8</td>\n",
       "      <td>400</td>\n",
       "      <td>13</td>\n",
       "      <td>0.928095</td>\n",
       "      <td>0.794254</td>\n",
       "      <td>0.263594</td>\n",
       "    </tr>\n",
       "    <tr>\n",
       "      <th>18</th>\n",
       "      <td>6</td>\n",
       "      <td>300</td>\n",
       "      <td>14</td>\n",
       "      <td>0.929388</td>\n",
       "      <td>0.792570</td>\n",
       "      <td>0.260439</td>\n",
       "    </tr>\n",
       "    <tr>\n",
       "      <th>19</th>\n",
       "      <td>6</td>\n",
       "      <td>350</td>\n",
       "      <td>14</td>\n",
       "      <td>0.928891</td>\n",
       "      <td>0.793327</td>\n",
       "      <td>0.261289</td>\n",
       "    </tr>\n",
       "    <tr>\n",
       "      <th>20</th>\n",
       "      <td>6</td>\n",
       "      <td>400</td>\n",
       "      <td>14</td>\n",
       "      <td>0.929189</td>\n",
       "      <td>0.794853</td>\n",
       "      <td>0.261962</td>\n",
       "    </tr>\n",
       "    <tr>\n",
       "      <th>21</th>\n",
       "      <td>7</td>\n",
       "      <td>300</td>\n",
       "      <td>14</td>\n",
       "      <td>0.928593</td>\n",
       "      <td>0.789355</td>\n",
       "      <td>0.261340</td>\n",
       "    </tr>\n",
       "    <tr>\n",
       "      <th>22</th>\n",
       "      <td>7</td>\n",
       "      <td>350</td>\n",
       "      <td>14</td>\n",
       "      <td>0.928394</td>\n",
       "      <td>0.789850</td>\n",
       "      <td>0.262367</td>\n",
       "    </tr>\n",
       "    <tr>\n",
       "      <th>23</th>\n",
       "      <td>7</td>\n",
       "      <td>400</td>\n",
       "      <td>14</td>\n",
       "      <td>0.927797</td>\n",
       "      <td>0.790508</td>\n",
       "      <td>0.263476</td>\n",
       "    </tr>\n",
       "    <tr>\n",
       "      <th>24</th>\n",
       "      <td>8</td>\n",
       "      <td>300</td>\n",
       "      <td>14</td>\n",
       "      <td>0.927797</td>\n",
       "      <td>0.789274</td>\n",
       "      <td>0.262174</td>\n",
       "    </tr>\n",
       "    <tr>\n",
       "      <th>25</th>\n",
       "      <td>8</td>\n",
       "      <td>350</td>\n",
       "      <td>14</td>\n",
       "      <td>0.927797</td>\n",
       "      <td>0.789303</td>\n",
       "      <td>0.262880</td>\n",
       "    </tr>\n",
       "    <tr>\n",
       "      <th>26</th>\n",
       "      <td>8</td>\n",
       "      <td>400</td>\n",
       "      <td>14</td>\n",
       "      <td>0.927897</td>\n",
       "      <td>0.790249</td>\n",
       "      <td>0.263192</td>\n",
       "    </tr>\n",
       "  </tbody>\n",
       "</table>\n",
       "</div>"
      ],
      "text/plain": [
       "   max_features n_estimators max_depth  cv_accuracy    cv_auc   cv_rmse\n",
       "0             6          300        12     0.927797  0.788956  0.260789\n",
       "1             6          350        12     0.928195  0.788305  0.261708\n",
       "2             6          400        12     0.927996  0.788497  0.262057\n",
       "3             7          300        12     0.928593  0.785423  0.260269\n",
       "4             7          350        12     0.928195  0.786174  0.261238\n",
       "5             7          400        12     0.927996  0.786952  0.262095\n",
       "6             8          300        12     0.927698  0.789507  0.262080\n",
       "7             8          350        12     0.926803  0.789297  0.263282\n",
       "8             8          400        12     0.926902  0.788144  0.263821\n",
       "9             6          300        13     0.928095  0.790735  0.261812\n",
       "10            6          350        13     0.927698  0.791754  0.262808\n",
       "11            6          400        13     0.927499  0.790600  0.263810\n",
       "12            7          300        13     0.929388  0.793627  0.259727\n",
       "13            7          350        13     0.928991  0.794753  0.261004\n",
       "14            7          400        13     0.928294  0.792792  0.261979\n",
       "15            8          300        13     0.928195  0.795745  0.262395\n",
       "16            8          350        13     0.928294  0.795043  0.263011\n",
       "17            8          400        13     0.928095  0.794254  0.263594\n",
       "18            6          300        14     0.929388  0.792570  0.260439\n",
       "19            6          350        14     0.928891  0.793327  0.261289\n",
       "20            6          400        14     0.929189  0.794853  0.261962\n",
       "21            7          300        14     0.928593  0.789355  0.261340\n",
       "22            7          350        14     0.928394  0.789850  0.262367\n",
       "23            7          400        14     0.927797  0.790508  0.263476\n",
       "24            8          300        14     0.927797  0.789274  0.262174\n",
       "25            8          350        14     0.927797  0.789303  0.262880\n",
       "26            8          400        14     0.927897  0.790249  0.263192"
      ]
     },
     "execution_count": 234,
     "metadata": {},
     "output_type": "execute_result"
    }
   ],
   "source": [
    "gbm_cv_results"
   ]
  },
  {
   "cell_type": "code",
   "execution_count": 235,
   "metadata": {},
   "outputs": [
    {
     "data": {
      "text/plain": [
       "{'max_depth': 13, 'max_features': 7, 'n_estimators': 300}"
      ]
     },
     "execution_count": 235,
     "metadata": {},
     "output_type": "execute_result"
    }
   ],
   "source": [
    "best_max_features = gbm_model_fit.best_params_['max_features']\n",
    "best_n_estimators = gbm_model_fit.best_params_['n_estimators']\n",
    "best_param_max_depth = gbm_model_fit.best_params_['max_depth']\n",
    "gbm_model_fit.best_params_"
   ]
  },
  {
   "cell_type": "code",
   "execution_count": 236,
   "metadata": {},
   "outputs": [],
   "source": [
    "gbm_best_results = gbm_cv_results[\n",
    "    (gbm_cv_results.max_features == best_max_features) & \n",
    "    (gbm_cv_results.n_estimators == best_n_estimators) & \n",
    "    (gbm_cv_results.max_depth == best_param_max_depth)]\n",
    "gbm_best_results_index = gbm_best_results.index.values[0]\n",
    "\n",
    "CV_RMSE['gbm_p'] = gbm_best_results.cv_rmse.values[0]\n",
    "CV_AUC['gbm_p'] = gbm_best_results.cv_auc.values[0]"
   ]
  },
  {
   "cell_type": "code",
   "execution_count": 237,
   "metadata": {},
   "outputs": [],
   "source": [
    "CV_RMSE_folds_gbm_p = list()\n",
    "\n",
    "for i in range(5):\n",
    "    rmse = np.sqrt(-1*(gbm_model_fit.cv_results_['split' + str(i) + '_test_neg_brier_score'])).tolist()[gbm_best_results_index]\n",
    "    CV_RMSE_folds_gbm_p.append(rmse)\n",
    "\n",
    "CV_RMSE_folds['gbm_p'] = CV_RMSE_folds_gbm_p\n",
    "\n",
    "CV_AUC_folds_gbm_p = list()\n",
    "\n",
    "for i in range(5):\n",
    "    rmse = gbm_model_fit.cv_results_['split' + str(i) + '_test_roc_auc'][gbm_best_results_index]\n",
    "    CV_AUC_folds_gbm_p.append(rmse)\n",
    "\n",
    "CV_AUC_folds['gbm_p'] = CV_AUC_folds_gbm_p"
   ]
  },
  {
   "cell_type": "code",
   "execution_count": 238,
   "metadata": {},
   "outputs": [
    {
     "data": {
      "text/html": [
       "<div>\n",
       "<style scoped>\n",
       "    .dataframe tbody tr th:only-of-type {\n",
       "        vertical-align: middle;\n",
       "    }\n",
       "\n",
       "    .dataframe tbody tr th {\n",
       "        vertical-align: top;\n",
       "    }\n",
       "\n",
       "    .dataframe thead th {\n",
       "        text-align: right;\n",
       "    }\n",
       "</style>\n",
       "<table border=\"1\" class=\"dataframe\">\n",
       "  <thead>\n",
       "    <tr style=\"text-align: right;\">\n",
       "      <th></th>\n",
       "      <th>X1</th>\n",
       "      <th>X2</th>\n",
       "      <th>X3</th>\n",
       "      <th>X4</th>\n",
       "      <th>X5</th>\n",
       "      <th>LASSO</th>\n",
       "      <th>gbm_p</th>\n",
       "    </tr>\n",
       "  </thead>\n",
       "  <tbody>\n",
       "    <tr>\n",
       "      <th>0</th>\n",
       "      <td>0.699132</td>\n",
       "      <td>0.744589</td>\n",
       "      <td>0.765736</td>\n",
       "      <td>0.784017</td>\n",
       "      <td>0.655584</td>\n",
       "      <td>0.784930</td>\n",
       "      <td>0.725943</td>\n",
       "    </tr>\n",
       "    <tr>\n",
       "      <th>1</th>\n",
       "      <td>0.720217</td>\n",
       "      <td>0.765142</td>\n",
       "      <td>0.774147</td>\n",
       "      <td>0.807505</td>\n",
       "      <td>0.656858</td>\n",
       "      <td>0.820516</td>\n",
       "      <td>0.778376</td>\n",
       "    </tr>\n",
       "    <tr>\n",
       "      <th>2</th>\n",
       "      <td>0.708698</td>\n",
       "      <td>0.731554</td>\n",
       "      <td>0.749548</td>\n",
       "      <td>0.776559</td>\n",
       "      <td>0.698597</td>\n",
       "      <td>0.780665</td>\n",
       "      <td>0.797473</td>\n",
       "    </tr>\n",
       "    <tr>\n",
       "      <th>3</th>\n",
       "      <td>0.732501</td>\n",
       "      <td>0.765499</td>\n",
       "      <td>0.765599</td>\n",
       "      <td>0.794254</td>\n",
       "      <td>0.637836</td>\n",
       "      <td>0.801541</td>\n",
       "      <td>0.834833</td>\n",
       "    </tr>\n",
       "    <tr>\n",
       "      <th>4</th>\n",
       "      <td>0.734814</td>\n",
       "      <td>0.741170</td>\n",
       "      <td>0.752568</td>\n",
       "      <td>0.770236</td>\n",
       "      <td>0.639795</td>\n",
       "      <td>0.773828</td>\n",
       "      <td>0.831509</td>\n",
       "    </tr>\n",
       "  </tbody>\n",
       "</table>\n",
       "</div>"
      ],
      "text/plain": [
       "         X1        X2        X3        X4        X5     LASSO     gbm_p\n",
       "0  0.699132  0.744589  0.765736  0.784017  0.655584  0.784930  0.725943\n",
       "1  0.720217  0.765142  0.774147  0.807505  0.656858  0.820516  0.778376\n",
       "2  0.708698  0.731554  0.749548  0.776559  0.698597  0.780665  0.797473\n",
       "3  0.732501  0.765499  0.765599  0.794254  0.637836  0.801541  0.834833\n",
       "4  0.734814  0.741170  0.752568  0.770236  0.639795  0.773828  0.831509"
      ]
     },
     "execution_count": 238,
     "metadata": {},
     "output_type": "execute_result"
    }
   ],
   "source": [
    "pd.DataFrame(CV_AUC_folds)"
   ]
  },
  {
   "cell_type": "code",
   "execution_count": 239,
   "metadata": {},
   "outputs": [],
   "source": [
    "best_thresholds = list()\n",
    "expected_loss = list()\n",
    "\n",
    "fold = 0\n",
    "for train_index, test_index in k.split(rfvars_train):\n",
    "    X_fold = rfvars_train.iloc[test_index,:]\n",
    "    y_fold = y_train.iloc[test_index]\n",
    "    \n",
    "    X_fold_train = rfvars_train.iloc[train_index,:]\n",
    "    y_fold_train = y_train.iloc[train_index]\n",
    "    \n",
    "\n",
    "\n",
    "    prob_forest_best = GradientBoostingClassifier(learning_rate=0.1,\n",
    "        min_samples_split=20,\n",
    "        max_features = best_max_features,\n",
    "        n_estimators = best_n_estimators,\n",
    "        max_depth = best_param_max_depth,\n",
    "        criterion = 'friedman_mse',\n",
    "        random_state=20240205)\n",
    "\n",
    "    \n",
    "    prob_forest_best_fold = prob_forest_best.fit(X_fold_train, y_fold_train)\n",
    "    pred_fold = prob_forest_best_fold.predict_proba(X_fold)[:,1]\n",
    "\n",
    "    false_pos_rate, true_pos_rate, threshold = roc_curve(y_fold, pred_fold)\n",
    "    \n",
    "    best_threshold = sorted(\n",
    "        list(\n",
    "            zip(\n",
    "                np.abs(\n",
    "                    true_pos_rate + (1 - prevelance)/(cost * prevelance)*(1-false_pos_rate)\n",
    "                ),\n",
    "                threshold\n",
    "            )\n",
    "        ), \n",
    "        key=lambda x: x[0], reverse=True)[0][1]\n",
    "    \n",
    "    best_thresholds.append(best_threshold)\n",
    "    \n",
    "    threshold_prediction = np.where(pred_fold < best_threshold, 0, 1)\n",
    "    tn, fp, fn, tp = confusion_matrix(y_fold, threshold_prediction, labels=[0,1]).ravel()\n",
    "    curr_exp_loss = (fp*FP + fn*FN)/len(y_fold)\n",
    "    expected_loss.append(curr_exp_loss)"
   ]
  },
  {
   "cell_type": "code",
   "execution_count": 240,
   "metadata": {},
   "outputs": [],
   "source": [
    "expected_loss_cv['gbm_p'] = np.mean(expected_loss)\n",
    "best_thresholds_cv['gbm_p'] = np.mean(best_thresholds)"
   ]
  },
  {
   "cell_type": "code",
   "execution_count": 241,
   "metadata": {},
   "outputs": [
    {
     "data": {
      "text/plain": [
       "0.222"
      ]
     },
     "execution_count": 241,
     "metadata": {},
     "output_type": "execute_result"
    }
   ],
   "source": [
    "prob_gbm_fit_best = gbm_model_fit.best_estimator_\n",
    "gbm_predicted_probabilities_holdout = gbm_model_fit.predict_proba(rfvars_holdout)[:,1]\n",
    "rmse_gbm = np.sqrt(mean_squared_error(y_holdout, gbm_predicted_probabilities_holdout))\n",
    "round(rmse_gbm, 3)"
   ]
  },
  {
   "cell_type": "code",
   "execution_count": 242,
   "metadata": {},
   "outputs": [
    {
     "data": {
      "text/plain": [
       "0.842"
      ]
     },
     "execution_count": 242,
     "metadata": {},
     "output_type": "execute_result"
    }
   ],
   "source": [
    "auc_gbm = roc_auc_score(y_holdout, gbm_predicted_probabilities_holdout)\n",
    "round(auc_rf, 3)"
   ]
  },
  {
   "cell_type": "code",
   "execution_count": 243,
   "metadata": {},
   "outputs": [
    {
     "data": {
      "text/plain": [
       "0.628"
      ]
     },
     "execution_count": 243,
     "metadata": {},
     "output_type": "execute_result"
    }
   ],
   "source": [
    "holdout_treshold = np.where(gbm_predicted_probabilities_holdout < best_thresholds_cv['gbm_p'], 0, 1)\n",
    "tn, fp, fn, tp = confusion_matrix(y_holdout, holdout_treshold, labels=[0,1]).ravel()\n",
    "expected_loss_holdout = (fp*FP + fn*FN)/len(y_holdout)\n",
    "round(expected_loss_holdout, 3)"
   ]
  },
  {
   "cell_type": "code",
   "execution_count": 247,
   "metadata": {},
   "outputs": [
    {
     "data": {
      "text/html": [
       "<div>\n",
       "<style scoped>\n",
       "    .dataframe tbody tr th:only-of-type {\n",
       "        vertical-align: middle;\n",
       "    }\n",
       "\n",
       "    .dataframe tbody tr th {\n",
       "        vertical-align: top;\n",
       "    }\n",
       "\n",
       "    .dataframe thead th {\n",
       "        text-align: right;\n",
       "    }\n",
       "</style>\n",
       "<table border=\"1\" class=\"dataframe\">\n",
       "  <thead>\n",
       "    <tr style=\"text-align: right;\">\n",
       "      <th></th>\n",
       "      <th>Actul no defaul</th>\n",
       "      <th>Actual default</th>\n",
       "    </tr>\n",
       "  </thead>\n",
       "  <tbody>\n",
       "    <tr>\n",
       "      <th>Predicted no default</th>\n",
       "      <td>939</td>\n",
       "      <td>35</td>\n",
       "    </tr>\n",
       "    <tr>\n",
       "      <th>Predicted default</th>\n",
       "      <td>42</td>\n",
       "      <td>21</td>\n",
       "    </tr>\n",
       "  </tbody>\n",
       "</table>\n",
       "</div>"
      ],
      "text/plain": [
       "                      Actul no defaul  Actual default\n",
       "Predicted no default              939              35\n",
       "Predicted default                  42              21"
      ]
     },
     "execution_count": 247,
     "metadata": {},
     "output_type": "execute_result"
    }
   ],
   "source": [
    "cm_object3 = confusion_matrix(y_holdout, holdout_treshold, labels=[0,1])\n",
    "cm3 = pd.DataFrame(cm_object3, \n",
    "    index=['Actul no defaul', 'Actual default'], \n",
    "    columns=['Predicted no default', 'Predicted default'])\n",
    "cm3.T"
   ]
  },
  {
   "cell_type": "code",
   "execution_count": 244,
   "metadata": {},
   "outputs": [],
   "source": [
    "nvars['gbm_p'] = len(rfvars.columns)"
   ]
  },
  {
   "cell_type": "code",
   "execution_count": 245,
   "metadata": {},
   "outputs": [],
   "source": [
    "summary_results = pd.DataFrame({\"Model\": list(nvars.keys()),\n",
    "                              \"Number of predictors\": list(nvars.values()),\n",
    "                              \"CV RMSE\": list(CV_RMSE.values()),\n",
    "                              \"CV AUC\": list(CV_AUC.values()),\n",
    "                              \"CV threshold\": list(best_thresholds_cv.values()),\n",
    "                              \"CV expected Loss\": list(expected_loss_cv.values())\n",
    "                               })"
   ]
  },
  {
   "cell_type": "code",
   "execution_count": 246,
   "metadata": {},
   "outputs": [
    {
     "data": {
      "text/html": [
       "<div>\n",
       "<style scoped>\n",
       "    .dataframe tbody tr th:only-of-type {\n",
       "        vertical-align: middle;\n",
       "    }\n",
       "\n",
       "    .dataframe tbody tr th {\n",
       "        vertical-align: top;\n",
       "    }\n",
       "\n",
       "    .dataframe thead th {\n",
       "        text-align: right;\n",
       "    }\n",
       "</style>\n",
       "<table border=\"1\" class=\"dataframe\">\n",
       "  <thead>\n",
       "    <tr style=\"text-align: right;\">\n",
       "      <th></th>\n",
       "      <th>Model</th>\n",
       "      <th>Number of predictors</th>\n",
       "      <th>CV RMSE</th>\n",
       "      <th>CV AUC</th>\n",
       "      <th>CV threshold</th>\n",
       "      <th>CV expected Loss</th>\n",
       "    </tr>\n",
       "  </thead>\n",
       "  <tbody>\n",
       "    <tr>\n",
       "      <th>0</th>\n",
       "      <td>X1</td>\n",
       "      <td>4</td>\n",
       "      <td>0.250575</td>\n",
       "      <td>0.719073</td>\n",
       "      <td>0.143736</td>\n",
       "      <td>0.913575</td>\n",
       "    </tr>\n",
       "    <tr>\n",
       "      <th>1</th>\n",
       "      <td>X2</td>\n",
       "      <td>9</td>\n",
       "      <td>0.249762</td>\n",
       "      <td>0.749591</td>\n",
       "      <td>0.133552</td>\n",
       "      <td>0.896867</td>\n",
       "    </tr>\n",
       "    <tr>\n",
       "      <th>2</th>\n",
       "      <td>X3</td>\n",
       "      <td>36</td>\n",
       "      <td>0.248140</td>\n",
       "      <td>0.761520</td>\n",
       "      <td>0.160504</td>\n",
       "      <td>0.888812</td>\n",
       "    </tr>\n",
       "    <tr>\n",
       "      <th>3</th>\n",
       "      <td>X4</td>\n",
       "      <td>167</td>\n",
       "      <td>0.244824</td>\n",
       "      <td>0.786514</td>\n",
       "      <td>0.155484</td>\n",
       "      <td>0.845549</td>\n",
       "    </tr>\n",
       "    <tr>\n",
       "      <th>4</th>\n",
       "      <td>X5</td>\n",
       "      <td>258</td>\n",
       "      <td>0.259767</td>\n",
       "      <td>0.657734</td>\n",
       "      <td>0.121559</td>\n",
       "      <td>1.028444</td>\n",
       "    </tr>\n",
       "    <tr>\n",
       "      <th>5</th>\n",
       "      <td>LASSO</td>\n",
       "      <td>53</td>\n",
       "      <td>0.244300</td>\n",
       "      <td>0.792296</td>\n",
       "      <td>0.169742</td>\n",
       "      <td>0.830930</td>\n",
       "    </tr>\n",
       "    <tr>\n",
       "      <th>6</th>\n",
       "      <td>rf_p</td>\n",
       "      <td>66</td>\n",
       "      <td>0.242399</td>\n",
       "      <td>0.811911</td>\n",
       "      <td>0.195594</td>\n",
       "      <td>0.827051</td>\n",
       "    </tr>\n",
       "    <tr>\n",
       "      <th>7</th>\n",
       "      <td>gbm_p</td>\n",
       "      <td>66</td>\n",
       "      <td>0.259727</td>\n",
       "      <td>0.793627</td>\n",
       "      <td>0.001038</td>\n",
       "      <td>0.812432</td>\n",
       "    </tr>\n",
       "  </tbody>\n",
       "</table>\n",
       "</div>"
      ],
      "text/plain": [
       "   Model  Number of predictors   CV RMSE    CV AUC  CV threshold  \\\n",
       "0     X1                     4  0.250575  0.719073      0.143736   \n",
       "1     X2                     9  0.249762  0.749591      0.133552   \n",
       "2     X3                    36  0.248140  0.761520      0.160504   \n",
       "3     X4                   167  0.244824  0.786514      0.155484   \n",
       "4     X5                   258  0.259767  0.657734      0.121559   \n",
       "5  LASSO                    53  0.244300  0.792296      0.169742   \n",
       "6   rf_p                    66  0.242399  0.811911      0.195594   \n",
       "7  gbm_p                    66  0.259727  0.793627      0.001038   \n",
       "\n",
       "   CV expected Loss  \n",
       "0          0.913575  \n",
       "1          0.896867  \n",
       "2          0.888812  \n",
       "3          0.845549  \n",
       "4          1.028444  \n",
       "5          0.830930  \n",
       "6          0.827051  \n",
       "7          0.812432  "
      ]
     },
     "execution_count": 246,
     "metadata": {},
     "output_type": "execute_result"
    }
   ],
   "source": [
    "summary_results"
   ]
  },
  {
   "cell_type": "code",
   "execution_count": null,
   "metadata": {},
   "outputs": [],
   "source": []
  },
  {
   "cell_type": "code",
   "execution_count": null,
   "metadata": {},
   "outputs": [],
   "source": []
  }
 ],
 "metadata": {
  "kernelspec": {
   "display_name": "base",
   "language": "python",
   "name": "python3"
  },
  "language_info": {
   "codemirror_mode": {
    "name": "ipython",
    "version": 3
   },
   "file_extension": ".py",
   "mimetype": "text/x-python",
   "name": "python",
   "nbconvert_exporter": "python",
   "pygments_lexer": "ipython3",
   "version": "3.11.4"
  }
 },
 "nbformat": 4,
 "nbformat_minor": 2
}
