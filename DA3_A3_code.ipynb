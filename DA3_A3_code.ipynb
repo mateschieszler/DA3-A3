{
 "cells": [
  {
   "cell_type": "markdown",
   "metadata": {},
   "source": [
    "# DA3-A3 \n",
    "## Parker & Co. -1\n",
    "Peter Szilvasi,\n",
    "Máté Schieszler "
   ]
  },
  {
   "cell_type": "code",
   "execution_count": 98,
   "metadata": {},
   "outputs": [],
   "source": [
    "import pandas as pd\n",
    "import datetime\n",
    "import numpy as np"
   ]
  },
  {
   "cell_type": "code",
   "execution_count": 3,
   "metadata": {},
   "outputs": [],
   "source": [
    "original_data = pd.read_csv('https://raw.githubusercontent.com/mateschieszler/DA3-A3/main/cs_bisnode_panel.csv')"
   ]
  },
  {
   "cell_type": "markdown",
   "metadata": {},
   "source": [
    "# Construction of the holdout set\n",
    "\n",
    "We are only interested in predicting default for ‘ind2 == 26’, which is the selected industry, and the\n",
    "firm is a small or medium enterprise (SME). Thus, yearly sales in 2014 was between 1000 EUR and 10\n",
    "million EUR.\n",
    "\n",
    "Existed in 2014 (sales > 0), but did not exists in 2015 (sales is 0 or missing)\n",
    "\n",
    "• If you do the sample design properly, you have an overall of 1037 firms. 56 firms defaulted, and 981\n",
    "stayed alive. The average sales of the firms is 0.4902 million EUR, with the minimum of 0.00107 million\n",
    "EUR and 9.57648 million EUR."
   ]
  },
  {
   "cell_type": "code",
   "execution_count": 115,
   "metadata": {},
   "outputs": [],
   "source": [
    "# copy original so we don't have to reload it every time (it takes more than 10s)\n",
    "data = original_data.copy()"
   ]
  },
  {
   "cell_type": "code",
   "execution_count": 116,
   "metadata": {},
   "outputs": [
    {
     "data": {
      "text/plain": [
       "(14877, 48)"
      ]
     },
     "execution_count": 116,
     "metadata": {},
     "output_type": "execute_result"
    }
   ],
   "source": [
    "# filter out ind2 != 26\n",
    "data = data.loc[data['ind2'] == 26]\n",
    "data['sales'].fillna(0, inplace=True)\n",
    "data.shape"
   ]
  },
  {
   "cell_type": "code",
   "execution_count": 117,
   "metadata": {},
   "outputs": [],
   "source": [
    "# add all missing year and comp_id combinations -\n",
    "# originally missing combinations will have NAs in all other columns\n",
    "data = (\n",
    "    data.set_index([\"year\", \"comp_id\"])\n",
    "    .unstack(fill_value=\"toReplace\")\n",
    "    .stack()\n",
    "    .reset_index()\n",
    ")\n",
    "data = data.replace(\"toReplace\", np.nan)"
   ]
  },
  {
   "cell_type": "code",
   "execution_count": 118,
   "metadata": {},
   "outputs": [],
   "source": [
    "# generate status_alive; if sales larger than zero and not-NA, then firm is alive\n",
    "data[\"status_alive\"] = (data[\"sales\"] > 0 & (False == data[\"sales\"].isna())).astype(int)\n",
    "\n",
    "# defaults in two years if there are sales in this year but no sales two years later\n",
    "# Status_in_two_years: data.groupby('comp_id')['status_alive'].shift(-2)\n",
    "data[\"default\"] = (\n",
    "    (data[\"status_alive\"] == 1)\n",
    "    & (data.groupby(\"comp_id\")[\"status_alive\"].shift(-1) == 0)\n",
    ").astype(int)"
   ]
  },
  {
   "cell_type": "code",
   "execution_count": 119,
   "metadata": {},
   "outputs": [
    {
     "name": "stdout",
     "output_type": "stream",
     "text": [
      "Total firms in holdout set: 1037\n",
      "Number of defaulted firms: 56\n",
      "Number of firms that stayed alive: 981\n",
      "Average sales of the firms: 490202.21792682\n",
      "Minimum sales: 1070.370361328125\n",
      "Maximum sales: 9576485.0\n"
     ]
    }
   ],
   "source": [
    "holdout_set = data.loc[(data['year'] == 2014) & (data['sales'] >= 1000) & (data['sales'] <= 10000000)]\n",
    "\n",
    "# Display information about the resulting holdout set\n",
    "print(\"Total firms in holdout set:\", len(holdout_set))\n",
    "print(\"Number of defaulted firms:\", len(holdout_set[holdout_set['default'] == 1]))\n",
    "print(\"Number of firms that stayed alive:\", len(holdout_set[holdout_set['default'] == 0]))  # Since all firms meet the condition\n",
    "print(\"Average sales of the firms:\", holdout_set['sales'].mean())\n",
    "print(\"Minimum sales:\", holdout_set['sales'].min())\n",
    "print(\"Maximum sales:\", holdout_set['sales'].max())"
   ]
  },
  {
   "cell_type": "code",
   "execution_count": 120,
   "metadata": {},
   "outputs": [
    {
     "data": {
      "text/plain": [
       "(21948, 50)"
      ]
     },
     "execution_count": 120,
     "metadata": {},
     "output_type": "execute_result"
    }
   ],
   "source": [
    "data.shape"
   ]
  },
  {
   "cell_type": "code",
   "execution_count": 121,
   "metadata": {},
   "outputs": [],
   "source": [
    "# with this -> data = working set\n",
    "data = data.drop(holdout_set.index)"
   ]
  },
  {
   "cell_type": "markdown",
   "metadata": {},
   "source": [
    "# Data Exploration"
   ]
  },
  {
   "cell_type": "code",
   "execution_count": 106,
   "metadata": {},
   "outputs": [
    {
     "data": {
      "text/plain": [
       "(20911, 50)"
      ]
     },
     "execution_count": 106,
     "metadata": {},
     "output_type": "execute_result"
    }
   ],
   "source": [
    "data.shape"
   ]
  },
  {
   "cell_type": "code",
   "execution_count": null,
   "metadata": {},
   "outputs": [],
   "source": []
  }
 ],
 "metadata": {
  "kernelspec": {
   "display_name": "base",
   "language": "python",
   "name": "python3"
  },
  "language_info": {
   "codemirror_mode": {
    "name": "ipython",
    "version": 3
   },
   "file_extension": ".py",
   "mimetype": "text/x-python",
   "name": "python",
   "nbconvert_exporter": "python",
   "pygments_lexer": "ipython3",
   "version": "3.11.4"
  }
 },
 "nbformat": 4,
 "nbformat_minor": 2
}
