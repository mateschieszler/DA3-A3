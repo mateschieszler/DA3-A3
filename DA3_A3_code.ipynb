{
 "cells": [
  {
   "cell_type": "markdown",
   "metadata": {},
   "source": [
    "# DA3-A3 \n",
    "## Parker & Co. -1\n",
    "Peter Szilvasi,\n",
    "Máté Schieszler "
   ]
  },
  {
   "cell_type": "code",
   "execution_count": 98,
   "metadata": {},
   "outputs": [],
   "source": [
    "import pandas as pd\n",
    "import datetime\n",
    "import numpy as np"
   ]
  },
  {
   "cell_type": "code",
   "execution_count": 3,
   "metadata": {},
   "outputs": [],
   "source": [
    "original_data = pd.read_csv('https://raw.githubusercontent.com/mateschieszler/DA3-A3/main/cs_bisnode_panel.csv')"
   ]
  },
  {
   "cell_type": "markdown",
   "metadata": {},
   "source": [
    "# Construction of the holdout set\n",
    "\n",
    "We are only interested in predicting default for ‘ind2 == 26’, which is the selected industry, and the\n",
    "firm is a small or medium enterprise (SME). Thus, yearly sales in 2014 was between 1000 EUR and 10\n",
    "million EUR.\n",
    "\n",
    "Existed in 2014 (sales > 0), but did not exists in 2015 (sales is 0 or missing)\n",
    "\n",
    "• If you do the sample design properly, you have an overall of 1037 firms. 56 firms defaulted, and 981\n",
    "stayed alive. The average sales of the firms is 0.4902 million EUR, with the minimum of 0.00107 million\n",
    "EUR and 9.57648 million EUR."
   ]
  },
  {
   "cell_type": "code",
   "execution_count": 115,
   "metadata": {},
   "outputs": [],
   "source": [
    "# copy original so we don't have to reload it every time (it takes more than 10s)\n",
    "data = original_data.copy()"
   ]
  },
  {
   "cell_type": "code",
   "execution_count": 116,
   "metadata": {},
   "outputs": [
    {
     "data": {
      "text/plain": [
       "(14877, 48)"
      ]
     },
     "execution_count": 116,
     "metadata": {},
     "output_type": "execute_result"
    }
   ],
   "source": [
    "# filter out ind2 != 26\n",
    "data = data.loc[data['ind2'] == 26]\n",
    "data['sales'].fillna(0, inplace=True)\n",
    "data.shape"
   ]
  },
  {
   "cell_type": "code",
   "execution_count": 117,
   "metadata": {},
   "outputs": [],
   "source": [
    "# add all missing year and comp_id combinations -\n",
    "# originally missing combinations will have NAs in all other columns\n",
    "data = (\n",
    "    data.set_index([\"year\", \"comp_id\"])\n",
    "    .unstack(fill_value=\"toReplace\")\n",
    "    .stack()\n",
    "    .reset_index()\n",
    ")\n",
    "data = data.replace(\"toReplace\", np.nan)"
   ]
  },
  {
   "cell_type": "code",
   "execution_count": 118,
   "metadata": {},
   "outputs": [],
   "source": [
    "# generate status_alive; if sales larger than zero and not-NA, then firm is alive\n",
    "data[\"status_alive\"] = (data[\"sales\"] > 0 & (False == data[\"sales\"].isna())).astype(int)\n",
    "\n",
    "# defaults in one year if there are sales in this year but no sales the next year\n",
    "# Status_in_a_year: data.groupby('comp_id')['status_alive'].shift(-1)\n",
    "data[\"default\"] = (\n",
    "    (data[\"status_alive\"] == 1)\n",
    "    & (data.groupby(\"comp_id\")[\"status_alive\"].shift(-1) == 0)\n",
    ").astype(int)"
   ]
  },
  {
   "cell_type": "code",
   "execution_count": 119,
   "metadata": {},
   "outputs": [
    {
     "name": "stdout",
     "output_type": "stream",
     "text": [
      "Total firms in holdout set: 1037\n",
      "Number of defaulted firms: 56\n",
      "Number of firms that stayed alive: 981\n",
      "Average sales of the firms: 490202.21792682\n",
      "Minimum sales: 1070.370361328125\n",
      "Maximum sales: 9576485.0\n"
     ]
    }
   ],
   "source": [
    "holdout_set = data.loc[(data['year'] == 2014) & (data['sales'] >= 1000) & (data['sales'] <= 10000000)]\n",
    "\n",
    "# Display information about the resulting holdout set\n",
    "print(\"Total firms in holdout set:\", len(holdout_set))\n",
    "print(\"Number of defaulted firms:\", len(holdout_set[holdout_set['default'] == 1]))\n",
    "print(\"Number of firms that stayed alive:\", len(holdout_set[holdout_set['default'] == 0]))  # Since all firms meet the condition\n",
    "print(\"Average sales of the firms:\", holdout_set['sales'].mean())\n",
    "print(\"Minimum sales:\", holdout_set['sales'].min())\n",
    "print(\"Maximum sales:\", holdout_set['sales'].max())"
   ]
  },
  {
   "cell_type": "code",
   "execution_count": 120,
   "metadata": {},
   "outputs": [
    {
     "data": {
      "text/plain": [
       "(21948, 50)"
      ]
     },
     "execution_count": 120,
     "metadata": {},
     "output_type": "execute_result"
    }
   ],
   "source": [
    "data.shape"
   ]
  },
  {
   "cell_type": "code",
   "execution_count": 121,
   "metadata": {},
   "outputs": [],
   "source": [
    "# with this -> data = working set\n",
    "data = data.drop(holdout_set.index)"
   ]
  },
  {
   "cell_type": "markdown",
   "metadata": {},
   "source": [
    "# Data Exploration"
   ]
  },
  {
   "cell_type": "code",
   "execution_count": 106,
   "metadata": {},
   "outputs": [
    {
     "data": {
      "text/plain": [
       "(20911, 50)"
      ]
     },
     "execution_count": 106,
     "metadata": {},
     "output_type": "execute_result"
    }
   ],
   "source": [
    "data.shape"
   ]
  },
  {
   "cell_type": "code",
   "execution_count": 126,
   "metadata": {},
   "outputs": [
    {
     "data": {
      "text/plain": [
       "count    20911.000000\n",
       "mean         0.062790\n",
       "std          0.242591\n",
       "min          0.000000\n",
       "25%          0.000000\n",
       "50%          0.000000\n",
       "75%          0.000000\n",
       "max          1.000000\n",
       "Name: default, dtype: float64"
      ]
     },
     "execution_count": 126,
     "metadata": {},
     "output_type": "execute_result"
    }
   ],
   "source": [
    "data[\"default\"].describe()"
   ]
  },
  {
   "cell_type": "code",
   "execution_count": 127,
   "metadata": {},
   "outputs": [
    {
     "data": {
      "text/plain": [
       "count    1.384000e+04\n",
       "mean     1.481976e+06\n",
       "std      7.016217e+06\n",
       "min     -8.149259e+04\n",
       "25%      9.292592e+03\n",
       "50%      5.551111e+04\n",
       "75%      2.753981e+05\n",
       "max      1.107458e+08\n",
       "Name: sales, dtype: float64"
      ]
     },
     "execution_count": 127,
     "metadata": {},
     "output_type": "execute_result"
    }
   ],
   "source": [
    "data[\"sales\"].describe()"
   ]
  },
  {
   "cell_type": "code",
   "execution_count": 123,
   "metadata": {},
   "outputs": [
    {
     "data": {
      "text/plain": [
       "year                        0\n",
       "comp_id                     0\n",
       "begin                    7071\n",
       "end                      7071\n",
       "COGS                    19145\n",
       "amort                    7357\n",
       "curr_assets              7076\n",
       "curr_liab                7076\n",
       "extra_exp                7941\n",
       "extra_inc                7941\n",
       "extra_profit_loss        7892\n",
       "finished_prod           19175\n",
       "fixed_assets             7076\n",
       "inc_bef_tax              7304\n",
       "intang_assets            7076\n",
       "inventories              7076\n",
       "liq_assets               7076\n",
       "material_exp             7357\n",
       "net_dom_sales           19145\n",
       "net_exp_sales           19145\n",
       "personnel_exp            7357\n",
       "profit_loss_year         7664\n",
       "sales                    7071\n",
       "share_eq                 7076\n",
       "subscribed_cap           7076\n",
       "tang_assets              7125\n",
       "wages                   19182\n",
       "D                       20911\n",
       "balsheet_flag            7071\n",
       "balsheet_length          7071\n",
       "balsheet_notfullyear     7071\n",
       "founded_year             9684\n",
       "exit_year               19532\n",
       "ceo_count                9684\n",
       "foreign                  9684\n",
       "female                   9684\n",
       "birth_year              12545\n",
       "inoffice_days            9684\n",
       "gender                   9684\n",
       "origin                   9684\n",
       "nace_main                7071\n",
       "ind2                     7071\n",
       "ind                      7071\n",
       "urban_m                  7071\n",
       "region_m                 7110\n",
       "founded_date             7071\n",
       "exit_date               18969\n",
       "labor_avg               14983\n",
       "status_alive                0\n",
       "default                     0\n",
       "dtype: int64"
      ]
     },
     "execution_count": 123,
     "metadata": {},
     "output_type": "execute_result"
    }
   ],
   "source": [
    "# look at missing values\n",
    "data.isna().sum()"
   ]
  },
  {
   "cell_type": "code",
   "execution_count": 124,
   "metadata": {},
   "outputs": [],
   "source": [
    "# drop columns with over 12000 missing values\n",
    "to_drop = [\"COGS\",\"finished_prod\",\"net_dom_sales\",\"net_exp_sales\",\"wages\",\"D\",\"exit_year\",\"birth_year\",\"exit_date\",\"labor_avg\"]\n",
    "data = data.drop(to_drop, axis=1)"
   ]
  },
  {
   "cell_type": "code",
   "execution_count": 125,
   "metadata": {},
   "outputs": [
    {
     "data": {
      "text/html": [
       "<div>\n",
       "<style scoped>\n",
       "    .dataframe tbody tr th:only-of-type {\n",
       "        vertical-align: middle;\n",
       "    }\n",
       "\n",
       "    .dataframe tbody tr th {\n",
       "        vertical-align: top;\n",
       "    }\n",
       "\n",
       "    .dataframe thead th {\n",
       "        text-align: right;\n",
       "    }\n",
       "</style>\n",
       "<table border=\"1\" class=\"dataframe\">\n",
       "  <thead>\n",
       "    <tr style=\"text-align: right;\">\n",
       "      <th></th>\n",
       "      <th>year</th>\n",
       "      <th>comp_id</th>\n",
       "      <th>begin</th>\n",
       "      <th>end</th>\n",
       "      <th>amort</th>\n",
       "      <th>curr_assets</th>\n",
       "      <th>curr_liab</th>\n",
       "      <th>extra_exp</th>\n",
       "      <th>extra_inc</th>\n",
       "      <th>extra_profit_loss</th>\n",
       "      <th>...</th>\n",
       "      <th>gender</th>\n",
       "      <th>origin</th>\n",
       "      <th>nace_main</th>\n",
       "      <th>ind2</th>\n",
       "      <th>ind</th>\n",
       "      <th>urban_m</th>\n",
       "      <th>region_m</th>\n",
       "      <th>founded_date</th>\n",
       "      <th>status_alive</th>\n",
       "      <th>default</th>\n",
       "    </tr>\n",
       "  </thead>\n",
       "  <tbody>\n",
       "    <tr>\n",
       "      <th>0</th>\n",
       "      <td>2005</td>\n",
       "      <td>6.538183e+06</td>\n",
       "      <td>2005-01-01</td>\n",
       "      <td>2005-12-31</td>\n",
       "      <td>792.592590</td>\n",
       "      <td>6237.037109</td>\n",
       "      <td>348.148163</td>\n",
       "      <td>0.000000</td>\n",
       "      <td>0.0</td>\n",
       "      <td>0.000000</td>\n",
       "      <td>...</td>\n",
       "      <td>male</td>\n",
       "      <td>Foreign</td>\n",
       "      <td>2630.0</td>\n",
       "      <td>26.0</td>\n",
       "      <td>2.0</td>\n",
       "      <td>2.0</td>\n",
       "      <td>East</td>\n",
       "      <td>1992-08-25</td>\n",
       "      <td>1</td>\n",
       "      <td>0</td>\n",
       "    </tr>\n",
       "    <tr>\n",
       "      <th>1</th>\n",
       "      <td>2005</td>\n",
       "      <td>6.934257e+06</td>\n",
       "      <td>2005-05-13</td>\n",
       "      <td>2005-12-31</td>\n",
       "      <td>803.703674</td>\n",
       "      <td>4648.147949</td>\n",
       "      <td>9311.111328</td>\n",
       "      <td>0.000000</td>\n",
       "      <td>0.0</td>\n",
       "      <td>0.000000</td>\n",
       "      <td>...</td>\n",
       "      <td>NaN</td>\n",
       "      <td>NaN</td>\n",
       "      <td>2660.0</td>\n",
       "      <td>26.0</td>\n",
       "      <td>2.0</td>\n",
       "      <td>3.0</td>\n",
       "      <td>East</td>\n",
       "      <td>2005-04-26</td>\n",
       "      <td>1</td>\n",
       "      <td>1</td>\n",
       "    </tr>\n",
       "    <tr>\n",
       "      <th>2</th>\n",
       "      <td>2005</td>\n",
       "      <td>8.416055e+06</td>\n",
       "      <td>2005-01-01</td>\n",
       "      <td>2005-12-31</td>\n",
       "      <td>3155.555664</td>\n",
       "      <td>71070.367188</td>\n",
       "      <td>25514.814453</td>\n",
       "      <td>74.074074</td>\n",
       "      <td>0.0</td>\n",
       "      <td>-74.074074</td>\n",
       "      <td>...</td>\n",
       "      <td>female</td>\n",
       "      <td>Domestic</td>\n",
       "      <td>2651.0</td>\n",
       "      <td>26.0</td>\n",
       "      <td>2.0</td>\n",
       "      <td>1.0</td>\n",
       "      <td>Central</td>\n",
       "      <td>1995-08-28</td>\n",
       "      <td>1</td>\n",
       "      <td>0</td>\n",
       "    </tr>\n",
       "    <tr>\n",
       "      <th>3</th>\n",
       "      <td>2005</td>\n",
       "      <td>9.283375e+06</td>\n",
       "      <td>NaN</td>\n",
       "      <td>NaN</td>\n",
       "      <td>NaN</td>\n",
       "      <td>NaN</td>\n",
       "      <td>NaN</td>\n",
       "      <td>NaN</td>\n",
       "      <td>NaN</td>\n",
       "      <td>NaN</td>\n",
       "      <td>...</td>\n",
       "      <td>NaN</td>\n",
       "      <td>NaN</td>\n",
       "      <td>NaN</td>\n",
       "      <td>NaN</td>\n",
       "      <td>NaN</td>\n",
       "      <td>NaN</td>\n",
       "      <td>NaN</td>\n",
       "      <td>NaN</td>\n",
       "      <td>0</td>\n",
       "      <td>0</td>\n",
       "    </tr>\n",
       "    <tr>\n",
       "      <th>4</th>\n",
       "      <td>2005</td>\n",
       "      <td>1.089394e+07</td>\n",
       "      <td>NaN</td>\n",
       "      <td>NaN</td>\n",
       "      <td>NaN</td>\n",
       "      <td>NaN</td>\n",
       "      <td>NaN</td>\n",
       "      <td>NaN</td>\n",
       "      <td>NaN</td>\n",
       "      <td>NaN</td>\n",
       "      <td>...</td>\n",
       "      <td>NaN</td>\n",
       "      <td>NaN</td>\n",
       "      <td>NaN</td>\n",
       "      <td>NaN</td>\n",
       "      <td>NaN</td>\n",
       "      <td>NaN</td>\n",
       "      <td>NaN</td>\n",
       "      <td>NaN</td>\n",
       "      <td>0</td>\n",
       "      <td>0</td>\n",
       "    </tr>\n",
       "    <tr>\n",
       "      <th>...</th>\n",
       "      <td>...</td>\n",
       "      <td>...</td>\n",
       "      <td>...</td>\n",
       "      <td>...</td>\n",
       "      <td>...</td>\n",
       "      <td>...</td>\n",
       "      <td>...</td>\n",
       "      <td>...</td>\n",
       "      <td>...</td>\n",
       "      <td>...</td>\n",
       "      <td>...</td>\n",
       "      <td>...</td>\n",
       "      <td>...</td>\n",
       "      <td>...</td>\n",
       "      <td>...</td>\n",
       "      <td>...</td>\n",
       "      <td>...</td>\n",
       "      <td>...</td>\n",
       "      <td>...</td>\n",
       "      <td>...</td>\n",
       "      <td>...</td>\n",
       "    </tr>\n",
       "    <tr>\n",
       "      <th>21943</th>\n",
       "      <td>2016</td>\n",
       "      <td>4.604901e+11</td>\n",
       "      <td>NaN</td>\n",
       "      <td>NaN</td>\n",
       "      <td>NaN</td>\n",
       "      <td>NaN</td>\n",
       "      <td>NaN</td>\n",
       "      <td>NaN</td>\n",
       "      <td>NaN</td>\n",
       "      <td>NaN</td>\n",
       "      <td>...</td>\n",
       "      <td>NaN</td>\n",
       "      <td>NaN</td>\n",
       "      <td>NaN</td>\n",
       "      <td>NaN</td>\n",
       "      <td>NaN</td>\n",
       "      <td>NaN</td>\n",
       "      <td>NaN</td>\n",
       "      <td>NaN</td>\n",
       "      <td>0</td>\n",
       "      <td>0</td>\n",
       "    </tr>\n",
       "    <tr>\n",
       "      <th>21944</th>\n",
       "      <td>2016</td>\n",
       "      <td>4.610112e+11</td>\n",
       "      <td>2016-01-01</td>\n",
       "      <td>2016-12-31</td>\n",
       "      <td>148.148148</td>\n",
       "      <td>67448.148438</td>\n",
       "      <td>5059.259277</td>\n",
       "      <td>NaN</td>\n",
       "      <td>NaN</td>\n",
       "      <td>NaN</td>\n",
       "      <td>...</td>\n",
       "      <td>male</td>\n",
       "      <td>Domestic</td>\n",
       "      <td>2620.0</td>\n",
       "      <td>26.0</td>\n",
       "      <td>2.0</td>\n",
       "      <td>3.0</td>\n",
       "      <td>Central</td>\n",
       "      <td>1997-12-10</td>\n",
       "      <td>1</td>\n",
       "      <td>0</td>\n",
       "    </tr>\n",
       "    <tr>\n",
       "      <th>21945</th>\n",
       "      <td>2016</td>\n",
       "      <td>4.620594e+11</td>\n",
       "      <td>2016-01-01</td>\n",
       "      <td>2016-12-31</td>\n",
       "      <td>559.259277</td>\n",
       "      <td>64011.109375</td>\n",
       "      <td>8662.962891</td>\n",
       "      <td>NaN</td>\n",
       "      <td>NaN</td>\n",
       "      <td>NaN</td>\n",
       "      <td>...</td>\n",
       "      <td>male</td>\n",
       "      <td>Domestic</td>\n",
       "      <td>2630.0</td>\n",
       "      <td>26.0</td>\n",
       "      <td>2.0</td>\n",
       "      <td>1.0</td>\n",
       "      <td>Central</td>\n",
       "      <td>1996-12-30</td>\n",
       "      <td>1</td>\n",
       "      <td>0</td>\n",
       "    </tr>\n",
       "    <tr>\n",
       "      <th>21946</th>\n",
       "      <td>2016</td>\n",
       "      <td>4.623300e+11</td>\n",
       "      <td>NaN</td>\n",
       "      <td>NaN</td>\n",
       "      <td>NaN</td>\n",
       "      <td>NaN</td>\n",
       "      <td>NaN</td>\n",
       "      <td>NaN</td>\n",
       "      <td>NaN</td>\n",
       "      <td>NaN</td>\n",
       "      <td>...</td>\n",
       "      <td>NaN</td>\n",
       "      <td>NaN</td>\n",
       "      <td>NaN</td>\n",
       "      <td>NaN</td>\n",
       "      <td>NaN</td>\n",
       "      <td>NaN</td>\n",
       "      <td>NaN</td>\n",
       "      <td>NaN</td>\n",
       "      <td>0</td>\n",
       "      <td>0</td>\n",
       "    </tr>\n",
       "    <tr>\n",
       "      <th>21947</th>\n",
       "      <td>2016</td>\n",
       "      <td>4.628231e+11</td>\n",
       "      <td>2016-01-01</td>\n",
       "      <td>2016-12-31</td>\n",
       "      <td>5362.962891</td>\n",
       "      <td>59570.371094</td>\n",
       "      <td>41681.480469</td>\n",
       "      <td>NaN</td>\n",
       "      <td>NaN</td>\n",
       "      <td>NaN</td>\n",
       "      <td>...</td>\n",
       "      <td>male</td>\n",
       "      <td>Domestic</td>\n",
       "      <td>2630.0</td>\n",
       "      <td>26.0</td>\n",
       "      <td>2.0</td>\n",
       "      <td>1.0</td>\n",
       "      <td>Central</td>\n",
       "      <td>2009-12-06</td>\n",
       "      <td>1</td>\n",
       "      <td>0</td>\n",
       "    </tr>\n",
       "  </tbody>\n",
       "</table>\n",
       "<p>20911 rows × 40 columns</p>\n",
       "</div>"
      ],
      "text/plain": [
       "       year       comp_id       begin         end        amort   curr_assets  \\\n",
       "0      2005  6.538183e+06  2005-01-01  2005-12-31   792.592590   6237.037109   \n",
       "1      2005  6.934257e+06  2005-05-13  2005-12-31   803.703674   4648.147949   \n",
       "2      2005  8.416055e+06  2005-01-01  2005-12-31  3155.555664  71070.367188   \n",
       "3      2005  9.283375e+06         NaN         NaN          NaN           NaN   \n",
       "4      2005  1.089394e+07         NaN         NaN          NaN           NaN   \n",
       "...     ...           ...         ...         ...          ...           ...   \n",
       "21943  2016  4.604901e+11         NaN         NaN          NaN           NaN   \n",
       "21944  2016  4.610112e+11  2016-01-01  2016-12-31   148.148148  67448.148438   \n",
       "21945  2016  4.620594e+11  2016-01-01  2016-12-31   559.259277  64011.109375   \n",
       "21946  2016  4.623300e+11         NaN         NaN          NaN           NaN   \n",
       "21947  2016  4.628231e+11  2016-01-01  2016-12-31  5362.962891  59570.371094   \n",
       "\n",
       "          curr_liab  extra_exp  extra_inc  extra_profit_loss  ...  gender  \\\n",
       "0        348.148163   0.000000        0.0           0.000000  ...    male   \n",
       "1       9311.111328   0.000000        0.0           0.000000  ...     NaN   \n",
       "2      25514.814453  74.074074        0.0         -74.074074  ...  female   \n",
       "3               NaN        NaN        NaN                NaN  ...     NaN   \n",
       "4               NaN        NaN        NaN                NaN  ...     NaN   \n",
       "...             ...        ...        ...                ...  ...     ...   \n",
       "21943           NaN        NaN        NaN                NaN  ...     NaN   \n",
       "21944   5059.259277        NaN        NaN                NaN  ...    male   \n",
       "21945   8662.962891        NaN        NaN                NaN  ...    male   \n",
       "21946           NaN        NaN        NaN                NaN  ...     NaN   \n",
       "21947  41681.480469        NaN        NaN                NaN  ...    male   \n",
       "\n",
       "         origin  nace_main  ind2  ind  urban_m  region_m  founded_date  \\\n",
       "0       Foreign     2630.0  26.0  2.0      2.0      East    1992-08-25   \n",
       "1           NaN     2660.0  26.0  2.0      3.0      East    2005-04-26   \n",
       "2      Domestic     2651.0  26.0  2.0      1.0   Central    1995-08-28   \n",
       "3           NaN        NaN   NaN  NaN      NaN       NaN           NaN   \n",
       "4           NaN        NaN   NaN  NaN      NaN       NaN           NaN   \n",
       "...         ...        ...   ...  ...      ...       ...           ...   \n",
       "21943       NaN        NaN   NaN  NaN      NaN       NaN           NaN   \n",
       "21944  Domestic     2620.0  26.0  2.0      3.0   Central    1997-12-10   \n",
       "21945  Domestic     2630.0  26.0  2.0      1.0   Central    1996-12-30   \n",
       "21946       NaN        NaN   NaN  NaN      NaN       NaN           NaN   \n",
       "21947  Domestic     2630.0  26.0  2.0      1.0   Central    2009-12-06   \n",
       "\n",
       "       status_alive  default  \n",
       "0                 1        0  \n",
       "1                 1        1  \n",
       "2                 1        0  \n",
       "3                 0        0  \n",
       "4                 0        0  \n",
       "...             ...      ...  \n",
       "21943             0        0  \n",
       "21944             1        0  \n",
       "21945             1        0  \n",
       "21946             0        0  \n",
       "21947             1        0  \n",
       "\n",
       "[20911 rows x 40 columns]"
      ]
     },
     "execution_count": 125,
     "metadata": {},
     "output_type": "execute_result"
    }
   ],
   "source": [
    "data"
   ]
  },
  {
   "cell_type": "code",
   "execution_count": null,
   "metadata": {},
   "outputs": [],
   "source": []
  }
 ],
 "metadata": {
  "kernelspec": {
   "display_name": "base",
   "language": "python",
   "name": "python3"
  },
  "language_info": {
   "codemirror_mode": {
    "name": "ipython",
    "version": 3
   },
   "file_extension": ".py",
   "mimetype": "text/x-python",
   "name": "python",
   "nbconvert_exporter": "python",
   "pygments_lexer": "ipython3",
   "version": "3.11.4"
  }
 },
 "nbformat": 4,
 "nbformat_minor": 2
}
