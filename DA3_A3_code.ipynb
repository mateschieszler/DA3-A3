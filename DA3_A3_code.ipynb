{
 "cells": [
  {
   "cell_type": "markdown",
   "metadata": {},
   "source": [
    "# DA3-A3 \n",
    "## Parker & Co. -1\n",
    "Peter Szilvasi,\n",
    "Máté Schieszler "
   ]
  },
  {
   "cell_type": "code",
   "execution_count": 30,
   "metadata": {},
   "outputs": [],
   "source": [
    "import pandas as pd\n",
    "import datetime\n",
    "import numpy as np"
   ]
  },
  {
   "cell_type": "code",
   "execution_count": 31,
   "metadata": {},
   "outputs": [],
   "source": [
    "original_data = pd.read_csv('https://raw.githubusercontent.com/mateschieszler/DA3-A3/main/cs_bisnode_panel.csv')"
   ]
  },
  {
   "cell_type": "markdown",
   "metadata": {},
   "source": [
    "# Construction of the holdout set\n",
    "\n",
    "We are only interested in predicting default for ‘ind2 == 26’, which is the selected industry, and the\n",
    "firm is a small or medium enterprise (SME). Thus, yearly sales in 2014 was between 1000 EUR and 10\n",
    "million EUR.\n",
    "\n",
    "Existed in 2014 (sales > 0), but did not exists in 2015 (sales is 0 or missing)\n",
    "\n",
    "• If you do the sample design properly, you have an overall of 1037 firms. 56 firms defaulted, and 981\n",
    "stayed alive. The average sales of the firms is 0.4902 million EUR, with the minimum of 0.00107 million\n",
    "EUR and 9.57648 million EUR."
   ]
  },
  {
   "cell_type": "code",
   "execution_count": 32,
   "metadata": {},
   "outputs": [],
   "source": [
    "# copy original so we don't have to reload it every time (it takes more than 10s)\n",
    "data = original_data.copy()"
   ]
  },
  {
   "cell_type": "code",
   "execution_count": 33,
   "metadata": {},
   "outputs": [
    {
     "data": {
      "text/plain": [
       "(14877, 48)"
      ]
     },
     "execution_count": 33,
     "metadata": {},
     "output_type": "execute_result"
    }
   ],
   "source": [
    "# filter out ind2 != 26\n",
    "data = data.loc[data['ind2'] == 26]\n",
    "data['sales'].fillna(0, inplace=True)\n",
    "data.shape"
   ]
  },
  {
   "cell_type": "code",
   "execution_count": 34,
   "metadata": {},
   "outputs": [],
   "source": [
    "# add all missing year and comp_id combinations -\n",
    "# originally missing combinations will have NAs in all other columns\n",
    "data = (\n",
    "    data.set_index([\"year\", \"comp_id\"])\n",
    "    .unstack(fill_value=\"toReplace\")\n",
    "    .stack()\n",
    "    .reset_index()\n",
    ")\n",
    "data = data.replace(\"toReplace\", np.nan)"
   ]
  },
  {
   "cell_type": "code",
   "execution_count": 35,
   "metadata": {},
   "outputs": [],
   "source": [
    "# generate status_alive; if sales larger than zero and not-NA, then firm is alive\n",
    "data[\"status_alive\"] = (data[\"sales\"] > 0 & (False == data[\"sales\"].isna())).astype(int)\n",
    "\n",
    "# defaults in one year if there are sales in this year but no sales the next year\n",
    "# Status_in_a_year: data.groupby('comp_id')['status_alive'].shift(-1)\n",
    "data[\"default\"] = (\n",
    "    (data[\"status_alive\"] == 1)\n",
    "    & (data.groupby(\"comp_id\")[\"status_alive\"].shift(-1) == 0)\n",
    ").astype(int)"
   ]
  },
  {
   "cell_type": "code",
   "execution_count": 36,
   "metadata": {},
   "outputs": [
    {
     "name": "stdout",
     "output_type": "stream",
     "text": [
      "Total firms in holdout set: 1037\n",
      "Number of defaulted firms: 56\n",
      "Number of firms that stayed alive: 981\n",
      "Average sales of the firms: 490202.21792682\n",
      "Minimum sales: 1070.370361328125\n",
      "Maximum sales: 9576485.0\n"
     ]
    }
   ],
   "source": [
    "holdout_set = data.loc[(data['year'] == 2014) & (data['sales'] >= 1000) & (data['sales'] <= 10000000)]\n",
    "\n",
    "# Display information about the resulting holdout set\n",
    "print(\"Total firms in holdout set:\", len(holdout_set))\n",
    "print(\"Number of defaulted firms:\", len(holdout_set[holdout_set['default'] == 1]))\n",
    "print(\"Number of firms that stayed alive:\", len(holdout_set[holdout_set['default'] == 0]))  # Since all firms meet the condition\n",
    "print(\"Average sales of the firms:\", holdout_set['sales'].mean())\n",
    "print(\"Minimum sales:\", holdout_set['sales'].min())\n",
    "print(\"Maximum sales:\", holdout_set['sales'].max())"
   ]
  },
  {
   "cell_type": "code",
   "execution_count": 37,
   "metadata": {},
   "outputs": [
    {
     "data": {
      "text/plain": [
       "(21948, 50)"
      ]
     },
     "execution_count": 37,
     "metadata": {},
     "output_type": "execute_result"
    }
   ],
   "source": [
    "data.shape"
   ]
  },
  {
   "cell_type": "code",
   "execution_count": 38,
   "metadata": {},
   "outputs": [],
   "source": [
    "# with this -> data = working set\n",
    "data = data.drop(holdout_set.index)"
   ]
  },
  {
   "cell_type": "markdown",
   "metadata": {},
   "source": [
    "# Data Exploration"
   ]
  },
  {
   "cell_type": "code",
   "execution_count": 39,
   "metadata": {},
   "outputs": [
    {
     "data": {
      "text/plain": [
       "(287829, 48)"
      ]
     },
     "execution_count": 39,
     "metadata": {},
     "output_type": "execute_result"
    }
   ],
   "source": [
    "original_data.shape"
   ]
  },
  {
   "cell_type": "code",
   "execution_count": 40,
   "metadata": {},
   "outputs": [
    {
     "data": {
      "text/plain": [
       "(20911, 50)"
      ]
     },
     "execution_count": 40,
     "metadata": {},
     "output_type": "execute_result"
    }
   ],
   "source": [
    "data.shape"
   ]
  },
  {
   "cell_type": "code",
   "execution_count": 41,
   "metadata": {},
   "outputs": [
    {
     "data": {
      "text/plain": [
       "count    20911.000000\n",
       "mean         0.062790\n",
       "std          0.242591\n",
       "min          0.000000\n",
       "25%          0.000000\n",
       "50%          0.000000\n",
       "75%          0.000000\n",
       "max          1.000000\n",
       "Name: default, dtype: float64"
      ]
     },
     "execution_count": 41,
     "metadata": {},
     "output_type": "execute_result"
    }
   ],
   "source": [
    "data[\"default\"].describe()"
   ]
  },
  {
   "cell_type": "code",
   "execution_count": 42,
   "metadata": {},
   "outputs": [
    {
     "data": {
      "text/plain": [
       "count    1.384000e+04\n",
       "mean     1.481976e+06\n",
       "std      7.016217e+06\n",
       "min     -8.149259e+04\n",
       "25%      9.292592e+03\n",
       "50%      5.551111e+04\n",
       "75%      2.753981e+05\n",
       "max      1.107458e+08\n",
       "Name: sales, dtype: float64"
      ]
     },
     "execution_count": 42,
     "metadata": {},
     "output_type": "execute_result"
    }
   ],
   "source": [
    "data[\"sales\"].describe()"
   ]
  },
  {
   "cell_type": "code",
   "execution_count": 50,
   "metadata": {},
   "outputs": [
    {
     "data": {
      "text/plain": [
       "2005    1829\n",
       "2006    1829\n",
       "2007    1829\n",
       "2008    1829\n",
       "2009    1829\n",
       "2010    1829\n",
       "2011    1829\n",
       "2012    1829\n",
       "2013    1829\n",
       "2015    1829\n",
       "2016    1829\n",
       "2014     792\n",
       "Name: year, dtype: int64"
      ]
     },
     "execution_count": 50,
     "metadata": {},
     "output_type": "execute_result"
    }
   ],
   "source": [
    "data[\"year\"].value_counts()"
   ]
  },
  {
   "cell_type": "code",
   "execution_count": 51,
   "metadata": {},
   "outputs": [
    {
     "data": {
      "text/plain": [
       "2013    28474\n",
       "2012    28469\n",
       "2011    28222\n",
       "2014    28151\n",
       "2015    27506\n",
       "2010    26784\n",
       "2009    25596\n",
       "2008    23733\n",
       "2007    21804\n",
       "2006    20200\n",
       "2005    19147\n",
       "2016     9743\n",
       "Name: year, dtype: int64"
      ]
     },
     "execution_count": 51,
     "metadata": {},
     "output_type": "execute_result"
    }
   ],
   "source": [
    "original_data[\"year\"].value_counts()"
   ]
  },
  {
   "cell_type": "code",
   "execution_count": 43,
   "metadata": {},
   "outputs": [
    {
     "data": {
      "text/plain": [
       "year                        0\n",
       "comp_id                     0\n",
       "begin                    7071\n",
       "end                      7071\n",
       "COGS                    19145\n",
       "amort                    7357\n",
       "curr_assets              7076\n",
       "curr_liab                7076\n",
       "extra_exp                7941\n",
       "extra_inc                7941\n",
       "extra_profit_loss        7892\n",
       "finished_prod           19175\n",
       "fixed_assets             7076\n",
       "inc_bef_tax              7304\n",
       "intang_assets            7076\n",
       "inventories              7076\n",
       "liq_assets               7076\n",
       "material_exp             7357\n",
       "net_dom_sales           19145\n",
       "net_exp_sales           19145\n",
       "personnel_exp            7357\n",
       "profit_loss_year         7664\n",
       "sales                    7071\n",
       "share_eq                 7076\n",
       "subscribed_cap           7076\n",
       "tang_assets              7125\n",
       "wages                   19182\n",
       "D                       20911\n",
       "balsheet_flag            7071\n",
       "balsheet_length          7071\n",
       "balsheet_notfullyear     7071\n",
       "founded_year             9684\n",
       "exit_year               19532\n",
       "ceo_count                9684\n",
       "foreign                  9684\n",
       "female                   9684\n",
       "birth_year              12545\n",
       "inoffice_days            9684\n",
       "gender                   9684\n",
       "origin                   9684\n",
       "nace_main                7071\n",
       "ind2                     7071\n",
       "ind                      7071\n",
       "urban_m                  7071\n",
       "region_m                 7110\n",
       "founded_date             7071\n",
       "exit_date               18969\n",
       "labor_avg               14983\n",
       "status_alive                0\n",
       "default                     0\n",
       "dtype: int64"
      ]
     },
     "execution_count": 43,
     "metadata": {},
     "output_type": "execute_result"
    }
   ],
   "source": [
    "# look at missing values\n",
    "data.isna().sum()"
   ]
  },
  {
   "cell_type": "code",
   "execution_count": 44,
   "metadata": {},
   "outputs": [
    {
     "name": "stdout",
     "output_type": "stream",
     "text": [
      "                      Original Data Missing %  Filtered Data Missing %\n",
      "COGS                                93.656998                91.554684\n",
      "D                                  100.000000               100.000000\n",
      "amort                                2.793325                35.182440\n",
      "balsheet_flag                        0.000000                33.814739\n",
      "balsheet_length                      0.000000                33.814739\n",
      "balsheet_notfullyear                 0.000000                33.814739\n",
      "begin                                0.000000                33.814739\n",
      "birth_year                          38.848761                59.992349\n",
      "ceo_count                           19.604348                46.310554\n",
      "comp_id                              0.000000                 0.000000\n",
      "curr_assets                          0.045513                33.838650\n",
      "curr_liab                            0.045513                33.838650\n",
      "default                                   NaN                 0.000000\n",
      "end                                  0.000000                33.814739\n",
      "exit_date                           80.481466                90.713022\n",
      "exit_year                           86.499276                93.405385\n",
      "extra_exp                            6.437503                37.975228\n",
      "extra_inc                            6.437503                37.975228\n",
      "extra_profit_loss                    5.976813                37.740902\n",
      "female                              19.604348                46.310554\n",
      "finished_prod                       93.925213                91.698149\n",
      "fixed_assets                         0.045513                33.838650\n",
      "foreign                             19.604348                46.310554\n",
      "founded_date                         0.017719                33.814739\n",
      "founded_year                        19.614771                46.310554\n",
      "gender                              19.604348                46.310554\n",
      "inc_bef_tax                          2.583826                34.928985\n",
      "ind                                  3.394029                33.814739\n",
      "ind2                                 0.360631                33.814739\n",
      "inoffice_days                       19.604348                46.310554\n",
      "intang_assets                        0.048640                33.838650\n",
      "inventories                          0.045513                33.838650\n",
      "labor_avg                           50.909394                71.651284\n",
      "liq_assets                           0.045513                33.838650\n",
      "material_exp                         2.793325                35.182440\n",
      "nace_main                            0.360631                33.814739\n",
      "net_dom_sales                       93.656998                91.554684\n",
      "net_exp_sales                       93.656998                91.554684\n",
      "origin                              19.604348                46.310554\n",
      "personnel_exp                        2.793325                35.182440\n",
      "profit_loss_year                     3.433983                36.650567\n",
      "region_m                             0.291840                34.001243\n",
      "sales                                2.583826                33.814739\n",
      "share_eq                             0.045513                33.838650\n",
      "status_alive                              NaN                 0.000000\n",
      "subscribed_cap                       0.045513                33.838650\n",
      "tang_assets                          0.510720                34.072976\n",
      "urban_m                              0.000000                33.814739\n",
      "wages                               93.752193                91.731625\n",
      "year                                 0.000000                 0.000000\n"
     ]
    }
   ],
   "source": [
    "# Calculate percentage of missing values in each column of the original dataset\n",
    "original_missing_percentage = (original_data.isnull().sum() / len(original_data)) * 100\n",
    "\n",
    "# Calculate percentage of missing values in each column of the filtered dataset\n",
    "filtered_missing_percentage = (data.isnull().sum() / len(data)) * 100\n",
    "\n",
    "# Calculate percentage of missing values in each column of the filtered dataset\n",
    "filtered_missing_percentage = (data.isnull().sum() / len(data)) * 100\n",
    "\n",
    "# Combine the missing percentage information into a DataFrame for easier comparison\n",
    "missing_info = pd.DataFrame({\n",
    "    'Original Data Missing %': original_missing_percentage,\n",
    "    'Filtered Data Missing %': filtered_missing_percentage\n",
    "})\n",
    "\n",
    "print(missing_info)"
   ]
  },
  {
   "cell_type": "markdown",
   "metadata": {},
   "source": [
    "Would it makes sense to examine all original data as it might have some additinal info which might uncover relations that are not present in our data?"
   ]
  },
  {
   "cell_type": "code",
   "execution_count": 45,
   "metadata": {},
   "outputs": [],
   "source": [
    "# drop columns with over 12000 missing values\n",
    "to_drop = [\"COGS\",\"finished_prod\",\"net_dom_sales\",\"net_exp_sales\",\"wages\",\"D\",\"exit_year\",\"birth_year\",\"exit_date\",\"labor_avg\"]\n",
    "data = data.drop(to_drop, axis=1)"
   ]
  },
  {
   "cell_type": "code",
   "execution_count": 46,
   "metadata": {},
   "outputs": [
    {
     "data": {
      "text/html": [
       "<div>\n",
       "<style scoped>\n",
       "    .dataframe tbody tr th:only-of-type {\n",
       "        vertical-align: middle;\n",
       "    }\n",
       "\n",
       "    .dataframe tbody tr th {\n",
       "        vertical-align: top;\n",
       "    }\n",
       "\n",
       "    .dataframe thead th {\n",
       "        text-align: right;\n",
       "    }\n",
       "</style>\n",
       "<table border=\"1\" class=\"dataframe\">\n",
       "  <thead>\n",
       "    <tr style=\"text-align: right;\">\n",
       "      <th></th>\n",
       "      <th>year</th>\n",
       "      <th>comp_id</th>\n",
       "      <th>begin</th>\n",
       "      <th>end</th>\n",
       "      <th>amort</th>\n",
       "      <th>curr_assets</th>\n",
       "      <th>curr_liab</th>\n",
       "      <th>extra_exp</th>\n",
       "      <th>extra_inc</th>\n",
       "      <th>extra_profit_loss</th>\n",
       "      <th>...</th>\n",
       "      <th>gender</th>\n",
       "      <th>origin</th>\n",
       "      <th>nace_main</th>\n",
       "      <th>ind2</th>\n",
       "      <th>ind</th>\n",
       "      <th>urban_m</th>\n",
       "      <th>region_m</th>\n",
       "      <th>founded_date</th>\n",
       "      <th>status_alive</th>\n",
       "      <th>default</th>\n",
       "    </tr>\n",
       "  </thead>\n",
       "  <tbody>\n",
       "    <tr>\n",
       "      <th>0</th>\n",
       "      <td>2005</td>\n",
       "      <td>6.538183e+06</td>\n",
       "      <td>2005-01-01</td>\n",
       "      <td>2005-12-31</td>\n",
       "      <td>792.592590</td>\n",
       "      <td>6237.037109</td>\n",
       "      <td>348.148163</td>\n",
       "      <td>0.000000</td>\n",
       "      <td>0.0</td>\n",
       "      <td>0.000000</td>\n",
       "      <td>...</td>\n",
       "      <td>male</td>\n",
       "      <td>Foreign</td>\n",
       "      <td>2630.0</td>\n",
       "      <td>26.0</td>\n",
       "      <td>2.0</td>\n",
       "      <td>2.0</td>\n",
       "      <td>East</td>\n",
       "      <td>1992-08-25</td>\n",
       "      <td>1</td>\n",
       "      <td>0</td>\n",
       "    </tr>\n",
       "    <tr>\n",
       "      <th>1</th>\n",
       "      <td>2005</td>\n",
       "      <td>6.934257e+06</td>\n",
       "      <td>2005-05-13</td>\n",
       "      <td>2005-12-31</td>\n",
       "      <td>803.703674</td>\n",
       "      <td>4648.147949</td>\n",
       "      <td>9311.111328</td>\n",
       "      <td>0.000000</td>\n",
       "      <td>0.0</td>\n",
       "      <td>0.000000</td>\n",
       "      <td>...</td>\n",
       "      <td>NaN</td>\n",
       "      <td>NaN</td>\n",
       "      <td>2660.0</td>\n",
       "      <td>26.0</td>\n",
       "      <td>2.0</td>\n",
       "      <td>3.0</td>\n",
       "      <td>East</td>\n",
       "      <td>2005-04-26</td>\n",
       "      <td>1</td>\n",
       "      <td>1</td>\n",
       "    </tr>\n",
       "    <tr>\n",
       "      <th>2</th>\n",
       "      <td>2005</td>\n",
       "      <td>8.416055e+06</td>\n",
       "      <td>2005-01-01</td>\n",
       "      <td>2005-12-31</td>\n",
       "      <td>3155.555664</td>\n",
       "      <td>71070.367188</td>\n",
       "      <td>25514.814453</td>\n",
       "      <td>74.074074</td>\n",
       "      <td>0.0</td>\n",
       "      <td>-74.074074</td>\n",
       "      <td>...</td>\n",
       "      <td>female</td>\n",
       "      <td>Domestic</td>\n",
       "      <td>2651.0</td>\n",
       "      <td>26.0</td>\n",
       "      <td>2.0</td>\n",
       "      <td>1.0</td>\n",
       "      <td>Central</td>\n",
       "      <td>1995-08-28</td>\n",
       "      <td>1</td>\n",
       "      <td>0</td>\n",
       "    </tr>\n",
       "    <tr>\n",
       "      <th>3</th>\n",
       "      <td>2005</td>\n",
       "      <td>9.283375e+06</td>\n",
       "      <td>NaN</td>\n",
       "      <td>NaN</td>\n",
       "      <td>NaN</td>\n",
       "      <td>NaN</td>\n",
       "      <td>NaN</td>\n",
       "      <td>NaN</td>\n",
       "      <td>NaN</td>\n",
       "      <td>NaN</td>\n",
       "      <td>...</td>\n",
       "      <td>NaN</td>\n",
       "      <td>NaN</td>\n",
       "      <td>NaN</td>\n",
       "      <td>NaN</td>\n",
       "      <td>NaN</td>\n",
       "      <td>NaN</td>\n",
       "      <td>NaN</td>\n",
       "      <td>NaN</td>\n",
       "      <td>0</td>\n",
       "      <td>0</td>\n",
       "    </tr>\n",
       "    <tr>\n",
       "      <th>4</th>\n",
       "      <td>2005</td>\n",
       "      <td>1.089394e+07</td>\n",
       "      <td>NaN</td>\n",
       "      <td>NaN</td>\n",
       "      <td>NaN</td>\n",
       "      <td>NaN</td>\n",
       "      <td>NaN</td>\n",
       "      <td>NaN</td>\n",
       "      <td>NaN</td>\n",
       "      <td>NaN</td>\n",
       "      <td>...</td>\n",
       "      <td>NaN</td>\n",
       "      <td>NaN</td>\n",
       "      <td>NaN</td>\n",
       "      <td>NaN</td>\n",
       "      <td>NaN</td>\n",
       "      <td>NaN</td>\n",
       "      <td>NaN</td>\n",
       "      <td>NaN</td>\n",
       "      <td>0</td>\n",
       "      <td>0</td>\n",
       "    </tr>\n",
       "    <tr>\n",
       "      <th>...</th>\n",
       "      <td>...</td>\n",
       "      <td>...</td>\n",
       "      <td>...</td>\n",
       "      <td>...</td>\n",
       "      <td>...</td>\n",
       "      <td>...</td>\n",
       "      <td>...</td>\n",
       "      <td>...</td>\n",
       "      <td>...</td>\n",
       "      <td>...</td>\n",
       "      <td>...</td>\n",
       "      <td>...</td>\n",
       "      <td>...</td>\n",
       "      <td>...</td>\n",
       "      <td>...</td>\n",
       "      <td>...</td>\n",
       "      <td>...</td>\n",
       "      <td>...</td>\n",
       "      <td>...</td>\n",
       "      <td>...</td>\n",
       "      <td>...</td>\n",
       "    </tr>\n",
       "    <tr>\n",
       "      <th>21943</th>\n",
       "      <td>2016</td>\n",
       "      <td>4.604901e+11</td>\n",
       "      <td>NaN</td>\n",
       "      <td>NaN</td>\n",
       "      <td>NaN</td>\n",
       "      <td>NaN</td>\n",
       "      <td>NaN</td>\n",
       "      <td>NaN</td>\n",
       "      <td>NaN</td>\n",
       "      <td>NaN</td>\n",
       "      <td>...</td>\n",
       "      <td>NaN</td>\n",
       "      <td>NaN</td>\n",
       "      <td>NaN</td>\n",
       "      <td>NaN</td>\n",
       "      <td>NaN</td>\n",
       "      <td>NaN</td>\n",
       "      <td>NaN</td>\n",
       "      <td>NaN</td>\n",
       "      <td>0</td>\n",
       "      <td>0</td>\n",
       "    </tr>\n",
       "    <tr>\n",
       "      <th>21944</th>\n",
       "      <td>2016</td>\n",
       "      <td>4.610112e+11</td>\n",
       "      <td>2016-01-01</td>\n",
       "      <td>2016-12-31</td>\n",
       "      <td>148.148148</td>\n",
       "      <td>67448.148438</td>\n",
       "      <td>5059.259277</td>\n",
       "      <td>NaN</td>\n",
       "      <td>NaN</td>\n",
       "      <td>NaN</td>\n",
       "      <td>...</td>\n",
       "      <td>male</td>\n",
       "      <td>Domestic</td>\n",
       "      <td>2620.0</td>\n",
       "      <td>26.0</td>\n",
       "      <td>2.0</td>\n",
       "      <td>3.0</td>\n",
       "      <td>Central</td>\n",
       "      <td>1997-12-10</td>\n",
       "      <td>1</td>\n",
       "      <td>0</td>\n",
       "    </tr>\n",
       "    <tr>\n",
       "      <th>21945</th>\n",
       "      <td>2016</td>\n",
       "      <td>4.620594e+11</td>\n",
       "      <td>2016-01-01</td>\n",
       "      <td>2016-12-31</td>\n",
       "      <td>559.259277</td>\n",
       "      <td>64011.109375</td>\n",
       "      <td>8662.962891</td>\n",
       "      <td>NaN</td>\n",
       "      <td>NaN</td>\n",
       "      <td>NaN</td>\n",
       "      <td>...</td>\n",
       "      <td>male</td>\n",
       "      <td>Domestic</td>\n",
       "      <td>2630.0</td>\n",
       "      <td>26.0</td>\n",
       "      <td>2.0</td>\n",
       "      <td>1.0</td>\n",
       "      <td>Central</td>\n",
       "      <td>1996-12-30</td>\n",
       "      <td>1</td>\n",
       "      <td>0</td>\n",
       "    </tr>\n",
       "    <tr>\n",
       "      <th>21946</th>\n",
       "      <td>2016</td>\n",
       "      <td>4.623300e+11</td>\n",
       "      <td>NaN</td>\n",
       "      <td>NaN</td>\n",
       "      <td>NaN</td>\n",
       "      <td>NaN</td>\n",
       "      <td>NaN</td>\n",
       "      <td>NaN</td>\n",
       "      <td>NaN</td>\n",
       "      <td>NaN</td>\n",
       "      <td>...</td>\n",
       "      <td>NaN</td>\n",
       "      <td>NaN</td>\n",
       "      <td>NaN</td>\n",
       "      <td>NaN</td>\n",
       "      <td>NaN</td>\n",
       "      <td>NaN</td>\n",
       "      <td>NaN</td>\n",
       "      <td>NaN</td>\n",
       "      <td>0</td>\n",
       "      <td>0</td>\n",
       "    </tr>\n",
       "    <tr>\n",
       "      <th>21947</th>\n",
       "      <td>2016</td>\n",
       "      <td>4.628231e+11</td>\n",
       "      <td>2016-01-01</td>\n",
       "      <td>2016-12-31</td>\n",
       "      <td>5362.962891</td>\n",
       "      <td>59570.371094</td>\n",
       "      <td>41681.480469</td>\n",
       "      <td>NaN</td>\n",
       "      <td>NaN</td>\n",
       "      <td>NaN</td>\n",
       "      <td>...</td>\n",
       "      <td>male</td>\n",
       "      <td>Domestic</td>\n",
       "      <td>2630.0</td>\n",
       "      <td>26.0</td>\n",
       "      <td>2.0</td>\n",
       "      <td>1.0</td>\n",
       "      <td>Central</td>\n",
       "      <td>2009-12-06</td>\n",
       "      <td>1</td>\n",
       "      <td>0</td>\n",
       "    </tr>\n",
       "  </tbody>\n",
       "</table>\n",
       "<p>20911 rows × 40 columns</p>\n",
       "</div>"
      ],
      "text/plain": [
       "       year       comp_id       begin         end        amort   curr_assets  \\\n",
       "0      2005  6.538183e+06  2005-01-01  2005-12-31   792.592590   6237.037109   \n",
       "1      2005  6.934257e+06  2005-05-13  2005-12-31   803.703674   4648.147949   \n",
       "2      2005  8.416055e+06  2005-01-01  2005-12-31  3155.555664  71070.367188   \n",
       "3      2005  9.283375e+06         NaN         NaN          NaN           NaN   \n",
       "4      2005  1.089394e+07         NaN         NaN          NaN           NaN   \n",
       "...     ...           ...         ...         ...          ...           ...   \n",
       "21943  2016  4.604901e+11         NaN         NaN          NaN           NaN   \n",
       "21944  2016  4.610112e+11  2016-01-01  2016-12-31   148.148148  67448.148438   \n",
       "21945  2016  4.620594e+11  2016-01-01  2016-12-31   559.259277  64011.109375   \n",
       "21946  2016  4.623300e+11         NaN         NaN          NaN           NaN   \n",
       "21947  2016  4.628231e+11  2016-01-01  2016-12-31  5362.962891  59570.371094   \n",
       "\n",
       "          curr_liab  extra_exp  extra_inc  extra_profit_loss  ...  gender  \\\n",
       "0        348.148163   0.000000        0.0           0.000000  ...    male   \n",
       "1       9311.111328   0.000000        0.0           0.000000  ...     NaN   \n",
       "2      25514.814453  74.074074        0.0         -74.074074  ...  female   \n",
       "3               NaN        NaN        NaN                NaN  ...     NaN   \n",
       "4               NaN        NaN        NaN                NaN  ...     NaN   \n",
       "...             ...        ...        ...                ...  ...     ...   \n",
       "21943           NaN        NaN        NaN                NaN  ...     NaN   \n",
       "21944   5059.259277        NaN        NaN                NaN  ...    male   \n",
       "21945   8662.962891        NaN        NaN                NaN  ...    male   \n",
       "21946           NaN        NaN        NaN                NaN  ...     NaN   \n",
       "21947  41681.480469        NaN        NaN                NaN  ...    male   \n",
       "\n",
       "         origin  nace_main  ind2  ind  urban_m  region_m  founded_date  \\\n",
       "0       Foreign     2630.0  26.0  2.0      2.0      East    1992-08-25   \n",
       "1           NaN     2660.0  26.0  2.0      3.0      East    2005-04-26   \n",
       "2      Domestic     2651.0  26.0  2.0      1.0   Central    1995-08-28   \n",
       "3           NaN        NaN   NaN  NaN      NaN       NaN           NaN   \n",
       "4           NaN        NaN   NaN  NaN      NaN       NaN           NaN   \n",
       "...         ...        ...   ...  ...      ...       ...           ...   \n",
       "21943       NaN        NaN   NaN  NaN      NaN       NaN           NaN   \n",
       "21944  Domestic     2620.0  26.0  2.0      3.0   Central    1997-12-10   \n",
       "21945  Domestic     2630.0  26.0  2.0      1.0   Central    1996-12-30   \n",
       "21946       NaN        NaN   NaN  NaN      NaN       NaN           NaN   \n",
       "21947  Domestic     2630.0  26.0  2.0      1.0   Central    2009-12-06   \n",
       "\n",
       "       status_alive  default  \n",
       "0                 1        0  \n",
       "1                 1        1  \n",
       "2                 1        0  \n",
       "3                 0        0  \n",
       "4                 0        0  \n",
       "...             ...      ...  \n",
       "21943             0        0  \n",
       "21944             1        0  \n",
       "21945             1        0  \n",
       "21946             0        0  \n",
       "21947             1        0  \n",
       "\n",
       "[20911 rows x 40 columns]"
      ]
     },
     "execution_count": 46,
     "metadata": {},
     "output_type": "execute_result"
    }
   ],
   "source": [
    "data"
   ]
  },
  {
   "cell_type": "code",
   "execution_count": 47,
   "metadata": {},
   "outputs": [],
   "source": [
    "import seaborn as sns\n",
    "import matplotlib.pyplot as plt\n",
    "from plotnine import *"
   ]
  },
  {
   "cell_type": "code",
   "execution_count": 48,
   "metadata": {},
   "outputs": [
    {
     "ename": "PlotnineError",
     "evalue": "\"Could not evaluate the 'x' mapping: 'COGS' (original error: name 'COGS' is not defined)\"",
     "output_type": "error",
     "traceback": [
      "\u001b[1;31m---------------------------------------------------------------------------\u001b[0m",
      "\u001b[1;31mNameError\u001b[0m                                 Traceback (most recent call last)",
      "File \u001b[1;32mc:\\Users\\mates\\anaconda3\\Lib\\site-packages\\plotnine\\mapping\\evaluation.py:225\u001b[0m, in \u001b[0;36mevaluate\u001b[1;34m(aesthetics, data, env)\u001b[0m\n\u001b[0;32m    224\u001b[0m \u001b[38;5;28;01mtry\u001b[39;00m:\n\u001b[1;32m--> 225\u001b[0m     new_val \u001b[38;5;241m=\u001b[39m env\u001b[38;5;241m.\u001b[39meval(col, inner_namespace\u001b[38;5;241m=\u001b[39mdata)\n\u001b[0;32m    226\u001b[0m \u001b[38;5;28;01mexcept\u001b[39;00m \u001b[38;5;167;01mException\u001b[39;00m \u001b[38;5;28;01mas\u001b[39;00m e:\n",
      "File \u001b[1;32mc:\\Users\\mates\\anaconda3\\Lib\\site-packages\\patsy\\eval.py:169\u001b[0m, in \u001b[0;36mEvalEnvironment.eval\u001b[1;34m(self, expr, source_name, inner_namespace)\u001b[0m\n\u001b[0;32m    168\u001b[0m code \u001b[38;5;241m=\u001b[39m \u001b[38;5;28mcompile\u001b[39m(expr, source_name, \u001b[38;5;124m\"\u001b[39m\u001b[38;5;124meval\u001b[39m\u001b[38;5;124m\"\u001b[39m, \u001b[38;5;28mself\u001b[39m\u001b[38;5;241m.\u001b[39mflags, \u001b[38;5;28;01mFalse\u001b[39;00m)\n\u001b[1;32m--> 169\u001b[0m \u001b[38;5;28;01mreturn\u001b[39;00m \u001b[38;5;28meval\u001b[39m(code, {}, VarLookupDict([inner_namespace]\n\u001b[0;32m    170\u001b[0m                                     \u001b[38;5;241m+\u001b[39m \u001b[38;5;28mself\u001b[39m\u001b[38;5;241m.\u001b[39m_namespaces))\n",
      "File \u001b[1;32m<string>:1\u001b[0m\n",
      "\u001b[1;31mNameError\u001b[0m: name 'COGS' is not defined",
      "\nDuring handling of the above exception, another exception occurred:\n",
      "\u001b[1;31mPlotnineError\u001b[0m                             Traceback (most recent call last)",
      "File \u001b[1;32mc:\\Users\\mates\\anaconda3\\Lib\\site-packages\\IPython\\core\\formatters.py:708\u001b[0m, in \u001b[0;36mPlainTextFormatter.__call__\u001b[1;34m(self, obj)\u001b[0m\n\u001b[0;32m    701\u001b[0m stream \u001b[38;5;241m=\u001b[39m StringIO()\n\u001b[0;32m    702\u001b[0m printer \u001b[38;5;241m=\u001b[39m pretty\u001b[38;5;241m.\u001b[39mRepresentationPrinter(stream, \u001b[38;5;28mself\u001b[39m\u001b[38;5;241m.\u001b[39mverbose,\n\u001b[0;32m    703\u001b[0m     \u001b[38;5;28mself\u001b[39m\u001b[38;5;241m.\u001b[39mmax_width, \u001b[38;5;28mself\u001b[39m\u001b[38;5;241m.\u001b[39mnewline,\n\u001b[0;32m    704\u001b[0m     max_seq_length\u001b[38;5;241m=\u001b[39m\u001b[38;5;28mself\u001b[39m\u001b[38;5;241m.\u001b[39mmax_seq_length,\n\u001b[0;32m    705\u001b[0m     singleton_pprinters\u001b[38;5;241m=\u001b[39m\u001b[38;5;28mself\u001b[39m\u001b[38;5;241m.\u001b[39msingleton_printers,\n\u001b[0;32m    706\u001b[0m     type_pprinters\u001b[38;5;241m=\u001b[39m\u001b[38;5;28mself\u001b[39m\u001b[38;5;241m.\u001b[39mtype_printers,\n\u001b[0;32m    707\u001b[0m     deferred_pprinters\u001b[38;5;241m=\u001b[39m\u001b[38;5;28mself\u001b[39m\u001b[38;5;241m.\u001b[39mdeferred_printers)\n\u001b[1;32m--> 708\u001b[0m printer\u001b[38;5;241m.\u001b[39mpretty(obj)\n\u001b[0;32m    709\u001b[0m printer\u001b[38;5;241m.\u001b[39mflush()\n\u001b[0;32m    710\u001b[0m \u001b[38;5;28;01mreturn\u001b[39;00m stream\u001b[38;5;241m.\u001b[39mgetvalue()\n",
      "File \u001b[1;32mc:\\Users\\mates\\anaconda3\\Lib\\site-packages\\IPython\\lib\\pretty.py:410\u001b[0m, in \u001b[0;36mRepresentationPrinter.pretty\u001b[1;34m(self, obj)\u001b[0m\n\u001b[0;32m    407\u001b[0m                         \u001b[38;5;28;01mreturn\u001b[39;00m meth(obj, \u001b[38;5;28mself\u001b[39m, cycle)\n\u001b[0;32m    408\u001b[0m                 \u001b[38;5;28;01mif\u001b[39;00m \u001b[38;5;28mcls\u001b[39m \u001b[38;5;129;01mis\u001b[39;00m \u001b[38;5;129;01mnot\u001b[39;00m \u001b[38;5;28mobject\u001b[39m \\\n\u001b[0;32m    409\u001b[0m                         \u001b[38;5;129;01mand\u001b[39;00m \u001b[38;5;28mcallable\u001b[39m(\u001b[38;5;28mcls\u001b[39m\u001b[38;5;241m.\u001b[39m\u001b[38;5;18m__dict__\u001b[39m\u001b[38;5;241m.\u001b[39mget(\u001b[38;5;124m'\u001b[39m\u001b[38;5;124m__repr__\u001b[39m\u001b[38;5;124m'\u001b[39m)):\n\u001b[1;32m--> 410\u001b[0m                     \u001b[38;5;28;01mreturn\u001b[39;00m _repr_pprint(obj, \u001b[38;5;28mself\u001b[39m, cycle)\n\u001b[0;32m    412\u001b[0m     \u001b[38;5;28;01mreturn\u001b[39;00m _default_pprint(obj, \u001b[38;5;28mself\u001b[39m, cycle)\n\u001b[0;32m    413\u001b[0m \u001b[38;5;28;01mfinally\u001b[39;00m:\n",
      "File \u001b[1;32mc:\\Users\\mates\\anaconda3\\Lib\\site-packages\\IPython\\lib\\pretty.py:778\u001b[0m, in \u001b[0;36m_repr_pprint\u001b[1;34m(obj, p, cycle)\u001b[0m\n\u001b[0;32m    776\u001b[0m \u001b[38;5;250m\u001b[39m\u001b[38;5;124;03m\"\"\"A pprint that just redirects to the normal repr function.\"\"\"\u001b[39;00m\n\u001b[0;32m    777\u001b[0m \u001b[38;5;66;03m# Find newlines and replace them with p.break_()\u001b[39;00m\n\u001b[1;32m--> 778\u001b[0m output \u001b[38;5;241m=\u001b[39m \u001b[38;5;28mrepr\u001b[39m(obj)\n\u001b[0;32m    779\u001b[0m lines \u001b[38;5;241m=\u001b[39m output\u001b[38;5;241m.\u001b[39msplitlines()\n\u001b[0;32m    780\u001b[0m \u001b[38;5;28;01mwith\u001b[39;00m p\u001b[38;5;241m.\u001b[39mgroup():\n",
      "File \u001b[1;32mc:\\Users\\mates\\anaconda3\\Lib\\site-packages\\plotnine\\ggplot.py:114\u001b[0m, in \u001b[0;36mggplot.__repr__\u001b[1;34m(self)\u001b[0m\n\u001b[0;32m    110\u001b[0m \u001b[38;5;28;01mdef\u001b[39;00m \u001b[38;5;21m__repr__\u001b[39m(\u001b[38;5;28mself\u001b[39m) \u001b[38;5;241m-\u001b[39m\u001b[38;5;241m>\u001b[39m \u001b[38;5;28mstr\u001b[39m:\n\u001b[0;32m    111\u001b[0m \u001b[38;5;250m    \u001b[39m\u001b[38;5;124;03m\"\"\"\u001b[39;00m\n\u001b[0;32m    112\u001b[0m \u001b[38;5;124;03m    Print/show the plot\u001b[39;00m\n\u001b[0;32m    113\u001b[0m \u001b[38;5;124;03m    \"\"\"\u001b[39;00m\n\u001b[1;32m--> 114\u001b[0m     figure \u001b[38;5;241m=\u001b[39m \u001b[38;5;28mself\u001b[39m\u001b[38;5;241m.\u001b[39mdraw(show\u001b[38;5;241m=\u001b[39m\u001b[38;5;28;01mTrue\u001b[39;00m)\n\u001b[0;32m    116\u001b[0m     dpi \u001b[38;5;241m=\u001b[39m figure\u001b[38;5;241m.\u001b[39mget_dpi()\n\u001b[0;32m    117\u001b[0m     W \u001b[38;5;241m=\u001b[39m \u001b[38;5;28mint\u001b[39m(figure\u001b[38;5;241m.\u001b[39mget_figwidth() \u001b[38;5;241m*\u001b[39m dpi)\n",
      "File \u001b[1;32mc:\\Users\\mates\\anaconda3\\Lib\\site-packages\\plotnine\\ggplot.py:224\u001b[0m, in \u001b[0;36mggplot.draw\u001b[1;34m(self, show)\u001b[0m\n\u001b[0;32m    222\u001b[0m \u001b[38;5;28mself\u001b[39m \u001b[38;5;241m=\u001b[39m deepcopy(\u001b[38;5;28mself\u001b[39m)\n\u001b[0;32m    223\u001b[0m \u001b[38;5;28;01mwith\u001b[39;00m plot_context(\u001b[38;5;28mself\u001b[39m, show\u001b[38;5;241m=\u001b[39mshow):\n\u001b[1;32m--> 224\u001b[0m     \u001b[38;5;28mself\u001b[39m\u001b[38;5;241m.\u001b[39m_build()\n\u001b[0;32m    226\u001b[0m     \u001b[38;5;66;03m# setup\u001b[39;00m\n\u001b[0;32m    227\u001b[0m     figure, axs \u001b[38;5;241m=\u001b[39m \u001b[38;5;28mself\u001b[39m\u001b[38;5;241m.\u001b[39m_create_figure()\n",
      "File \u001b[1;32mc:\\Users\\mates\\anaconda3\\Lib\\site-packages\\plotnine\\ggplot.py:314\u001b[0m, in \u001b[0;36mggplot._build\u001b[1;34m(self)\u001b[0m\n\u001b[0;32m    310\u001b[0m layout\u001b[38;5;241m.\u001b[39msetup(layers, \u001b[38;5;28mself\u001b[39m)\n\u001b[0;32m    312\u001b[0m \u001b[38;5;66;03m# Compute aesthetics to produce data with generalised\u001b[39;00m\n\u001b[0;32m    313\u001b[0m \u001b[38;5;66;03m# variable names\u001b[39;00m\n\u001b[1;32m--> 314\u001b[0m layers\u001b[38;5;241m.\u001b[39mcompute_aesthetics(\u001b[38;5;28mself\u001b[39m)\n\u001b[0;32m    316\u001b[0m \u001b[38;5;66;03m# Transform data using all scales\u001b[39;00m\n\u001b[0;32m    317\u001b[0m layers\u001b[38;5;241m.\u001b[39mtransform(scales)\n",
      "File \u001b[1;32mc:\\Users\\mates\\anaconda3\\Lib\\site-packages\\plotnine\\layer.py:467\u001b[0m, in \u001b[0;36mLayers.compute_aesthetics\u001b[1;34m(self, plot)\u001b[0m\n\u001b[0;32m    465\u001b[0m \u001b[38;5;28;01mdef\u001b[39;00m \u001b[38;5;21mcompute_aesthetics\u001b[39m(\u001b[38;5;28mself\u001b[39m, plot: Ggplot):\n\u001b[0;32m    466\u001b[0m     \u001b[38;5;28;01mfor\u001b[39;00m l \u001b[38;5;129;01min\u001b[39;00m \u001b[38;5;28mself\u001b[39m:\n\u001b[1;32m--> 467\u001b[0m         l\u001b[38;5;241m.\u001b[39mcompute_aesthetics(plot)\n",
      "File \u001b[1;32mc:\\Users\\mates\\anaconda3\\Lib\\site-packages\\plotnine\\layer.py:260\u001b[0m, in \u001b[0;36mlayer.compute_aesthetics\u001b[1;34m(self, plot)\u001b[0m\n\u001b[0;32m    253\u001b[0m \u001b[38;5;28;01mdef\u001b[39;00m \u001b[38;5;21mcompute_aesthetics\u001b[39m(\u001b[38;5;28mself\u001b[39m, plot: Ggplot):\n\u001b[0;32m    254\u001b[0m \u001b[38;5;250m    \u001b[39m\u001b[38;5;124;03m\"\"\"\u001b[39;00m\n\u001b[0;32m    255\u001b[0m \u001b[38;5;124;03m    Return a dataframe where the columns match the aesthetic mappings\u001b[39;00m\n\u001b[0;32m    256\u001b[0m \n\u001b[0;32m    257\u001b[0m \u001b[38;5;124;03m    Transformations like 'factor(cyl)' and other\u001b[39;00m\n\u001b[0;32m    258\u001b[0m \u001b[38;5;124;03m    expression evaluation are  made in here\u001b[39;00m\n\u001b[0;32m    259\u001b[0m \u001b[38;5;124;03m    \"\"\"\u001b[39;00m\n\u001b[1;32m--> 260\u001b[0m     evaled \u001b[38;5;241m=\u001b[39m evaluate(\u001b[38;5;28mself\u001b[39m\u001b[38;5;241m.\u001b[39mmapping\u001b[38;5;241m.\u001b[39m_starting, \u001b[38;5;28mself\u001b[39m\u001b[38;5;241m.\u001b[39mdata, plot\u001b[38;5;241m.\u001b[39menvironment)\n\u001b[0;32m    261\u001b[0m     evaled_aes \u001b[38;5;241m=\u001b[39m aes(\u001b[38;5;241m*\u001b[39m\u001b[38;5;241m*\u001b[39m{\u001b[38;5;28mstr\u001b[39m(col): col \u001b[38;5;28;01mfor\u001b[39;00m col \u001b[38;5;129;01min\u001b[39;00m evaled})\n\u001b[0;32m    262\u001b[0m     plot\u001b[38;5;241m.\u001b[39mscales\u001b[38;5;241m.\u001b[39madd_defaults(evaled, evaled_aes)\n",
      "File \u001b[1;32mc:\\Users\\mates\\anaconda3\\Lib\\site-packages\\plotnine\\mapping\\evaluation.py:227\u001b[0m, in \u001b[0;36mevaluate\u001b[1;34m(aesthetics, data, env)\u001b[0m\n\u001b[0;32m    225\u001b[0m     new_val \u001b[38;5;241m=\u001b[39m env\u001b[38;5;241m.\u001b[39meval(col, inner_namespace\u001b[38;5;241m=\u001b[39mdata)\n\u001b[0;32m    226\u001b[0m \u001b[38;5;28;01mexcept\u001b[39;00m \u001b[38;5;167;01mException\u001b[39;00m \u001b[38;5;28;01mas\u001b[39;00m e:\n\u001b[1;32m--> 227\u001b[0m     \u001b[38;5;28;01mraise\u001b[39;00m PlotnineError(_TPL_EVAL_FAIL\u001b[38;5;241m.\u001b[39mformat(ae, col, \u001b[38;5;28mstr\u001b[39m(e)))\n\u001b[0;32m    229\u001b[0m \u001b[38;5;28;01mtry\u001b[39;00m:\n\u001b[0;32m    230\u001b[0m     evaled[ae] \u001b[38;5;241m=\u001b[39m new_val\n",
      "\u001b[1;31mPlotnineError\u001b[0m: \"Could not evaluate the 'x' mapping: 'COGS' (original error: name 'COGS' is not defined)\""
     ]
    }
   ],
   "source": [
    "(ggplot(data, aes(x='COGS'))\n",
    "+ geom_bar()\n",
    ")\n"
   ]
  },
  {
   "cell_type": "code",
   "execution_count": null,
   "metadata": {},
   "outputs": [],
   "source": []
  }
 ],
 "metadata": {
  "kernelspec": {
   "display_name": "base",
   "language": "python",
   "name": "python3"
  },
  "language_info": {
   "codemirror_mode": {
    "name": "ipython",
    "version": 3
   },
   "file_extension": ".py",
   "mimetype": "text/x-python",
   "name": "python",
   "nbconvert_exporter": "python",
   "pygments_lexer": "ipython3",
   "version": "3.11.4"
  }
 },
 "nbformat": 4,
 "nbformat_minor": 2
}
