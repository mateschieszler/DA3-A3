{
 "cells": [
  {
   "cell_type": "markdown",
   "metadata": {},
   "source": [
    "# DA3-A3 \n",
    "## Parker & Co. -1\n",
    "Peter Szilvasi,\n",
    "Máté Schieszler "
   ]
  },
  {
   "cell_type": "code",
   "execution_count": 1,
   "metadata": {},
   "outputs": [],
   "source": [
    "import pandas as pd\n",
    "import datetime\n",
    "import numpy as np\n",
    "import seaborn as sns\n",
    "import matplotlib.pyplot as plt\n",
    "from plotnine import *\n",
    "import warnings\n",
    "\n",
    "warnings.filterwarnings(\"ignore\")"
   ]
  },
  {
   "cell_type": "code",
   "execution_count": 2,
   "metadata": {},
   "outputs": [],
   "source": [
    "from py_helper_functions import *"
   ]
  },
  {
   "cell_type": "code",
   "execution_count": 3,
   "metadata": {},
   "outputs": [],
   "source": [
    "# Read in the data offline\n",
    "original_data = pd.read_csv('cs_bisnode_panel.csv')"
   ]
  },
  {
   "cell_type": "code",
   "execution_count": 4,
   "metadata": {},
   "outputs": [],
   "source": [
    "# Read in the data online\n",
    "#original_data = pd.read_csv('https://raw.githubusercontent.com/mateschieszler/DA3-A3/main/cs_bisnode_panel.csv')"
   ]
  },
  {
   "cell_type": "code",
   "execution_count": 5,
   "metadata": {},
   "outputs": [],
   "source": [
    "# copy original so we don't have to reload it every time (it takes more than 10s)\n",
    "data = original_data.copy()"
   ]
  },
  {
   "cell_type": "code",
   "execution_count": 6,
   "metadata": {},
   "outputs": [
    {
     "data": {
      "text/plain": [
       "(287829, 48)"
      ]
     },
     "execution_count": 6,
     "metadata": {},
     "output_type": "execute_result"
    }
   ],
   "source": [
    "# filter out ind2 != 26\n",
    "# data = data.loc[data['ind2'] == 26] # i would comment this out \n",
    "# data['sales'].fillna(0, inplace=True)\n",
    "data.shape"
   ]
  },
  {
   "cell_type": "code",
   "execution_count": 7,
   "metadata": {},
   "outputs": [],
   "source": [
    "# add all missing year and comp_id combinations -\n",
    "# originally missing combinations will have NAs in all other columns\n",
    "data = (\n",
    "    data.set_index([\"year\", \"comp_id\"])\n",
    "    .unstack(fill_value=\"toReplace\")\n",
    "    .stack()\n",
    "    .reset_index()\n",
    ")\n",
    "data = data.replace(\"toReplace\", np.nan)  # only way I could define it as NaN"
   ]
  },
  {
   "cell_type": "code",
   "execution_count": 8,
   "metadata": {},
   "outputs": [],
   "source": [
    "# generate status_alive; if sales larger than zero and not-NA, then firm is alive\n",
    "data[\"status_alive\"] = (data[\"sales\"] > 0 & (False == data[\"sales\"].isna())).astype(int)\n",
    "\n",
    "# defaults in one year if there are sales in this year but no sales the next year\n",
    "# Status_in_a_year: data.groupby('comp_id')['status_alive'].shift(-1)\n",
    "data[\"default\"] = (\n",
    "    (data[\"status_alive\"] == 1)\n",
    "    & (data.groupby(\"comp_id\")[\"status_alive\"].shift(-1) == 0)\n",
    ").astype(int)"
   ]
  },
  {
   "cell_type": "code",
   "execution_count": 9,
   "metadata": {},
   "outputs": [
    {
     "data": {
      "text/plain": [
       "status_alive  default\n",
       "0             0          24060\n",
       "1             0          19885\n",
       "              1           2467\n",
       "Name: comp_id, dtype: int64"
      ]
     },
     "execution_count": 9,
     "metadata": {},
     "output_type": "execute_result"
    }
   ],
   "source": [
    "data.loc[data['year'] == 2014].groupby([\"status_alive\",\"default\"])['comp_id'].count()"
   ]
  },
  {
   "cell_type": "code",
   "execution_count": 10,
   "metadata": {},
   "outputs": [],
   "source": [
    "# filter for status alive = 1\n",
    "data = data.loc[data[\"status_alive\"] == 1]"
   ]
  },
  {
   "cell_type": "code",
   "execution_count": 11,
   "metadata": {},
   "outputs": [
    {
     "data": {
      "text/plain": [
       "count    238491.000000\n",
       "mean          0.154182\n",
       "std           0.361124\n",
       "min           0.000000\n",
       "25%           0.000000\n",
       "50%           0.000000\n",
       "75%           0.000000\n",
       "max           1.000000\n",
       "Name: default, dtype: float64"
      ]
     },
     "execution_count": 11,
     "metadata": {},
     "output_type": "execute_result"
    }
   ],
   "source": [
    "data[\"default\"].describe()"
   ]
  },
  {
   "cell_type": "code",
   "execution_count": 12,
   "metadata": {},
   "outputs": [
    {
     "name": "stdout",
     "output_type": "stream",
     "text": [
      "Total firms in holdout set: 1037\n",
      "Number of defaulted firms: 56\n",
      "Number of firms that stayed alive: 981\n",
      "Average sales of the firms: 490202.21792682\n",
      "Minimum sales: 1070.370361328125\n",
      "Maximum sales: 9576485.0\n"
     ]
    }
   ],
   "source": [
    "holdout_set = data.loc[(data['ind2'] == 26) & (data['year'] == 2014) & (data['sales'] >= 1000) & (data['sales'] <= 10000000)]\n",
    "\n",
    "# Display information about the resulting holdout set\n",
    "print(\"Total firms in holdout set:\", len(holdout_set))\n",
    "print(\"Number of defaulted firms:\", len(holdout_set[holdout_set['default'] == 1]))\n",
    "print(\"Number of firms that stayed alive:\", len(holdout_set[holdout_set['default'] == 0]))  # Since all firms meet the condition\n",
    "print(\"Average sales of the firms:\", holdout_set['sales'].mean())\n",
    "print(\"Minimum sales:\", holdout_set['sales'].min())\n",
    "print(\"Maximum sales:\", holdout_set['sales'].max())"
   ]
  },
  {
   "cell_type": "code",
   "execution_count": 13,
   "metadata": {},
   "outputs": [
    {
     "data": {
      "text/plain": [
       "(238491, 50)"
      ]
     },
     "execution_count": 13,
     "metadata": {},
     "output_type": "execute_result"
    }
   ],
   "source": [
    "data.shape"
   ]
  },
  {
   "cell_type": "code",
   "execution_count": 14,
   "metadata": {},
   "outputs": [],
   "source": [
    "# with this -> data = working set\n",
    "# data = data.drop(holdout_set.index)"
   ]
  },
  {
   "cell_type": "markdown",
   "metadata": {},
   "source": [
    "## Handling Missing Values"
   ]
  },
  {
   "cell_type": "code",
   "execution_count": 15,
   "metadata": {},
   "outputs": [],
   "source": [
    "# drop year 2015 and 2016\n",
    "data = data.loc[data['year'] <= 2014]"
   ]
  },
  {
   "cell_type": "code",
   "execution_count": 16,
   "metadata": {},
   "outputs": [
    {
     "data": {
      "text/plain": [
       "year                         0\n",
       "comp_id                      0\n",
       "begin                        0\n",
       "end                          0\n",
       "COGS                    191311\n",
       "amort                      433\n",
       "curr_assets                 80\n",
       "curr_liab                   80\n",
       "extra_exp                 1072\n",
       "extra_inc                 1072\n",
       "extra_profit_loss           10\n",
       "finished_prod           192185\n",
       "fixed_assets                80\n",
       "inc_bef_tax                  0\n",
       "intang_assets               89\n",
       "inventories                 80\n",
       "liq_assets                  80\n",
       "material_exp               433\n",
       "net_dom_sales           191311\n",
       "net_exp_sales           191311\n",
       "personnel_exp              433\n",
       "profit_loss_year            80\n",
       "sales                        0\n",
       "share_eq                    80\n",
       "subscribed_cap              80\n",
       "tang_assets               1151\n",
       "wages                   191550\n",
       "D                       206922\n",
       "balsheet_flag                0\n",
       "balsheet_length              0\n",
       "balsheet_notfullyear         0\n",
       "founded_year             42396\n",
       "exit_year               178090\n",
       "ceo_count                42371\n",
       "foreign                  42371\n",
       "female                   42371\n",
       "birth_year               82651\n",
       "inoffice_days            42371\n",
       "gender                   42371\n",
       "origin                   42371\n",
       "nace_main                  748\n",
       "ind2                       748\n",
       "ind                       7279\n",
       "urban_m                      0\n",
       "region_m                   638\n",
       "founded_date                39\n",
       "exit_date               165959\n",
       "labor_avg               100140\n",
       "status_alive                 0\n",
       "default                      0\n",
       "dtype: int64"
      ]
     },
     "execution_count": 16,
     "metadata": {},
     "output_type": "execute_result"
    }
   ],
   "source": [
    "# look at missing values\n",
    "data.isna().sum()"
   ]
  },
  {
   "cell_type": "code",
   "execution_count": 17,
   "metadata": {},
   "outputs": [
    {
     "data": {
      "text/html": [
       "<div>\n",
       "<style scoped>\n",
       "    .dataframe tbody tr th:only-of-type {\n",
       "        vertical-align: middle;\n",
       "    }\n",
       "\n",
       "    .dataframe tbody tr th {\n",
       "        vertical-align: top;\n",
       "    }\n",
       "\n",
       "    .dataframe thead th {\n",
       "        text-align: right;\n",
       "    }\n",
       "</style>\n",
       "<table border=\"1\" class=\"dataframe\">\n",
       "  <thead>\n",
       "    <tr style=\"text-align: right;\">\n",
       "      <th></th>\n",
       "      <th>Original Data Missing %</th>\n",
       "      <th>Filtered Data Missing %</th>\n",
       "    </tr>\n",
       "  </thead>\n",
       "  <tbody>\n",
       "    <tr>\n",
       "      <th>D</th>\n",
       "      <td>100.000000</td>\n",
       "      <td>100.000000</td>\n",
       "    </tr>\n",
       "    <tr>\n",
       "      <th>finished_prod</th>\n",
       "      <td>93.925213</td>\n",
       "      <td>92.877993</td>\n",
       "    </tr>\n",
       "    <tr>\n",
       "      <th>wages</th>\n",
       "      <td>93.752193</td>\n",
       "      <td>92.571114</td>\n",
       "    </tr>\n",
       "    <tr>\n",
       "      <th>COGS</th>\n",
       "      <td>93.656998</td>\n",
       "      <td>92.455611</td>\n",
       "    </tr>\n",
       "    <tr>\n",
       "      <th>net_exp_sales</th>\n",
       "      <td>93.656998</td>\n",
       "      <td>92.455611</td>\n",
       "    </tr>\n",
       "    <tr>\n",
       "      <th>net_dom_sales</th>\n",
       "      <td>93.656998</td>\n",
       "      <td>92.455611</td>\n",
       "    </tr>\n",
       "    <tr>\n",
       "      <th>exit_year</th>\n",
       "      <td>86.499276</td>\n",
       "      <td>86.066247</td>\n",
       "    </tr>\n",
       "    <tr>\n",
       "      <th>exit_date</th>\n",
       "      <td>80.481466</td>\n",
       "      <td>80.203652</td>\n",
       "    </tr>\n",
       "    <tr>\n",
       "      <th>labor_avg</th>\n",
       "      <td>50.909394</td>\n",
       "      <td>48.395047</td>\n",
       "    </tr>\n",
       "    <tr>\n",
       "      <th>birth_year</th>\n",
       "      <td>38.848761</td>\n",
       "      <td>39.943070</td>\n",
       "    </tr>\n",
       "    <tr>\n",
       "      <th>founded_year</th>\n",
       "      <td>19.614771</td>\n",
       "      <td>20.488880</td>\n",
       "    </tr>\n",
       "    <tr>\n",
       "      <th>origin</th>\n",
       "      <td>19.604348</td>\n",
       "      <td>20.476798</td>\n",
       "    </tr>\n",
       "    <tr>\n",
       "      <th>inoffice_days</th>\n",
       "      <td>19.604348</td>\n",
       "      <td>20.476798</td>\n",
       "    </tr>\n",
       "    <tr>\n",
       "      <th>foreign</th>\n",
       "      <td>19.604348</td>\n",
       "      <td>20.476798</td>\n",
       "    </tr>\n",
       "    <tr>\n",
       "      <th>female</th>\n",
       "      <td>19.604348</td>\n",
       "      <td>20.476798</td>\n",
       "    </tr>\n",
       "    <tr>\n",
       "      <th>gender</th>\n",
       "      <td>19.604348</td>\n",
       "      <td>20.476798</td>\n",
       "    </tr>\n",
       "    <tr>\n",
       "      <th>ceo_count</th>\n",
       "      <td>19.604348</td>\n",
       "      <td>20.476798</td>\n",
       "    </tr>\n",
       "    <tr>\n",
       "      <th>ind</th>\n",
       "      <td>3.394029</td>\n",
       "      <td>3.517751</td>\n",
       "    </tr>\n",
       "    <tr>\n",
       "      <th>tang_assets</th>\n",
       "      <td>0.510720</td>\n",
       "      <td>0.556248</td>\n",
       "    </tr>\n",
       "    <tr>\n",
       "      <th>extra_exp</th>\n",
       "      <td>6.437503</td>\n",
       "      <td>0.518070</td>\n",
       "    </tr>\n",
       "    <tr>\n",
       "      <th>extra_inc</th>\n",
       "      <td>6.437503</td>\n",
       "      <td>0.518070</td>\n",
       "    </tr>\n",
       "    <tr>\n",
       "      <th>nace_main</th>\n",
       "      <td>0.360631</td>\n",
       "      <td>0.361489</td>\n",
       "    </tr>\n",
       "    <tr>\n",
       "      <th>ind2</th>\n",
       "      <td>0.360631</td>\n",
       "      <td>0.361489</td>\n",
       "    </tr>\n",
       "    <tr>\n",
       "      <th>region_m</th>\n",
       "      <td>0.291840</td>\n",
       "      <td>0.308329</td>\n",
       "    </tr>\n",
       "    <tr>\n",
       "      <th>amort</th>\n",
       "      <td>2.793325</td>\n",
       "      <td>0.209258</td>\n",
       "    </tr>\n",
       "    <tr>\n",
       "      <th>personnel_exp</th>\n",
       "      <td>2.793325</td>\n",
       "      <td>0.209258</td>\n",
       "    </tr>\n",
       "    <tr>\n",
       "      <th>material_exp</th>\n",
       "      <td>2.793325</td>\n",
       "      <td>0.209258</td>\n",
       "    </tr>\n",
       "    <tr>\n",
       "      <th>intang_assets</th>\n",
       "      <td>0.048640</td>\n",
       "      <td>0.043011</td>\n",
       "    </tr>\n",
       "    <tr>\n",
       "      <th>subscribed_cap</th>\n",
       "      <td>0.045513</td>\n",
       "      <td>0.038662</td>\n",
       "    </tr>\n",
       "    <tr>\n",
       "      <th>share_eq</th>\n",
       "      <td>0.045513</td>\n",
       "      <td>0.038662</td>\n",
       "    </tr>\n",
       "    <tr>\n",
       "      <th>profit_loss_year</th>\n",
       "      <td>3.433983</td>\n",
       "      <td>0.038662</td>\n",
       "    </tr>\n",
       "    <tr>\n",
       "      <th>liq_assets</th>\n",
       "      <td>0.045513</td>\n",
       "      <td>0.038662</td>\n",
       "    </tr>\n",
       "    <tr>\n",
       "      <th>curr_liab</th>\n",
       "      <td>0.045513</td>\n",
       "      <td>0.038662</td>\n",
       "    </tr>\n",
       "    <tr>\n",
       "      <th>fixed_assets</th>\n",
       "      <td>0.045513</td>\n",
       "      <td>0.038662</td>\n",
       "    </tr>\n",
       "    <tr>\n",
       "      <th>curr_assets</th>\n",
       "      <td>0.045513</td>\n",
       "      <td>0.038662</td>\n",
       "    </tr>\n",
       "    <tr>\n",
       "      <th>inventories</th>\n",
       "      <td>0.045513</td>\n",
       "      <td>0.038662</td>\n",
       "    </tr>\n",
       "    <tr>\n",
       "      <th>founded_date</th>\n",
       "      <td>0.017719</td>\n",
       "      <td>0.018848</td>\n",
       "    </tr>\n",
       "    <tr>\n",
       "      <th>extra_profit_loss</th>\n",
       "      <td>5.976813</td>\n",
       "      <td>0.004833</td>\n",
       "    </tr>\n",
       "    <tr>\n",
       "      <th>urban_m</th>\n",
       "      <td>0.000000</td>\n",
       "      <td>0.000000</td>\n",
       "    </tr>\n",
       "    <tr>\n",
       "      <th>end</th>\n",
       "      <td>0.000000</td>\n",
       "      <td>0.000000</td>\n",
       "    </tr>\n",
       "    <tr>\n",
       "      <th>default</th>\n",
       "      <td>NaN</td>\n",
       "      <td>0.000000</td>\n",
       "    </tr>\n",
       "    <tr>\n",
       "      <th>status_alive</th>\n",
       "      <td>NaN</td>\n",
       "      <td>0.000000</td>\n",
       "    </tr>\n",
       "    <tr>\n",
       "      <th>begin</th>\n",
       "      <td>0.000000</td>\n",
       "      <td>0.000000</td>\n",
       "    </tr>\n",
       "    <tr>\n",
       "      <th>sales</th>\n",
       "      <td>2.583826</td>\n",
       "      <td>0.000000</td>\n",
       "    </tr>\n",
       "    <tr>\n",
       "      <th>balsheet_flag</th>\n",
       "      <td>0.000000</td>\n",
       "      <td>0.000000</td>\n",
       "    </tr>\n",
       "    <tr>\n",
       "      <th>balsheet_length</th>\n",
       "      <td>0.000000</td>\n",
       "      <td>0.000000</td>\n",
       "    </tr>\n",
       "    <tr>\n",
       "      <th>balsheet_notfullyear</th>\n",
       "      <td>0.000000</td>\n",
       "      <td>0.000000</td>\n",
       "    </tr>\n",
       "    <tr>\n",
       "      <th>comp_id</th>\n",
       "      <td>0.000000</td>\n",
       "      <td>0.000000</td>\n",
       "    </tr>\n",
       "    <tr>\n",
       "      <th>inc_bef_tax</th>\n",
       "      <td>2.583826</td>\n",
       "      <td>0.000000</td>\n",
       "    </tr>\n",
       "    <tr>\n",
       "      <th>year</th>\n",
       "      <td>0.000000</td>\n",
       "      <td>0.000000</td>\n",
       "    </tr>\n",
       "  </tbody>\n",
       "</table>\n",
       "</div>"
      ],
      "text/plain": [
       "                      Original Data Missing %  Filtered Data Missing %\n",
       "D                                  100.000000               100.000000\n",
       "finished_prod                       93.925213                92.877993\n",
       "wages                               93.752193                92.571114\n",
       "COGS                                93.656998                92.455611\n",
       "net_exp_sales                       93.656998                92.455611\n",
       "net_dom_sales                       93.656998                92.455611\n",
       "exit_year                           86.499276                86.066247\n",
       "exit_date                           80.481466                80.203652\n",
       "labor_avg                           50.909394                48.395047\n",
       "birth_year                          38.848761                39.943070\n",
       "founded_year                        19.614771                20.488880\n",
       "origin                              19.604348                20.476798\n",
       "inoffice_days                       19.604348                20.476798\n",
       "foreign                             19.604348                20.476798\n",
       "female                              19.604348                20.476798\n",
       "gender                              19.604348                20.476798\n",
       "ceo_count                           19.604348                20.476798\n",
       "ind                                  3.394029                 3.517751\n",
       "tang_assets                          0.510720                 0.556248\n",
       "extra_exp                            6.437503                 0.518070\n",
       "extra_inc                            6.437503                 0.518070\n",
       "nace_main                            0.360631                 0.361489\n",
       "ind2                                 0.360631                 0.361489\n",
       "region_m                             0.291840                 0.308329\n",
       "amort                                2.793325                 0.209258\n",
       "personnel_exp                        2.793325                 0.209258\n",
       "material_exp                         2.793325                 0.209258\n",
       "intang_assets                        0.048640                 0.043011\n",
       "subscribed_cap                       0.045513                 0.038662\n",
       "share_eq                             0.045513                 0.038662\n",
       "profit_loss_year                     3.433983                 0.038662\n",
       "liq_assets                           0.045513                 0.038662\n",
       "curr_liab                            0.045513                 0.038662\n",
       "fixed_assets                         0.045513                 0.038662\n",
       "curr_assets                          0.045513                 0.038662\n",
       "inventories                          0.045513                 0.038662\n",
       "founded_date                         0.017719                 0.018848\n",
       "extra_profit_loss                    5.976813                 0.004833\n",
       "urban_m                              0.000000                 0.000000\n",
       "end                                  0.000000                 0.000000\n",
       "default                                   NaN                 0.000000\n",
       "status_alive                              NaN                 0.000000\n",
       "begin                                0.000000                 0.000000\n",
       "sales                                2.583826                 0.000000\n",
       "balsheet_flag                        0.000000                 0.000000\n",
       "balsheet_length                      0.000000                 0.000000\n",
       "balsheet_notfullyear                 0.000000                 0.000000\n",
       "comp_id                              0.000000                 0.000000\n",
       "inc_bef_tax                          2.583826                 0.000000\n",
       "year                                 0.000000                 0.000000"
      ]
     },
     "execution_count": 17,
     "metadata": {},
     "output_type": "execute_result"
    }
   ],
   "source": [
    "# Calculate percentage of missing values in each column of the original dataset\n",
    "original_missing_percentage = (original_data.isnull().sum() / len(original_data)) * 100\n",
    "\n",
    "# Calculate percentage of missing values in each column of the filtered dataset\n",
    "filtered_missing_percentage = (data.isnull().sum() / len(data)) * 100\n",
    "\n",
    "# Calculate percentage of missing values in each column of the filtered dataset\n",
    "filtered_missing_percentage = (data.isnull().sum() / len(data)) * 100\n",
    "\n",
    "# Combine the missing percentage information into a DataFrame for easier comparison\n",
    "missing_info = pd.DataFrame({\n",
    "    'Original Data Missing %': original_missing_percentage,\n",
    "    'Filtered Data Missing %': filtered_missing_percentage\n",
    "})\n",
    "\n",
    "missing_info.sort_values(by='Filtered Data Missing %', ascending=False)"
   ]
  },
  {
   "cell_type": "markdown",
   "metadata": {},
   "source": [
    "Would it makes sense to examine all original data as it might have some additinal info which might uncover relations that are not present in our data?"
   ]
  },
  {
   "cell_type": "code",
   "execution_count": 18,
   "metadata": {},
   "outputs": [],
   "source": [
    "# drop columns with over 12000 missing values\n",
    "to_drop = ['D','exit_year','wages','finished_prod','COGS','net_exp_sales','net_dom_sales','exit_date']\n",
    "data = data.drop(to_drop, axis=1)"
   ]
  },
  {
   "cell_type": "code",
   "execution_count": 19,
   "metadata": {},
   "outputs": [],
   "source": [
    "# drop where industry is empty, itt nem tudom ezt kell e, vagy csak flageljük\n",
    "# data = data.dropna(subset=\"ind2\")"
   ]
  },
  {
   "cell_type": "code",
   "execution_count": 20,
   "metadata": {},
   "outputs": [
    {
     "data": {
      "text/html": [
       "<div>\n",
       "<style scoped>\n",
       "    .dataframe tbody tr th:only-of-type {\n",
       "        vertical-align: middle;\n",
       "    }\n",
       "\n",
       "    .dataframe tbody tr th {\n",
       "        vertical-align: top;\n",
       "    }\n",
       "\n",
       "    .dataframe thead th {\n",
       "        text-align: right;\n",
       "    }\n",
       "</style>\n",
       "<table border=\"1\" class=\"dataframe\">\n",
       "  <thead>\n",
       "    <tr style=\"text-align: right;\">\n",
       "      <th></th>\n",
       "      <th>year</th>\n",
       "      <th>comp_id</th>\n",
       "      <th>begin</th>\n",
       "      <th>end</th>\n",
       "      <th>amort</th>\n",
       "      <th>curr_assets</th>\n",
       "      <th>curr_liab</th>\n",
       "      <th>extra_exp</th>\n",
       "      <th>extra_inc</th>\n",
       "      <th>extra_profit_loss</th>\n",
       "      <th>...</th>\n",
       "      <th>origin</th>\n",
       "      <th>nace_main</th>\n",
       "      <th>ind2</th>\n",
       "      <th>ind</th>\n",
       "      <th>urban_m</th>\n",
       "      <th>region_m</th>\n",
       "      <th>founded_date</th>\n",
       "      <th>labor_avg</th>\n",
       "      <th>status_alive</th>\n",
       "      <th>default</th>\n",
       "    </tr>\n",
       "  </thead>\n",
       "  <tbody>\n",
       "    <tr>\n",
       "      <th>0</th>\n",
       "      <td>2005</td>\n",
       "      <td>1.001034e+06</td>\n",
       "      <td>2005-01-01</td>\n",
       "      <td>2005-12-31</td>\n",
       "      <td>692.592590</td>\n",
       "      <td>7.266667e+03</td>\n",
       "      <td>7.574074e+03</td>\n",
       "      <td>0.000000</td>\n",
       "      <td>0.000000</td>\n",
       "      <td>0.000000</td>\n",
       "      <td>...</td>\n",
       "      <td>Domestic</td>\n",
       "      <td>5630.0</td>\n",
       "      <td>56.0</td>\n",
       "      <td>3.0</td>\n",
       "      <td>1.0</td>\n",
       "      <td>Central</td>\n",
       "      <td>1990-11-19</td>\n",
       "      <td>NaN</td>\n",
       "      <td>1</td>\n",
       "      <td>0</td>\n",
       "    </tr>\n",
       "    <tr>\n",
       "      <th>3</th>\n",
       "      <td>2005</td>\n",
       "      <td>1.003200e+06</td>\n",
       "      <td>2005-01-01</td>\n",
       "      <td>2005-12-31</td>\n",
       "      <td>25.925926</td>\n",
       "      <td>7.296296e+02</td>\n",
       "      <td>3.803704e+03</td>\n",
       "      <td>0.000000</td>\n",
       "      <td>4814.814941</td>\n",
       "      <td>4814.814941</td>\n",
       "      <td>...</td>\n",
       "      <td>NaN</td>\n",
       "      <td>5630.0</td>\n",
       "      <td>56.0</td>\n",
       "      <td>3.0</td>\n",
       "      <td>1.0</td>\n",
       "      <td>Central</td>\n",
       "      <td>2003-10-21</td>\n",
       "      <td>NaN</td>\n",
       "      <td>1</td>\n",
       "      <td>0</td>\n",
       "    </tr>\n",
       "    <tr>\n",
       "      <th>4</th>\n",
       "      <td>2005</td>\n",
       "      <td>1.004012e+06</td>\n",
       "      <td>2005-01-01</td>\n",
       "      <td>2005-12-31</td>\n",
       "      <td>114.814812</td>\n",
       "      <td>1.648148e+03</td>\n",
       "      <td>3.777778e+03</td>\n",
       "      <td>0.000000</td>\n",
       "      <td>0.000000</td>\n",
       "      <td>0.000000</td>\n",
       "      <td>...</td>\n",
       "      <td>Domestic</td>\n",
       "      <td>3314.0</td>\n",
       "      <td>33.0</td>\n",
       "      <td>2.0</td>\n",
       "      <td>3.0</td>\n",
       "      <td>West</td>\n",
       "      <td>1991-11-24</td>\n",
       "      <td>NaN</td>\n",
       "      <td>1</td>\n",
       "      <td>0</td>\n",
       "    </tr>\n",
       "    <tr>\n",
       "      <th>7</th>\n",
       "      <td>2005</td>\n",
       "      <td>1.011889e+06</td>\n",
       "      <td>2005-01-01</td>\n",
       "      <td>2005-12-31</td>\n",
       "      <td>51625.925781</td>\n",
       "      <td>3.500370e+04</td>\n",
       "      <td>4.988889e+03</td>\n",
       "      <td>0.000000</td>\n",
       "      <td>31925.925781</td>\n",
       "      <td>31925.925781</td>\n",
       "      <td>...</td>\n",
       "      <td>Domestic</td>\n",
       "      <td>5510.0</td>\n",
       "      <td>55.0</td>\n",
       "      <td>3.0</td>\n",
       "      <td>2.0</td>\n",
       "      <td>West</td>\n",
       "      <td>1992-11-09</td>\n",
       "      <td>NaN</td>\n",
       "      <td>1</td>\n",
       "      <td>0</td>\n",
       "    </tr>\n",
       "    <tr>\n",
       "      <th>8</th>\n",
       "      <td>2005</td>\n",
       "      <td>1.014183e+06</td>\n",
       "      <td>2005-01-01</td>\n",
       "      <td>2005-12-31</td>\n",
       "      <td>12692.592773</td>\n",
       "      <td>7.918889e+04</td>\n",
       "      <td>2.777778e+03</td>\n",
       "      <td>0.000000</td>\n",
       "      <td>1481.481445</td>\n",
       "      <td>1481.481445</td>\n",
       "      <td>...</td>\n",
       "      <td>Domestic</td>\n",
       "      <td>5510.0</td>\n",
       "      <td>55.0</td>\n",
       "      <td>3.0</td>\n",
       "      <td>2.0</td>\n",
       "      <td>Central</td>\n",
       "      <td>2001-12-21</td>\n",
       "      <td>NaN</td>\n",
       "      <td>1</td>\n",
       "      <td>0</td>\n",
       "    </tr>\n",
       "    <tr>\n",
       "      <th>...</th>\n",
       "      <td>...</td>\n",
       "      <td>...</td>\n",
       "      <td>...</td>\n",
       "      <td>...</td>\n",
       "      <td>...</td>\n",
       "      <td>...</td>\n",
       "      <td>...</td>\n",
       "      <td>...</td>\n",
       "      <td>...</td>\n",
       "      <td>...</td>\n",
       "      <td>...</td>\n",
       "      <td>...</td>\n",
       "      <td>...</td>\n",
       "      <td>...</td>\n",
       "      <td>...</td>\n",
       "      <td>...</td>\n",
       "      <td>...</td>\n",
       "      <td>...</td>\n",
       "      <td>...</td>\n",
       "      <td>...</td>\n",
       "      <td>...</td>\n",
       "    </tr>\n",
       "    <tr>\n",
       "      <th>464110</th>\n",
       "      <td>2014</td>\n",
       "      <td>4.639265e+11</td>\n",
       "      <td>2014-06-05</td>\n",
       "      <td>2014-12-31</td>\n",
       "      <td>407.407410</td>\n",
       "      <td>3.383704e+04</td>\n",
       "      <td>2.767407e+04</td>\n",
       "      <td>0.000000</td>\n",
       "      <td>0.000000</td>\n",
       "      <td>0.000000</td>\n",
       "      <td>...</td>\n",
       "      <td>Domestic</td>\n",
       "      <td>5610.0</td>\n",
       "      <td>56.0</td>\n",
       "      <td>3.0</td>\n",
       "      <td>3.0</td>\n",
       "      <td>West</td>\n",
       "      <td>2014-06-04</td>\n",
       "      <td>0.166667</td>\n",
       "      <td>1</td>\n",
       "      <td>1</td>\n",
       "    </tr>\n",
       "    <tr>\n",
       "      <th>464112</th>\n",
       "      <td>2014</td>\n",
       "      <td>4.639820e+11</td>\n",
       "      <td>2014-01-01</td>\n",
       "      <td>2014-12-31</td>\n",
       "      <td>7551.852051</td>\n",
       "      <td>8.765185e+04</td>\n",
       "      <td>1.156741e+05</td>\n",
       "      <td>0.000000</td>\n",
       "      <td>0.000000</td>\n",
       "      <td>0.000000</td>\n",
       "      <td>...</td>\n",
       "      <td>Domestic</td>\n",
       "      <td>2822.0</td>\n",
       "      <td>28.0</td>\n",
       "      <td>2.0</td>\n",
       "      <td>1.0</td>\n",
       "      <td>Central</td>\n",
       "      <td>1995-05-14</td>\n",
       "      <td>0.597222</td>\n",
       "      <td>1</td>\n",
       "      <td>0</td>\n",
       "    </tr>\n",
       "    <tr>\n",
       "      <th>464114</th>\n",
       "      <td>2014</td>\n",
       "      <td>4.640212e+11</td>\n",
       "      <td>2014-01-01</td>\n",
       "      <td>2014-12-31</td>\n",
       "      <td>5666.666504</td>\n",
       "      <td>1.528519e+04</td>\n",
       "      <td>1.488889e+03</td>\n",
       "      <td>0.000000</td>\n",
       "      <td>0.000000</td>\n",
       "      <td>0.000000</td>\n",
       "      <td>...</td>\n",
       "      <td>Domestic</td>\n",
       "      <td>2822.0</td>\n",
       "      <td>28.0</td>\n",
       "      <td>2.0</td>\n",
       "      <td>2.0</td>\n",
       "      <td>Central</td>\n",
       "      <td>2006-05-09</td>\n",
       "      <td>0.101852</td>\n",
       "      <td>1</td>\n",
       "      <td>0</td>\n",
       "    </tr>\n",
       "    <tr>\n",
       "      <th>464115</th>\n",
       "      <td>2014</td>\n",
       "      <td>4.640446e+11</td>\n",
       "      <td>2014-01-01</td>\n",
       "      <td>2014-12-31</td>\n",
       "      <td>71570.367188</td>\n",
       "      <td>6.486366e+06</td>\n",
       "      <td>2.499133e+06</td>\n",
       "      <td>0.000000</td>\n",
       "      <td>0.000000</td>\n",
       "      <td>0.000000</td>\n",
       "      <td>...</td>\n",
       "      <td>Foreign</td>\n",
       "      <td>3312.0</td>\n",
       "      <td>33.0</td>\n",
       "      <td>2.0</td>\n",
       "      <td>3.0</td>\n",
       "      <td>Central</td>\n",
       "      <td>2008-10-09</td>\n",
       "      <td>2.305556</td>\n",
       "      <td>1</td>\n",
       "      <td>0</td>\n",
       "    </tr>\n",
       "    <tr>\n",
       "      <th>464118</th>\n",
       "      <td>2014</td>\n",
       "      <td>4.641050e+11</td>\n",
       "      <td>2014-01-01</td>\n",
       "      <td>2014-12-31</td>\n",
       "      <td>1088.888916</td>\n",
       "      <td>5.009630e+04</td>\n",
       "      <td>1.375556e+04</td>\n",
       "      <td>55.555557</td>\n",
       "      <td>0.000000</td>\n",
       "      <td>-55.555557</td>\n",
       "      <td>...</td>\n",
       "      <td>Domestic</td>\n",
       "      <td>5610.0</td>\n",
       "      <td>56.0</td>\n",
       "      <td>3.0</td>\n",
       "      <td>3.0</td>\n",
       "      <td>West</td>\n",
       "      <td>1989-04-28</td>\n",
       "      <td>1.131944</td>\n",
       "      <td>1</td>\n",
       "      <td>0</td>\n",
       "    </tr>\n",
       "  </tbody>\n",
       "</table>\n",
       "<p>206922 rows × 42 columns</p>\n",
       "</div>"
      ],
      "text/plain": [
       "        year       comp_id       begin         end         amort  \\\n",
       "0       2005  1.001034e+06  2005-01-01  2005-12-31    692.592590   \n",
       "3       2005  1.003200e+06  2005-01-01  2005-12-31     25.925926   \n",
       "4       2005  1.004012e+06  2005-01-01  2005-12-31    114.814812   \n",
       "7       2005  1.011889e+06  2005-01-01  2005-12-31  51625.925781   \n",
       "8       2005  1.014183e+06  2005-01-01  2005-12-31  12692.592773   \n",
       "...      ...           ...         ...         ...           ...   \n",
       "464110  2014  4.639265e+11  2014-06-05  2014-12-31    407.407410   \n",
       "464112  2014  4.639820e+11  2014-01-01  2014-12-31   7551.852051   \n",
       "464114  2014  4.640212e+11  2014-01-01  2014-12-31   5666.666504   \n",
       "464115  2014  4.640446e+11  2014-01-01  2014-12-31  71570.367188   \n",
       "464118  2014  4.641050e+11  2014-01-01  2014-12-31   1088.888916   \n",
       "\n",
       "         curr_assets     curr_liab  extra_exp     extra_inc  \\\n",
       "0       7.266667e+03  7.574074e+03   0.000000      0.000000   \n",
       "3       7.296296e+02  3.803704e+03   0.000000   4814.814941   \n",
       "4       1.648148e+03  3.777778e+03   0.000000      0.000000   \n",
       "7       3.500370e+04  4.988889e+03   0.000000  31925.925781   \n",
       "8       7.918889e+04  2.777778e+03   0.000000   1481.481445   \n",
       "...              ...           ...        ...           ...   \n",
       "464110  3.383704e+04  2.767407e+04   0.000000      0.000000   \n",
       "464112  8.765185e+04  1.156741e+05   0.000000      0.000000   \n",
       "464114  1.528519e+04  1.488889e+03   0.000000      0.000000   \n",
       "464115  6.486366e+06  2.499133e+06   0.000000      0.000000   \n",
       "464118  5.009630e+04  1.375556e+04  55.555557      0.000000   \n",
       "\n",
       "        extra_profit_loss  ...    origin  nace_main  ind2  ind  urban_m  \\\n",
       "0                0.000000  ...  Domestic     5630.0  56.0  3.0      1.0   \n",
       "3             4814.814941  ...       NaN     5630.0  56.0  3.0      1.0   \n",
       "4                0.000000  ...  Domestic     3314.0  33.0  2.0      3.0   \n",
       "7            31925.925781  ...  Domestic     5510.0  55.0  3.0      2.0   \n",
       "8             1481.481445  ...  Domestic     5510.0  55.0  3.0      2.0   \n",
       "...                   ...  ...       ...        ...   ...  ...      ...   \n",
       "464110           0.000000  ...  Domestic     5610.0  56.0  3.0      3.0   \n",
       "464112           0.000000  ...  Domestic     2822.0  28.0  2.0      1.0   \n",
       "464114           0.000000  ...  Domestic     2822.0  28.0  2.0      2.0   \n",
       "464115           0.000000  ...   Foreign     3312.0  33.0  2.0      3.0   \n",
       "464118         -55.555557  ...  Domestic     5610.0  56.0  3.0      3.0   \n",
       "\n",
       "        region_m  founded_date  labor_avg  status_alive  default  \n",
       "0        Central    1990-11-19        NaN             1        0  \n",
       "3        Central    2003-10-21        NaN             1        0  \n",
       "4           West    1991-11-24        NaN             1        0  \n",
       "7           West    1992-11-09        NaN             1        0  \n",
       "8        Central    2001-12-21        NaN             1        0  \n",
       "...          ...           ...        ...           ...      ...  \n",
       "464110      West    2014-06-04   0.166667             1        1  \n",
       "464112   Central    1995-05-14   0.597222             1        0  \n",
       "464114   Central    2006-05-09   0.101852             1        0  \n",
       "464115   Central    2008-10-09   2.305556             1        0  \n",
       "464118      West    1989-04-28   1.131944             1        0  \n",
       "\n",
       "[206922 rows x 42 columns]"
      ]
     },
     "execution_count": 20,
     "metadata": {},
     "output_type": "execute_result"
    }
   ],
   "source": [
    "data"
   ]
  },
  {
   "cell_type": "markdown",
   "metadata": {},
   "source": [
    "# Label Engineering"
   ]
  },
  {
   "cell_type": "code",
   "execution_count": 21,
   "metadata": {},
   "outputs": [
    {
     "data": {
      "text/plain": [
       "count    206922.000000\n",
       "mean          0.117010\n",
       "std           0.321433\n",
       "min           0.000000\n",
       "25%           0.000000\n",
       "50%           0.000000\n",
       "75%           0.000000\n",
       "max           1.000000\n",
       "Name: default, dtype: float64"
      ]
     },
     "execution_count": 21,
     "metadata": {},
     "output_type": "execute_result"
    }
   ],
   "source": [
    "data[\"default\"].describe()"
   ]
  },
  {
   "cell_type": "code",
   "execution_count": 22,
   "metadata": {},
   "outputs": [
    {
     "data": {
      "text/plain": [
       "count    2.069220e+05\n",
       "mean     5.712713e+05\n",
       "std      4.188716e+06\n",
       "min      1.851852e-01\n",
       "25%      1.413056e+04\n",
       "50%      4.370000e+04\n",
       "75%      1.383315e+05\n",
       "max      1.110294e+08\n",
       "Name: sales, dtype: float64"
      ]
     },
     "execution_count": 22,
     "metadata": {},
     "output_type": "execute_result"
    }
   ],
   "source": [
    "data[\"sales\"].describe()"
   ]
  },
  {
   "cell_type": "code",
   "execution_count": 23,
   "metadata": {},
   "outputs": [],
   "source": [
    "data[\"sales\"] = np.where(\n",
    "    data[\"sales\"] < 0, 1, data[\"sales\"]\n",
    ")  # Replaces negative values in the \"sales\" column with 1\n",
    "data = data.assign( # Assigns new columns to the data\n",
    "    ln_sales=np.where( # Natural logarithm of sales if sales is larger than 0\n",
    "        data[\"sales\"] > 0, \n",
    "        np.log(data[\"sales\"]), \n",
    "        (np.where(data[\"sales\"].isna(), np.nan, 0))),  # NaN remain NaN\n",
    "    sales_mil=data[\"sales\"] / 1000000, # Sales in millions\n",
    "    sales_mil_log=np.where( # Natural logarithm of sales in millions if sales is larger than 0\n",
    "        data[\"sales\"] > 0, \n",
    "        np.log(data[\"sales\"] / 1000000),\n",
    "        (np.where(data[\"sales\"].isna(), np.nan, 0)), # NaN remain NaN\n",
    "    ),\n",
    ")"
   ]
  },
  {
   "cell_type": "code",
   "execution_count": 24,
   "metadata": {},
   "outputs": [
    {
     "data": {
      "text/plain": [
       "sales            0\n",
       "ln_sales         0\n",
       "sales_mil        0\n",
       "sales_mil_log    0\n",
       "dtype: int64"
      ]
     },
     "execution_count": 24,
     "metadata": {},
     "output_type": "execute_result"
    }
   ],
   "source": [
    "data[[\"sales\", \"ln_sales\", \"sales_mil\", \"sales_mil_log\"]].isna().sum()"
   ]
  },
  {
   "cell_type": "code",
   "execution_count": 25,
   "metadata": {},
   "outputs": [
    {
     "data": {
      "text/plain": [
       "count    2.069220e+05\n",
       "mean     5.712713e+05\n",
       "std      4.188716e+06\n",
       "min      1.851852e-01\n",
       "25%      1.413056e+04\n",
       "50%      4.370000e+04\n",
       "75%      1.383315e+05\n",
       "max      1.110294e+08\n",
       "Name: sales, dtype: float64"
      ]
     },
     "execution_count": 25,
     "metadata": {},
     "output_type": "execute_result"
    }
   ],
   "source": [
    "data[\"sales\"].describe()"
   ]
  },
  {
   "cell_type": "code",
   "execution_count": 26,
   "metadata": {},
   "outputs": [],
   "source": [
    "# This difference indicates how the logarithm of sales in millions changes from one period to the next for each company.\n",
    "# It's often used to capture the rate of change or momentum in a time series.\n",
    "data[\"d1_sales_mil_log\"] = data[\"sales_mil_log\"] - data.groupby(\"comp_id\")[\n",
    "    \"sales_mil_log\"\n",
    "].shift(1)"
   ]
  },
  {
   "cell_type": "code",
   "execution_count": 27,
   "metadata": {},
   "outputs": [],
   "source": [
    "# replace w 0 for new firms + add dummy to capture it\n",
    "\n",
    "# add age of firm\n",
    "data[\"age\"] = np.where(\n",
    "    data[\"year\"] - data[\"founded_year\"] < 0, 0, data[\"year\"] - data[\"founded_year\"])\n",
    "\n",
    "# add dummy for new firms\n",
    "data[\"new\"] = np.where(\n",
    "    ((data[\"age\"] <= 1) | (data[\"balsheet_notfullyear\"] == 1)),\n",
    "    1,\n",
    "    (np.where(data[\"age\"].isna(), np.nan, 0)))\n",
    "\n",
    "# replace d1_sales_mil_log with 0 for new firms\n",
    "data[\"d1_sales_mil_log\"] = np.where(\n",
    "    data[\"new\"] == 1, 0, np.where(data[\"new\"].isna(), np.nan, data[\"d1_sales_mil_log\"]))\n",
    "\n",
    "# replace new with 0 for firms with missing d1_sales_mil_log\n",
    "data[\"new\"] = np.where(data[\"d1_sales_mil_log\"].isna(), 1, data[\"new\"])\n",
    "\n",
    "# replace d1_sales_mil_log with 0 for firms with missing d1_sales_mil_log\n",
    "data[\"d1_sales_mil_log\"] = np.where(\n",
    "    data[\"d1_sales_mil_log\"].isna(), 0, data[\"d1_sales_mil_log\"])"
   ]
  },
  {
   "cell_type": "markdown",
   "metadata": {},
   "source": [
    "# Feature Engineering"
   ]
  },
  {
   "cell_type": "code",
   "execution_count": 28,
   "metadata": {},
   "outputs": [],
   "source": [
    "#######################\n",
    "### Decide here for cross section or panel\n",
    "#######################\n",
    "# look at cross section\n",
    "#data=data.query('year==2014 & status_alive == 1')\n",
    "# look at firms below 10m euro revenues and above 1000 euros\n",
    "data=data.query('sales_mil<=10 & sales_mil>=0.001')"
   ]
  },
  {
   "cell_type": "code",
   "execution_count": 29,
   "metadata": {},
   "outputs": [
    {
     "data": {
      "text/plain": [
       "(197242, 48)"
      ]
     },
     "execution_count": 29,
     "metadata": {},
     "output_type": "execute_result"
    }
   ],
   "source": [
    "data.shape"
   ]
  },
  {
   "cell_type": "code",
   "execution_count": 30,
   "metadata": {},
   "outputs": [
    {
     "data": {
      "text/plain": [
       "count    197242.000000\n",
       "mean          0.107523\n",
       "std           0.309777\n",
       "min           0.000000\n",
       "25%           0.000000\n",
       "50%           0.000000\n",
       "75%           0.000000\n",
       "max           1.000000\n",
       "Name: default, dtype: float64"
      ]
     },
     "execution_count": 30,
     "metadata": {},
     "output_type": "execute_result"
    }
   ],
   "source": [
    "data['default'].describe()"
   ]
  },
  {
   "cell_type": "code",
   "execution_count": 31,
   "metadata": {},
   "outputs": [
    {
     "data": {
      "text/plain": [
       "year                        0\n",
       "comp_id                     0\n",
       "begin                       0\n",
       "end                         0\n",
       "amort                     334\n",
       "curr_assets                70\n",
       "curr_liab                  70\n",
       "extra_exp                1023\n",
       "extra_inc                1023\n",
       "extra_profit_loss           8\n",
       "fixed_assets               70\n",
       "inc_bef_tax                 0\n",
       "intang_assets              77\n",
       "inventories                70\n",
       "liq_assets                 70\n",
       "material_exp              334\n",
       "personnel_exp             334\n",
       "profit_loss_year           70\n",
       "sales                       0\n",
       "share_eq                   70\n",
       "subscribed_cap             70\n",
       "tang_assets              1092\n",
       "balsheet_flag               0\n",
       "balsheet_length             0\n",
       "balsheet_notfullyear        0\n",
       "founded_year            40100\n",
       "ceo_count               40077\n",
       "foreign                 40077\n",
       "female                  40077\n",
       "birth_year              77210\n",
       "inoffice_days           40077\n",
       "gender                  40077\n",
       "origin                  40077\n",
       "nace_main                 644\n",
       "ind2                      644\n",
       "ind                      6885\n",
       "urban_m                     0\n",
       "region_m                  562\n",
       "founded_date               37\n",
       "labor_avg               93434\n",
       "status_alive                0\n",
       "default                     0\n",
       "ln_sales                    0\n",
       "sales_mil                   0\n",
       "sales_mil_log               0\n",
       "d1_sales_mil_log            0\n",
       "age                     40100\n",
       "new                         0\n",
       "dtype: int64"
      ]
     },
     "execution_count": 31,
     "metadata": {},
     "output_type": "execute_result"
    }
   ],
   "source": [
    "data.isna().sum()"
   ]
  },
  {
   "cell_type": "code",
   "execution_count": 32,
   "metadata": {},
   "outputs": [],
   "source": [
    "data['ind2_cat']=data['ind2'].copy() # lets create this but skip the recategorization for now\n",
    "data['ind2_cat']=np.where(data['ind2']>56,60,data['ind2_cat'])\n",
    "data['ind2_cat']=np.where(data['ind2']<26,20,data['ind2_cat'])\n",
    "data['ind2_cat']=np.where((data['ind2']<55)&(data['ind2']>35),40,data['ind2_cat'])\n",
    "data['ind2_cat']=np.where(data['ind2']==31,30,data['ind2_cat'])\n",
    "data['ind2_cat']=np.where(data['ind2'].isna(),99,data['ind2_cat'])"
   ]
  },
  {
   "cell_type": "code",
   "execution_count": 33,
   "metadata": {},
   "outputs": [
    {
     "data": {
      "text/plain": [
       "ind2_cat\n",
       "20.0       485\n",
       "26.0     10726\n",
       "27.0      6492\n",
       "28.0     19333\n",
       "29.0      2762\n",
       "30.0      1628\n",
       "32.0      1481\n",
       "33.0     16451\n",
       "35.0         1\n",
       "40.0      1951\n",
       "55.0     20398\n",
       "56.0    112588\n",
       "60.0      2302\n",
       "99.0       644\n",
       "Name: comp_id, dtype: int64"
      ]
     },
     "execution_count": 33,
     "metadata": {},
     "output_type": "execute_result"
    }
   ],
   "source": [
    "data.groupby('ind2_cat').count()['comp_id']"
   ]
  },
  {
   "cell_type": "code",
   "execution_count": 34,
   "metadata": {},
   "outputs": [],
   "source": [
    "# Firm characteristics\n",
    "data[\"age2\"] = data[\"age\"] ** 2\n",
    "data[\"foreign_management\"] = np.where(\n",
    "    data[\"foreign\"] >= 0.5, 1, np.where(data[\"foreign\"].isna(), np.nan, 0)\n",
    ")\n",
    "data[\"gender_m\"] = data[\"gender\"].astype(\"category\")\n",
    "data[\"m_region_loc\"] = data[\"region_m\"].astype(\"category\")"
   ]
  },
  {
   "cell_type": "code",
   "execution_count": 35,
   "metadata": {},
   "outputs": [
    {
     "data": {
      "text/plain": [
       "flag_asset_problem\n",
       "0.0    197046\n",
       "1.0       119\n",
       "Name: comp_id, dtype: int64"
      ]
     },
     "execution_count": 35,
     "metadata": {},
     "output_type": "execute_result"
    }
   ],
   "source": [
    "###########################################################\n",
    "# look at more financial variables, create ratios\n",
    "###########################################################\n",
    "\n",
    "# assets can't be negative. Change them to 0 and add a flag.\n",
    "data[\"flag_asset_problem\"] = np.where(\n",
    "    (\n",
    "        (data[\"intang_assets\"] < 0)\n",
    "        | (data[\"curr_assets\"] < 0)\n",
    "        | (data[\"fixed_assets\"] < 0)\n",
    "    ),\n",
    "    1,\n",
    "    0,\n",
    ")\n",
    "data[\"flag_asset_problem\"] = np.where(\n",
    "    (\n",
    "        (data[\"intang_assets\"].isna())\n",
    "        | (data[\"curr_assets\"].isna())\n",
    "        | (data[\"fixed_assets\"].isna())\n",
    "    ),\n",
    "    np.nan,\n",
    "    data[\"flag_asset_problem\"],\n",
    ")\n",
    "data.groupby(\"flag_asset_problem\").count()[\"comp_id\"]"
   ]
  },
  {
   "cell_type": "code",
   "execution_count": 36,
   "metadata": {},
   "outputs": [],
   "source": [
    "data[\"intang_assets\"] = np.where(data[\"intang_assets\"] < 0, 0, data[\"intang_assets\"])\n",
    "data[\"curr_assets\"] = np.where(data[\"curr_assets\"] < 0, 0, data[\"curr_assets\"])\n",
    "data[\"fixed_assets\"] = np.where(data[\"fixed_assets\"] < 0, 0, data[\"fixed_assets\"])"
   ]
  },
  {
   "cell_type": "code",
   "execution_count": 37,
   "metadata": {},
   "outputs": [
    {
     "data": {
      "text/plain": [
       "count    1.971650e+05\n",
       "mean     4.128472e+05\n",
       "std      3.049237e+07\n",
       "min      0.000000e+00\n",
       "25%      7.818519e+03\n",
       "50%      2.645185e+04\n",
       "75%      1.013815e+05\n",
       "max      1.032471e+10\n",
       "Name: total_assets_bs, dtype: float64"
      ]
     },
     "execution_count": 37,
     "metadata": {},
     "output_type": "execute_result"
    }
   ],
   "source": [
    "# generate total assets\n",
    "data[\"total_assets_bs\"] = (\n",
    "    data[\"intang_assets\"] + data[\"curr_assets\"] + data[\"fixed_assets\"]\n",
    ")\n",
    "data[\"total_assets_bs\"].describe()"
   ]
  },
  {
   "cell_type": "code",
   "execution_count": 38,
   "metadata": {},
   "outputs": [],
   "source": [
    "pl_names = [\n",
    "    \"extra_exp\",\n",
    "    \"extra_inc\",\n",
    "    \"extra_profit_loss\",\n",
    "    \"inc_bef_tax\",\n",
    "    \"inventories\",\n",
    "    \"material_exp\",\n",
    "    \"profit_loss_year\",\n",
    "    \"personnel_exp\",\n",
    "]\n",
    "bs_names = [\n",
    "    \"intang_assets\",\n",
    "    \"curr_liab\",\n",
    "    \"fixed_assets\",\n",
    "    \"liq_assets\",\n",
    "    \"curr_assets\",\n",
    "    \"share_eq\",\n",
    "    \"subscribed_cap\",\n",
    "    \"tang_assets\",\n",
    "]"
   ]
  },
  {
   "cell_type": "code",
   "execution_count": 39,
   "metadata": {},
   "outputs": [],
   "source": [
    "# divide all pl_names elements by sales and create new column for it\n",
    "data[[col + \"_pl\" for col in pl_names]] = data[pl_names].div(\n",
    "    data[\"sales\"], axis=\"index\"\n",
    ")"
   ]
  },
  {
   "cell_type": "code",
   "execution_count": 40,
   "metadata": {},
   "outputs": [],
   "source": [
    "# divide all bs_names elements by total_assets_bs and create new column for it\n",
    "data[[col + \"_bs\" for col in bs_names]] = (\n",
    "    data[bs_names]\n",
    "    .div(data[\"total_assets_bs\"], axis=\"index\")\n",
    "    .replace((np.inf, -np.inf, np.nan), (0, 0, 0))\n",
    ")\n",
    "# get Nan values where total_assets_bs is NaN\n",
    "for col in bs_names:\n",
    "    data[col + \"_bs\"] = np.where(\n",
    "        data[\"total_assets_bs\"].isna(), np.nan, data[col + \"_bs\"]\n",
    "    )"
   ]
  },
  {
   "cell_type": "code",
   "execution_count": 41,
   "metadata": {},
   "outputs": [],
   "source": [
    "########################################################################\n",
    "# creating flags, and winsorizing tails\n",
    "########################################################################\n",
    "\n",
    "# Variables that represent accounting items that cannot be negative (e.g. materials)\n",
    "zero = [\n",
    "    \"extra_exp_pl\",\n",
    "    \"extra_inc_pl\",\n",
    "    \"inventories_pl\",\n",
    "    \"material_exp_pl\",\n",
    "    \"personnel_exp_pl\",\n",
    "    \"curr_liab_bs\",\n",
    "    \"fixed_assets_bs\",\n",
    "    \"liq_assets_bs\",\n",
    "    \"curr_assets_bs\",\n",
    "    \"subscribed_cap_bs\",\n",
    "    \"intang_assets_bs\",\n",
    "]\n",
    "\n",
    "data[[col + \"_flag_high\" for col in zero]] = np.where(\n",
    "    data[zero].isna(), np.nan, (data[zero] > 1).astype(int)\n",
    ")\n",
    "data[[col for col in zero]] = np.where(\n",
    "    data[zero].isna(), np.nan, np.where(data[zero] > 1, 1, data[zero])\n",
    ")\n",
    "data[[col + \"_flag_error\" for col in zero]] = np.where(\n",
    "    data[zero].isna(), np.nan, (data[zero] < 0).astype(int)\n",
    ")\n",
    "data[[col for col in zero]] = np.where(\n",
    "    data[zero].isna(), np.nan, np.where(data[zero] < 0, 0, data[zero])\n",
    ")"
   ]
  },
  {
   "cell_type": "code",
   "execution_count": 42,
   "metadata": {},
   "outputs": [],
   "source": [
    "# for vars that could be any, but are mostly between -1 and 1\n",
    "anyof = [\"extra_profit_loss_pl\", \"inc_bef_tax_pl\", \"profit_loss_year_pl\", \"share_eq_bs\"]\n",
    "\n",
    "data[[col + \"_flag_low\" for col in anyof]] = np.where(\n",
    "    data[anyof].isna(), np.nan, (data[anyof] < -1).astype(int)\n",
    ")\n",
    "data[[col for col in anyof]] = np.where(\n",
    "    data[anyof].isna(), np.nan, np.where((data[anyof] < -1), -1, data[anyof])\n",
    ")\n",
    "data[[col + \"_flag_high\" for col in anyof]] = np.where(\n",
    "    data[anyof].isna(), np.nan, (data[anyof] > 1).astype(int)\n",
    ")\n",
    "data[[col for col in anyof]] = np.where(\n",
    "    data[anyof].isna(), np.nan, np.where((data[anyof] > 1), 1, data[anyof])\n",
    ")\n",
    "data[[col + \"_flag_zero\" for col in anyof]] = np.where(\n",
    "    data[anyof].isna(), np.nan, (data[anyof] == 0).astype(int)\n",
    ")\n",
    "data[[col + \"_quad\" for col in anyof]] = np.where(\n",
    "    data[anyof].isna(), np.nan, data[anyof] ** 2\n",
    ")"
   ]
  },
  {
   "cell_type": "code",
   "execution_count": 43,
   "metadata": {},
   "outputs": [],
   "source": [
    "# dropping flags with no variation\n",
    "flag_columns = [col for col in data.columns if \"flag\" in col]\n",
    "data = data.drop(\n",
    "    data[flag_columns].std()[(data[flag_columns].std() == 0)].index, axis=1\n",
    ")\n",
    "# ok"
   ]
  },
  {
   "cell_type": "code",
   "execution_count": 44,
   "metadata": {},
   "outputs": [],
   "source": [
    "########################################################################\n",
    "# additional\n",
    "# including some imputation\n",
    "########################################################################\n",
    "\n",
    "# CEO age\n",
    "data[\"ceo_age\"] = data[\"year\"] - data[\"birth_year\"]\n",
    "data = data.assign(\n",
    "    flag_low_ceo_age=(data[\"ceo_age\"] < 25).astype(int),\n",
    "    flag_high_ceo_age=(data[\"ceo_age\"] > 75).astype(int),\n",
    "    flag_miss_ceo_age=(data[\"ceo_age\"].isna()).astype(int),\n",
    ")\n",
    "\n",
    "\n",
    "data[\"ceo_age\"] = np.where(data[\"ceo_age\"] < 25, 25, data[\"ceo_age\"])\n",
    "data[\"ceo_age\"] = np.where(data[\"ceo_age\"] > 75, 75, data[\"ceo_age\"])\n",
    "data[\"ceo_age\"] = np.where(\n",
    "    data[\"ceo_age\"].isna(), data[\"ceo_age\"].mean(), data[\"ceo_age\"]\n",
    ")\n",
    "data[\"ceo_young\"] = (data[\"ceo_age\"] < 40).astype(int)"
   ]
  },
  {
   "cell_type": "code",
   "execution_count": 45,
   "metadata": {},
   "outputs": [],
   "source": [
    "# number emp, very noisy measure\n",
    "data[\"labor_avg_mod\"] = np.where(\n",
    "    data[\"labor_avg\"].isna(), data[\"labor_avg\"].mean(), data[\"labor_avg\"]\n",
    ")\n",
    "data[\"flag_miss_labor_avg\"] = (data[\"labor_avg\"].isna()).astype(int)"
   ]
  },
  {
   "cell_type": "code",
   "execution_count": 46,
   "metadata": {},
   "outputs": [
    {
     "data": {
      "text/plain": [
       "count    103808.000000\n",
       "mean          0.666636\n",
       "std           1.767426\n",
       "min           0.083333\n",
       "25%           0.104167\n",
       "50%           0.243056\n",
       "75%           0.552083\n",
       "max          82.866669\n",
       "Name: labor_avg, dtype: float64"
      ]
     },
     "execution_count": 46,
     "metadata": {},
     "output_type": "execute_result"
    }
   ],
   "source": [
    "data['labor_avg'].describe()"
   ]
  },
  {
   "cell_type": "code",
   "execution_count": 47,
   "metadata": {},
   "outputs": [
    {
     "data": {
      "text/plain": [
       "count    197242.000000\n",
       "mean          0.666636\n",
       "std           1.282201\n",
       "min           0.083333\n",
       "25%           0.222222\n",
       "50%           0.666636\n",
       "75%           0.666636\n",
       "max          82.866669\n",
       "Name: labor_avg_mod, dtype: float64"
      ]
     },
     "execution_count": 47,
     "metadata": {},
     "output_type": "execute_result"
    }
   ],
   "source": [
    "data['labor_avg_mod'].describe()"
   ]
  },
  {
   "cell_type": "code",
   "execution_count": 48,
   "metadata": {},
   "outputs": [],
   "source": [
    "data = data.drop([\"labor_avg\"], axis=1) # ez Gáboréban benne van, de nem tudom miért, hagyjuk bent"
   ]
  },
  {
   "cell_type": "code",
   "execution_count": 49,
   "metadata": {},
   "outputs": [],
   "source": [
    "# create category type variables\n",
    "data[\"urban_m\"] = data[\"urban_m\"].astype(\"category\")\n",
    "data['ind2_cat'] = data['ind2_cat'].astype(\"category\")\n",
    "data[\"default_f\"] = data[\"default\"].astype(\"category\")\n",
    "data[\"default_f\"] = data[\"default_f\"].cat.rename_categories([\"no_default\", \"default\"])"
   ]
  },
  {
   "cell_type": "code",
   "execution_count": 50,
   "metadata": {},
   "outputs": [],
   "source": [
    "########################################################################\n",
    "# sales\n",
    "########################################################################\n",
    "data[\"sales_mil_log_sq\"] = data[\"sales_mil_log\"] ** 2"
   ]
  },
  {
   "cell_type": "code",
   "execution_count": 51,
   "metadata": {},
   "outputs": [
    {
     "data": {
      "image/png": "[encoded data removed]",
      "text/plain": [
       "<Figure size 640x480 with 1 Axes>"
      ]
     },
     "metadata": {
      "image/png": {
       "height": 480,
       "width": 640
      }
     },
     "output_type": "display_data"
    },
    {
     "data": {
      "text/plain": [
       "<Figure Size: (640 x 480)>"
      ]
     },
     "execution_count": 51,
     "metadata": {},
     "output_type": "execute_result"
    }
   ],
   "source": [
    "(\n",
    "    ggplot(data, aes(x=\"sales_mil_log\", y=\"default\"))\n",
    "    + geom_point(color=color[0])\n",
    "    + geom_smooth(method = 'lm',color = 'red')\n",
    "    + geom_smooth(method=\"lm\", formula=\"y ~ x + I(x**2)\", color=color[1], se=False)\n",
    "    + geom_smooth(method=\"loess\", color=color[2], se=False, size=1.5, span=0.9)\n",
    "    + labs(x=\"sales_mil_log\", y=\"default\")\n",
    "    + theme_bw()\n",
    ")"
   ]
  },
  {
   "cell_type": "code",
   "execution_count": 52,
   "metadata": {},
   "outputs": [
    {
     "name": "stdout",
     "output_type": "stream",
     "text": [
      "                            OLS Regression Results                            \n",
      "==============================================================================\n",
      "Dep. Variable:                default   R-squared:                       0.045\n",
      "Model:                            OLS   Adj. R-squared:                  0.045\n",
      "Method:                 Least Squares   F-statistic:                     4674.\n",
      "Date:                Tue, 27 Feb 2024   Prob (F-statistic):               0.00\n",
      "Time:                        18:32:21   Log-Likelihood:                -44159.\n",
      "No. Observations:              197242   AIC:                         8.832e+04\n",
      "Df Residuals:                  197239   BIC:                         8.836e+04\n",
      "Df Model:                           2                                         \n",
      "Covariance Type:            nonrobust                                         \n",
      "====================================================================================\n",
      "                       coef    std err          t      P>|t|      [0.025      0.975]\n",
      "------------------------------------------------------------------------------------\n",
      "Intercept            0.0343      0.002     21.439      0.000       0.031       0.037\n",
      "sales_mil_log        0.0030      0.001      2.970      0.003       0.001       0.005\n",
      "sales_mil_log_sq     0.0069      0.000     41.136      0.000       0.007       0.007\n",
      "==============================================================================\n",
      "Omnibus:                    88689.998   Durbin-Watson:                   1.994\n",
      "Prob(Omnibus):                  0.000   Jarque-Bera (JB):           326256.836\n",
      "Skew:                           2.374   Prob(JB):                         0.00\n",
      "Kurtosis:                       7.141   Cond. No.                         42.5\n",
      "==============================================================================\n",
      "\n",
      "Notes:\n",
      "[1] Standard Errors assume that the covariance matrix of the errors is correctly specified.\n"
     ]
    }
   ],
   "source": [
    "# Linear regressions\n",
    "ols_s = smf.ols(\"default ~ sales_mil_log + sales_mil_log_sq\", data=data).fit()\n",
    "print(ols_s.summary())"
   ]
  },
  {
   "cell_type": "code",
   "execution_count": 53,
   "metadata": {},
   "outputs": [
    {
     "data": {
      "text/plain": [
       "count    197242.000000\n",
       "mean          0.017818\n",
       "std           0.636712\n",
       "min          -7.967947\n",
       "1%           -1.943162\n",
       "5%           -0.743172\n",
       "50%           0.000000\n",
       "95%           0.740446\n",
       "99%           2.248594\n",
       "max          12.420648\n",
       "Name: d1_sales_mil_log, dtype: float64"
      ]
     },
     "execution_count": 53,
     "metadata": {},
     "output_type": "execute_result"
    }
   ],
   "source": [
    "########################################################################\n",
    "# sales change\n",
    "########################################################################\n",
    "# Note: graphs not in book\n",
    "\n",
    "# lowess\n",
    "data['d1_sales_mil_log'].describe(percentiles=[0.01, 0.05, 0.95, 0.99])"
   ]
  },
  {
   "cell_type": "code",
   "execution_count": 54,
   "metadata": {},
   "outputs": [
    {
     "data": {
      "image/png": "[encoded data removed]",
      "text/plain": [
       "<Figure size 640x480 with 1 Axes>"
      ]
     },
     "metadata": {
      "image/png": {
       "height": 480,
       "width": 640
      }
     },
     "output_type": "display_data"
    }
   ],
   "source": [
    "data['d1_sales_mil_log'].hist(bins=100)\n",
    "plt.show()"
   ]
  },
  {
   "cell_type": "code",
   "execution_count": 55,
   "metadata": {},
   "outputs": [
    {
     "data": {
      "image/png": "[encoded data removed]",
      "text/plain": [
       "<Figure size 640x480 with 1 Axes>"
      ]
     },
     "metadata": {
      "image/png": {
       "height": 480,
       "width": 640
      }
     },
     "output_type": "display_data"
    },
    {
     "data": {
      "text/plain": [
       "<Figure Size: (640 x 480)>"
      ]
     },
     "execution_count": 55,
     "metadata": {},
     "output_type": "execute_result"
    }
   ],
   "source": [
    "(\n",
    "    ggplot(data, aes(x=\"d1_sales_mil_log\", y=\"default\"))\n",
    "    + geom_point(color=color[1])\n",
    "    + geom_smooth(method=\"loess\", color=color[0], se=False, size=1.5, span=0.9)\n",
    "    + labs(x=\"Growth rate (Diff of ln sales)\", y=\"default\")\n",
    "    + scale_x_continuous(limits=(-6, 10), breaks=seq(-5, 10, by=5))\n",
    "    + theme_bw()\n",
    ")"
   ]
  },
  {
   "cell_type": "code",
   "execution_count": 56,
   "metadata": {},
   "outputs": [
    {
     "ename": "PlotnineError",
     "evalue": "\"Could not evaluate the 'x' mapping: 'd1_sales_mil_log_mod' (original error: name 'd1_sales_mil_log_mod' is not defined)\"",
     "output_type": "error",
     "traceback": [
      "\u001b[1;31m---------------------------------------------------------------------------\u001b[0m",
      "\u001b[1;31mNameError\u001b[0m                                 Traceback (most recent call last)",
      "File \u001b[1;32mc:\\Users\\Peti\\anaconda3\\Lib\\site-packages\\plotnine\\mapping\\evaluation.py:228\u001b[0m, in \u001b[0;36mevaluate\u001b[1;34m(aesthetics, data, env)\u001b[0m\n\u001b[0;32m    227\u001b[0m \u001b[38;5;28;01mtry\u001b[39;00m:\n\u001b[1;32m--> 228\u001b[0m     new_val \u001b[38;5;241m=\u001b[39m env\u001b[38;5;241m.\u001b[39meval(col, inner_namespace\u001b[38;5;241m=\u001b[39mdata)\n\u001b[0;32m    229\u001b[0m \u001b[38;5;28;01mexcept\u001b[39;00m \u001b[38;5;167;01mException\u001b[39;00m \u001b[38;5;28;01mas\u001b[39;00m e:\n",
      "File \u001b[1;32mc:\\Users\\Peti\\anaconda3\\Lib\\site-packages\\patsy\\eval.py:169\u001b[0m, in \u001b[0;36mEvalEnvironment.eval\u001b[1;34m(self, expr, source_name, inner_namespace)\u001b[0m\n\u001b[0;32m    168\u001b[0m code \u001b[38;5;241m=\u001b[39m \u001b[38;5;28mcompile\u001b[39m(expr, source_name, \u001b[38;5;124m\"\u001b[39m\u001b[38;5;124meval\u001b[39m\u001b[38;5;124m\"\u001b[39m, \u001b[38;5;28mself\u001b[39m\u001b[38;5;241m.\u001b[39mflags, \u001b[38;5;28;01mFalse\u001b[39;00m)\n\u001b[1;32m--> 169\u001b[0m \u001b[38;5;28;01mreturn\u001b[39;00m \u001b[38;5;28meval\u001b[39m(code, {}, VarLookupDict([inner_namespace]\n\u001b[0;32m    170\u001b[0m                                     \u001b[38;5;241m+\u001b[39m \u001b[38;5;28mself\u001b[39m\u001b[38;5;241m.\u001b[39m_namespaces))\n",
      "File \u001b[1;32m<string>:1\u001b[0m\n",
      "\u001b[1;31mNameError\u001b[0m: name 'd1_sales_mil_log_mod' is not defined",
      "\nDuring handling of the above exception, another exception occurred:\n",
      "\u001b[1;31mPlotnineError\u001b[0m                             Traceback (most recent call last)",
      "File \u001b[1;32mc:\\Users\\Peti\\anaconda3\\Lib\\site-packages\\IPython\\core\\formatters.py:708\u001b[0m, in \u001b[0;36mPlainTextFormatter.__call__\u001b[1;34m(self, obj)\u001b[0m\n\u001b[0;32m    701\u001b[0m stream \u001b[38;5;241m=\u001b[39m StringIO()\n\u001b[0;32m    702\u001b[0m printer \u001b[38;5;241m=\u001b[39m pretty\u001b[38;5;241m.\u001b[39mRepresentationPrinter(stream, \u001b[38;5;28mself\u001b[39m\u001b[38;5;241m.\u001b[39mverbose,\n\u001b[0;32m    703\u001b[0m     \u001b[38;5;28mself\u001b[39m\u001b[38;5;241m.\u001b[39mmax_width, \u001b[38;5;28mself\u001b[39m\u001b[38;5;241m.\u001b[39mnewline,\n\u001b[0;32m    704\u001b[0m     max_seq_length\u001b[38;5;241m=\u001b[39m\u001b[38;5;28mself\u001b[39m\u001b[38;5;241m.\u001b[39mmax_seq_length,\n\u001b[0;32m    705\u001b[0m     singleton_pprinters\u001b[38;5;241m=\u001b[39m\u001b[38;5;28mself\u001b[39m\u001b[38;5;241m.\u001b[39msingleton_printers,\n\u001b[0;32m    706\u001b[0m     type_pprinters\u001b[38;5;241m=\u001b[39m\u001b[38;5;28mself\u001b[39m\u001b[38;5;241m.\u001b[39mtype_printers,\n\u001b[0;32m    707\u001b[0m     deferred_pprinters\u001b[38;5;241m=\u001b[39m\u001b[38;5;28mself\u001b[39m\u001b[38;5;241m.\u001b[39mdeferred_printers)\n\u001b[1;32m--> 708\u001b[0m printer\u001b[38;5;241m.\u001b[39mpretty(obj)\n\u001b[0;32m    709\u001b[0m printer\u001b[38;5;241m.\u001b[39mflush()\n\u001b[0;32m    710\u001b[0m \u001b[38;5;28;01mreturn\u001b[39;00m stream\u001b[38;5;241m.\u001b[39mgetvalue()\n",
      "File \u001b[1;32mc:\\Users\\Peti\\anaconda3\\Lib\\site-packages\\IPython\\lib\\pretty.py:410\u001b[0m, in \u001b[0;36mRepresentationPrinter.pretty\u001b[1;34m(self, obj)\u001b[0m\n\u001b[0;32m    407\u001b[0m                         \u001b[38;5;28;01mreturn\u001b[39;00m meth(obj, \u001b[38;5;28mself\u001b[39m, cycle)\n\u001b[0;32m    408\u001b[0m                 \u001b[38;5;28;01mif\u001b[39;00m \u001b[38;5;28mcls\u001b[39m \u001b[38;5;129;01mis\u001b[39;00m \u001b[38;5;129;01mnot\u001b[39;00m \u001b[38;5;28mobject\u001b[39m \\\n\u001b[0;32m    409\u001b[0m                         \u001b[38;5;129;01mand\u001b[39;00m \u001b[38;5;28mcallable\u001b[39m(\u001b[38;5;28mcls\u001b[39m\u001b[38;5;241m.\u001b[39m\u001b[38;5;18m__dict__\u001b[39m\u001b[38;5;241m.\u001b[39mget(\u001b[38;5;124m'\u001b[39m\u001b[38;5;124m__repr__\u001b[39m\u001b[38;5;124m'\u001b[39m)):\n\u001b[1;32m--> 410\u001b[0m                     \u001b[38;5;28;01mreturn\u001b[39;00m _repr_pprint(obj, \u001b[38;5;28mself\u001b[39m, cycle)\n\u001b[0;32m    412\u001b[0m     \u001b[38;5;28;01mreturn\u001b[39;00m _default_pprint(obj, \u001b[38;5;28mself\u001b[39m, cycle)\n\u001b[0;32m    413\u001b[0m \u001b[38;5;28;01mfinally\u001b[39;00m:\n",
      "File \u001b[1;32mc:\\Users\\Peti\\anaconda3\\Lib\\site-packages\\IPython\\lib\\pretty.py:778\u001b[0m, in \u001b[0;36m_repr_pprint\u001b[1;34m(obj, p, cycle)\u001b[0m\n\u001b[0;32m    776\u001b[0m \u001b[38;5;250m\u001b[39m\u001b[38;5;124;03m\"\"\"A pprint that just redirects to the normal repr function.\"\"\"\u001b[39;00m\n\u001b[0;32m    777\u001b[0m \u001b[38;5;66;03m# Find newlines and replace them with p.break_()\u001b[39;00m\n\u001b[1;32m--> 778\u001b[0m output \u001b[38;5;241m=\u001b[39m \u001b[38;5;28mrepr\u001b[39m(obj)\n\u001b[0;32m    779\u001b[0m lines \u001b[38;5;241m=\u001b[39m output\u001b[38;5;241m.\u001b[39msplitlines()\n\u001b[0;32m    780\u001b[0m \u001b[38;5;28;01mwith\u001b[39;00m p\u001b[38;5;241m.\u001b[39mgroup():\n",
      "File \u001b[1;32mc:\\Users\\Peti\\anaconda3\\Lib\\site-packages\\plotnine\\ggplot.py:114\u001b[0m, in \u001b[0;36mggplot.__repr__\u001b[1;34m(self)\u001b[0m\n\u001b[0;32m    110\u001b[0m \u001b[38;5;28;01mdef\u001b[39;00m \u001b[38;5;21m__repr__\u001b[39m(\u001b[38;5;28mself\u001b[39m) \u001b[38;5;241m-\u001b[39m\u001b[38;5;241m>\u001b[39m \u001b[38;5;28mstr\u001b[39m:\n\u001b[0;32m    111\u001b[0m \u001b[38;5;250m    \u001b[39m\u001b[38;5;124;03m\"\"\"\u001b[39;00m\n\u001b[0;32m    112\u001b[0m \u001b[38;5;124;03m    Print/show the plot\u001b[39;00m\n\u001b[0;32m    113\u001b[0m \u001b[38;5;124;03m    \"\"\"\u001b[39;00m\n\u001b[1;32m--> 114\u001b[0m     figure \u001b[38;5;241m=\u001b[39m \u001b[38;5;28mself\u001b[39m\u001b[38;5;241m.\u001b[39mdraw(show\u001b[38;5;241m=\u001b[39m\u001b[38;5;28;01mTrue\u001b[39;00m)\n\u001b[0;32m    116\u001b[0m     dpi \u001b[38;5;241m=\u001b[39m figure\u001b[38;5;241m.\u001b[39mget_dpi()\n\u001b[0;32m    117\u001b[0m     W \u001b[38;5;241m=\u001b[39m \u001b[38;5;28mint\u001b[39m(figure\u001b[38;5;241m.\u001b[39mget_figwidth() \u001b[38;5;241m*\u001b[39m dpi)\n",
      "File \u001b[1;32mc:\\Users\\Peti\\anaconda3\\Lib\\site-packages\\plotnine\\ggplot.py:224\u001b[0m, in \u001b[0;36mggplot.draw\u001b[1;34m(self, show)\u001b[0m\n\u001b[0;32m    222\u001b[0m \u001b[38;5;28mself\u001b[39m \u001b[38;5;241m=\u001b[39m deepcopy(\u001b[38;5;28mself\u001b[39m)\n\u001b[0;32m    223\u001b[0m \u001b[38;5;28;01mwith\u001b[39;00m plot_context(\u001b[38;5;28mself\u001b[39m, show\u001b[38;5;241m=\u001b[39mshow):\n\u001b[1;32m--> 224\u001b[0m     \u001b[38;5;28mself\u001b[39m\u001b[38;5;241m.\u001b[39m_build()\n\u001b[0;32m    226\u001b[0m     \u001b[38;5;66;03m# setup\u001b[39;00m\n\u001b[0;32m    227\u001b[0m     figure, axs \u001b[38;5;241m=\u001b[39m \u001b[38;5;28mself\u001b[39m\u001b[38;5;241m.\u001b[39m_create_figure()\n",
      "File \u001b[1;32mc:\\Users\\Peti\\anaconda3\\Lib\\site-packages\\plotnine\\ggplot.py:314\u001b[0m, in \u001b[0;36mggplot._build\u001b[1;34m(self)\u001b[0m\n\u001b[0;32m    310\u001b[0m layout\u001b[38;5;241m.\u001b[39msetup(layers, \u001b[38;5;28mself\u001b[39m)\n\u001b[0;32m    312\u001b[0m \u001b[38;5;66;03m# Compute aesthetics to produce data with generalised\u001b[39;00m\n\u001b[0;32m    313\u001b[0m \u001b[38;5;66;03m# variable names\u001b[39;00m\n\u001b[1;32m--> 314\u001b[0m layers\u001b[38;5;241m.\u001b[39mcompute_aesthetics(\u001b[38;5;28mself\u001b[39m)\n\u001b[0;32m    316\u001b[0m \u001b[38;5;66;03m# Transform data using all scales\u001b[39;00m\n\u001b[0;32m    317\u001b[0m layers\u001b[38;5;241m.\u001b[39mtransform(scales)\n",
      "File \u001b[1;32mc:\\Users\\Peti\\anaconda3\\Lib\\site-packages\\plotnine\\layer.py:467\u001b[0m, in \u001b[0;36mLayers.compute_aesthetics\u001b[1;34m(self, plot)\u001b[0m\n\u001b[0;32m    465\u001b[0m \u001b[38;5;28;01mdef\u001b[39;00m \u001b[38;5;21mcompute_aesthetics\u001b[39m(\u001b[38;5;28mself\u001b[39m, plot: Ggplot):\n\u001b[0;32m    466\u001b[0m     \u001b[38;5;28;01mfor\u001b[39;00m l \u001b[38;5;129;01min\u001b[39;00m \u001b[38;5;28mself\u001b[39m:\n\u001b[1;32m--> 467\u001b[0m         l\u001b[38;5;241m.\u001b[39mcompute_aesthetics(plot)\n",
      "File \u001b[1;32mc:\\Users\\Peti\\anaconda3\\Lib\\site-packages\\plotnine\\layer.py:260\u001b[0m, in \u001b[0;36mlayer.compute_aesthetics\u001b[1;34m(self, plot)\u001b[0m\n\u001b[0;32m    253\u001b[0m \u001b[38;5;28;01mdef\u001b[39;00m \u001b[38;5;21mcompute_aesthetics\u001b[39m(\u001b[38;5;28mself\u001b[39m, plot: Ggplot):\n\u001b[0;32m    254\u001b[0m \u001b[38;5;250m    \u001b[39m\u001b[38;5;124;03m\"\"\"\u001b[39;00m\n\u001b[0;32m    255\u001b[0m \u001b[38;5;124;03m    Return a dataframe where the columns match the aesthetic mappings\u001b[39;00m\n\u001b[0;32m    256\u001b[0m \n\u001b[0;32m    257\u001b[0m \u001b[38;5;124;03m    Transformations like 'factor(cyl)' and other\u001b[39;00m\n\u001b[0;32m    258\u001b[0m \u001b[38;5;124;03m    expression evaluation are  made in here\u001b[39;00m\n\u001b[0;32m    259\u001b[0m \u001b[38;5;124;03m    \"\"\"\u001b[39;00m\n\u001b[1;32m--> 260\u001b[0m     evaled \u001b[38;5;241m=\u001b[39m evaluate(\u001b[38;5;28mself\u001b[39m\u001b[38;5;241m.\u001b[39mmapping\u001b[38;5;241m.\u001b[39m_starting, \u001b[38;5;28mself\u001b[39m\u001b[38;5;241m.\u001b[39mdata, plot\u001b[38;5;241m.\u001b[39menvironment)\n\u001b[0;32m    261\u001b[0m     evaled_aes \u001b[38;5;241m=\u001b[39m aes(\u001b[38;5;241m*\u001b[39m\u001b[38;5;241m*\u001b[39m{\u001b[38;5;28mstr\u001b[39m(col): col \u001b[38;5;28;01mfor\u001b[39;00m col \u001b[38;5;129;01min\u001b[39;00m evaled})\n\u001b[0;32m    262\u001b[0m     plot\u001b[38;5;241m.\u001b[39mscales\u001b[38;5;241m.\u001b[39madd_defaults(evaled, evaled_aes)\n",
      "File \u001b[1;32mc:\\Users\\Peti\\anaconda3\\Lib\\site-packages\\plotnine\\mapping\\evaluation.py:230\u001b[0m, in \u001b[0;36mevaluate\u001b[1;34m(aesthetics, data, env)\u001b[0m\n\u001b[0;32m    228\u001b[0m     new_val \u001b[38;5;241m=\u001b[39m env\u001b[38;5;241m.\u001b[39meval(col, inner_namespace\u001b[38;5;241m=\u001b[39mdata)\n\u001b[0;32m    229\u001b[0m \u001b[38;5;28;01mexcept\u001b[39;00m \u001b[38;5;167;01mException\u001b[39;00m \u001b[38;5;28;01mas\u001b[39;00m e:\n\u001b[1;32m--> 230\u001b[0m     \u001b[38;5;28;01mraise\u001b[39;00m PlotnineError(_TPL_EVAL_FAIL\u001b[38;5;241m.\u001b[39mformat(ae, col, \u001b[38;5;28mstr\u001b[39m(e)))\n\u001b[0;32m    232\u001b[0m \u001b[38;5;28;01mtry\u001b[39;00m:\n\u001b[0;32m    233\u001b[0m     evaled[ae] \u001b[38;5;241m=\u001b[39m new_val\n",
      "\u001b[1;31mPlotnineError\u001b[0m: \"Could not evaluate the 'x' mapping: 'd1_sales_mil_log_mod' (original error: name 'd1_sales_mil_log_mod' is not defined)\""
     ]
    }
   ],
   "source": [
    "(\n",
    "    ggplot(data, aes(x=\"d1_sales_mil_log_mod\", y=\"default\"))\n",
    "    + geom_point(color=color[1])\n",
    "    + geom_smooth(method=\"loess\", color=color[0], se=False, size=1.5, span=0.9)\n",
    "    + labs(x=\"Growth rate (Diff of ln sales)\", y=\"default\")\n",
    "    + scale_x_continuous(limits=(-6, 10), breaks=seq(-5, 10, by=5))\n",
    "    + theme_bw()\n",
    ")"
   ]
  },
  {
   "cell_type": "code",
   "execution_count": 57,
   "metadata": {},
   "outputs": [],
   "source": [
    "# generate variables ---------------------------------------------------\n",
    "\n",
    "data[\"flag_low_d1_sales_mil_log\"] = np.where(data[\"d1_sales_mil_log\"] < -1.5, 1, 0)\n",
    "data[\"flag_high_d1_sales_mil_log\"] = np.where(data[\"d1_sales_mil_log\"] > 1.5, 1, 0)\n",
    "data[\"d1_sales_mil_log_mod\"] = np.where(\n",
    "    data[\"d1_sales_mil_log\"] < -1.5,\n",
    "    -1.5,\n",
    "    np.where(data[\"d1_sales_mil_log\"] > 1.5, 1.5, data[\"d1_sales_mil_log\"]),\n",
    ")\n",
    "data[\"d1_sales_mil_log_mod_sq\"] = data[\"d1_sales_mil_log_mod\"] ** 2"
   ]
  },
  {
   "cell_type": "code",
   "execution_count": 58,
   "metadata": {},
   "outputs": [
    {
     "data": {
      "image/png": "[encoded data removed]",
      "text/plain": [
       "<Figure size 640x480 with 1 Axes>"
      ]
     },
     "metadata": {
      "image/png": {
       "height": 480,
       "width": 640
      }
     },
     "output_type": "display_data"
    }
   ],
   "source": [
    "data.loc[data['default']== 0].hist(\"d1_sales_mil_log_mod\",bins=100)\n",
    "plt.show()"
   ]
  },
  {
   "cell_type": "code",
   "execution_count": 59,
   "metadata": {},
   "outputs": [],
   "source": [
    "# no more imputation, drop obs if key vars missing\n",
    "# data = data.dropna(subset=[\"liq_assets_bs\", \"foreign\", \"ind\"])\n",
    "\n",
    "# ha ezt belerakjuk akkor elcsúszik a holdout set megvizsgáltam úgy hogy előtte beillesztettem a holdout set-es részt és utána is"
   ]
  },
  {
   "cell_type": "code",
   "execution_count": 60,
   "metadata": {},
   "outputs": [
    {
     "data": {
      "text/plain": [
       "count    157142.000000\n",
       "mean          8.704000\n",
       "std           6.312623\n",
       "min           0.000000\n",
       "25%           3.000000\n",
       "50%           8.000000\n",
       "75%          14.000000\n",
       "max          63.000000\n",
       "Name: age, dtype: float64"
      ]
     },
     "execution_count": 60,
     "metadata": {},
     "output_type": "execute_result"
    }
   ],
   "source": [
    "# drop missing\n",
    "# data = data.dropna(subset=[\"age\", \"foreign\", \"material_exp_pl\", \"m_region_loc\"])\n",
    "data[\"age\"].describe()\n",
    "\n",
    "# ha ezt belerakjuk akkor elcsúszik a holdout set megvizsgáltam úgy hogy előtte beillesztettem a holdout set-es részt és utána is\n"
   ]
  },
  {
   "cell_type": "code",
   "execution_count": 61,
   "metadata": {},
   "outputs": [
    {
     "data": {
      "text/plain": [
       "age                40100\n",
       "foreign            40077\n",
       "material_exp_pl      334\n",
       "m_region_loc         562\n",
       "liq_assets_bs         77\n",
       "foreign            40077\n",
       "ind                 6885\n",
       "dtype: int64"
      ]
     },
     "execution_count": 61,
     "metadata": {},
     "output_type": "execute_result"
    }
   ],
   "source": [
    "data[[\"age\", \"foreign\", \"material_exp_pl\", \"m_region_loc\", \"liq_assets_bs\", \"foreign\", \"ind\"]].isna().sum()"
   ]
  },
  {
   "cell_type": "code",
   "execution_count": 62,
   "metadata": {},
   "outputs": [],
   "source": [
    "# drop unused factor levels\n",
    "for col in data.select_dtypes(include=[\"category\"]).columns:\n",
    "    data[col] = data[col].cat.remove_unused_categories()"
   ]
  },
  {
   "cell_type": "code",
   "execution_count": 63,
   "metadata": {},
   "outputs": [
    {
     "data": {
      "image/png": "[encoded data removed]",
      "text/plain": [
       "<Figure size 640x480 with 1 Axes>"
      ]
     },
     "metadata": {
      "image/png": {
       "height": 480,
       "width": 640
      }
     },
     "output_type": "display_data"
    },
    {
     "data": {
      "text/plain": [
       "<Figure Size: (640 x 480)>"
      ]
     },
     "execution_count": 63,
     "metadata": {},
     "output_type": "execute_result"
    }
   ],
   "source": [
    "(\n",
    "    ggplot(data, aes(x=\"d1_sales_mil_log\", y=\"default\"))\n",
    "    + geom_point(size=0.1, color=color[1])\n",
    "    + geom_smooth(method=\"loess\", color=color[0], se=False, size=1.5, span=0.9)\n",
    "    + labs(x=\"Growth rate (Diff of ln sales)\", y=\"default\")\n",
    "    + scale_x_continuous(limits=(-1.5, 1.5), breaks=seq(-1.5, 1.5, by=0.5))\n",
    "    + theme_bw()\n",
    ")"
   ]
  },
  {
   "cell_type": "code",
   "execution_count": 64,
   "metadata": {},
   "outputs": [
    {
     "data": {
      "image/png": "[encoded data removed]",
      "text/plain": [
       "<Figure size 640x480 with 1 Axes>"
      ]
     },
     "metadata": {
      "image/png": {
       "height": 480,
       "width": 640
      }
     },
     "output_type": "display_data"
    },
    {
     "data": {
      "text/plain": [
       "<Figure Size: (640 x 480)>"
      ]
     },
     "execution_count": 64,
     "metadata": {},
     "output_type": "execute_result"
    }
   ],
   "source": [
    "(\n",
    "    ggplot(data, aes(x=\"d1_sales_mil_log\", y=\"d1_sales_mil_log_mod\"))\n",
    "    + geom_point(size=0.1, color=color[1])\n",
    "    + labs(\n",
    "        x=\"Growth rate (Diff of ln sales) (original)\",\n",
    "        y=\"Growth rate (Diff of ln sales) (winsorized)\",\n",
    "    )\n",
    "    + scale_x_continuous(limits=(-5, 5), breaks=seq(-5, 5, by=1))\n",
    "    + scale_y_continuous(limits=(-3, 3), breaks=seq(-3, 3, by=1))\n",
    "    + theme_bw()\n",
    ")"
   ]
  },
  {
   "cell_type": "markdown",
   "metadata": {},
   "source": []
  },
  {
   "cell_type": "code",
   "execution_count": 65,
   "metadata": {},
   "outputs": [],
   "source": [
    "# look at firms below 10m euro revenues and above 1000 euros (SME filtering)\n",
    "#data = data.loc[(data['sales'] >= 1000) & (data['sales'] <= 10000000)]"
   ]
  },
  {
   "cell_type": "markdown",
   "metadata": {},
   "source": [
    "# EDA"
   ]
  },
  {
   "cell_type": "code",
   "execution_count": 66,
   "metadata": {},
   "outputs": [
    {
     "data": {
      "text/html": [
       "<div>\n",
       "<style scoped>\n",
       "    .dataframe tbody tr th:only-of-type {\n",
       "        vertical-align: middle;\n",
       "    }\n",
       "\n",
       "    .dataframe tbody tr th {\n",
       "        vertical-align: top;\n",
       "    }\n",
       "\n",
       "    .dataframe thead th {\n",
       "        text-align: right;\n",
       "    }\n",
       "</style>\n",
       "<table border=\"1\" class=\"dataframe\">\n",
       "  <thead>\n",
       "    <tr style=\"text-align: right;\">\n",
       "      <th></th>\n",
       "      <th>comp_id</th>\n",
       "    </tr>\n",
       "    <tr>\n",
       "      <th>year</th>\n",
       "      <th></th>\n",
       "    </tr>\n",
       "  </thead>\n",
       "  <tbody>\n",
       "    <tr>\n",
       "      <th>2005</th>\n",
       "      <td>16111</td>\n",
       "    </tr>\n",
       "    <tr>\n",
       "      <th>2006</th>\n",
       "      <td>16420</td>\n",
       "    </tr>\n",
       "    <tr>\n",
       "      <th>2007</th>\n",
       "      <td>17821</td>\n",
       "    </tr>\n",
       "    <tr>\n",
       "      <th>2008</th>\n",
       "      <td>19058</td>\n",
       "    </tr>\n",
       "    <tr>\n",
       "      <th>2009</th>\n",
       "      <td>20541</td>\n",
       "    </tr>\n",
       "    <tr>\n",
       "      <th>2010</th>\n",
       "      <td>21166</td>\n",
       "    </tr>\n",
       "    <tr>\n",
       "      <th>2011</th>\n",
       "      <td>21648</td>\n",
       "    </tr>\n",
       "    <tr>\n",
       "      <th>2012</th>\n",
       "      <td>21723</td>\n",
       "    </tr>\n",
       "    <tr>\n",
       "      <th>2013</th>\n",
       "      <td>21464</td>\n",
       "    </tr>\n",
       "    <tr>\n",
       "      <th>2014</th>\n",
       "      <td>21290</td>\n",
       "    </tr>\n",
       "  </tbody>\n",
       "</table>\n",
       "</div>"
      ],
      "text/plain": [
       "      comp_id\n",
       "year         \n",
       "2005    16111\n",
       "2006    16420\n",
       "2007    17821\n",
       "2008    19058\n",
       "2009    20541\n",
       "2010    21166\n",
       "2011    21648\n",
       "2012    21723\n",
       "2013    21464\n",
       "2014    21290"
      ]
     },
     "execution_count": 66,
     "metadata": {},
     "output_type": "execute_result"
    }
   ],
   "source": [
    "data[['year','comp_id']].groupby('year').nunique()"
   ]
  },
  {
   "cell_type": "code",
   "execution_count": 67,
   "metadata": {},
   "outputs": [
    {
     "data": {
      "text/html": [
       "<div>\n",
       "<style scoped>\n",
       "    .dataframe tbody tr th:only-of-type {\n",
       "        vertical-align: middle;\n",
       "    }\n",
       "\n",
       "    .dataframe tbody tr th {\n",
       "        vertical-align: top;\n",
       "    }\n",
       "\n",
       "    .dataframe thead th {\n",
       "        text-align: right;\n",
       "    }\n",
       "</style>\n",
       "<table border=\"1\" class=\"dataframe\">\n",
       "  <thead>\n",
       "    <tr style=\"text-align: right;\">\n",
       "      <th></th>\n",
       "      <th>default</th>\n",
       "      <th>status_alive</th>\n",
       "    </tr>\n",
       "    <tr>\n",
       "      <th>year</th>\n",
       "      <th></th>\n",
       "      <th></th>\n",
       "    </tr>\n",
       "  </thead>\n",
       "  <tbody>\n",
       "    <tr>\n",
       "      <th>2005</th>\n",
       "      <td>1698</td>\n",
       "      <td>16111</td>\n",
       "    </tr>\n",
       "    <tr>\n",
       "      <th>2006</th>\n",
       "      <td>1345</td>\n",
       "      <td>16420</td>\n",
       "    </tr>\n",
       "    <tr>\n",
       "      <th>2007</th>\n",
       "      <td>1782</td>\n",
       "      <td>17821</td>\n",
       "    </tr>\n",
       "    <tr>\n",
       "      <th>2008</th>\n",
       "      <td>1761</td>\n",
       "      <td>19058</td>\n",
       "    </tr>\n",
       "    <tr>\n",
       "      <th>2009</th>\n",
       "      <td>2341</td>\n",
       "      <td>20541</td>\n",
       "    </tr>\n",
       "    <tr>\n",
       "      <th>2010</th>\n",
       "      <td>2664</td>\n",
       "      <td>21166</td>\n",
       "    </tr>\n",
       "    <tr>\n",
       "      <th>2011</th>\n",
       "      <td>2598</td>\n",
       "      <td>21648</td>\n",
       "    </tr>\n",
       "    <tr>\n",
       "      <th>2012</th>\n",
       "      <td>2589</td>\n",
       "      <td>21723</td>\n",
       "    </tr>\n",
       "    <tr>\n",
       "      <th>2013</th>\n",
       "      <td>2298</td>\n",
       "      <td>21464</td>\n",
       "    </tr>\n",
       "    <tr>\n",
       "      <th>2014</th>\n",
       "      <td>2132</td>\n",
       "      <td>21290</td>\n",
       "    </tr>\n",
       "  </tbody>\n",
       "</table>\n",
       "</div>"
      ],
      "text/plain": [
       "      default  status_alive\n",
       "year                       \n",
       "2005     1698         16111\n",
       "2006     1345         16420\n",
       "2007     1782         17821\n",
       "2008     1761         19058\n",
       "2009     2341         20541\n",
       "2010     2664         21166\n",
       "2011     2598         21648\n",
       "2012     2589         21723\n",
       "2013     2298         21464\n",
       "2014     2132         21290"
      ]
     },
     "execution_count": 67,
     "metadata": {},
     "output_type": "execute_result"
    }
   ],
   "source": [
    "data[['year','default','status_alive']].groupby('year').sum()"
   ]
  },
  {
   "cell_type": "code",
   "execution_count": 68,
   "metadata": {},
   "outputs": [
    {
     "data": {
      "image/png": "[encoded data removed]",
      "text/plain": [
       "<Figure size 640x480 with 1 Axes>"
      ]
     },
     "metadata": {
      "image/png": {
       "height": 480,
       "width": 640
      }
     },
     "output_type": "display_data"
    }
   ],
   "source": [
    "data[['year','default','status_alive']].groupby('year').sum().plot(kind='line')\n",
    "plt.show()"
   ]
  },
  {
   "cell_type": "code",
   "execution_count": 69,
   "metadata": {},
   "outputs": [
    {
     "data": {
      "text/plain": [
       "0.1075227385648087"
      ]
     },
     "execution_count": 69,
     "metadata": {},
     "output_type": "execute_result"
    }
   ],
   "source": [
    "data.default.mean()"
   ]
  },
  {
   "cell_type": "markdown",
   "metadata": {},
   "source": [
    "# Construction of the holdout set\n",
    "\n",
    "We are only interested in predicting default for ‘ind2 == 26’, which is the selected industry, and the\n",
    "firm is a small or medium enterprise (SME). Thus, yearly sales in 2014 was between 1000 EUR and 10\n",
    "million EUR.\n",
    "\n",
    "Existed in 2014 (sales > 0), but did not exists in 2015 (sales is 0 or missing)\n",
    "\n",
    "If you do the sample design properly:\n",
    "- you have an overall of 1037 firms.\n",
    "- 56 firms defaulted\n",
    "- 981 stayed alive. \n",
    "- The average sales of the firms is 0.4902 million EUR, with the minimum of 0.00107 million\n",
    "EUR and 9.57648 million EUR."
   ]
  },
  {
   "cell_type": "code",
   "execution_count": 70,
   "metadata": {},
   "outputs": [
    {
     "name": "stdout",
     "output_type": "stream",
     "text": [
      "Total firms in holdout set: 1037\n",
      "Number of defaulted firms: 56\n",
      "Number of firms that stayed alive: 981\n",
      "Average sales of the firms: 490202.21792682\n",
      "Minimum sales: 1070.370361328125\n",
      "Maximum sales: 9576485.0\n"
     ]
    }
   ],
   "source": [
    "# Creating the holdout set\n",
    "holdout_set = data.loc[(data['ind2'] == 26) & (data['year'] == 2014) & (data['sales'] >= 1000) & (data['sales'] <= 10000000)]\n",
    "\n",
    "# Display information about the resulting holdout set\n",
    "print(\"Total firms in holdout set:\", len(holdout_set))\n",
    "print(\"Number of defaulted firms:\", len(holdout_set[holdout_set['default'] == 1]))\n",
    "print(\"Number of firms that stayed alive:\", len(holdout_set[holdout_set['default'] == 0]))  # Since all firms meet the condition\n",
    "print(\"Average sales of the firms:\", holdout_set['sales'].mean())\n",
    "print(\"Minimum sales:\", holdout_set['sales'].min())\n",
    "print(\"Maximum sales:\", holdout_set['sales'].max())"
   ]
  },
  {
   "cell_type": "markdown",
   "metadata": {},
   "source": [
    "\n",
    "# Kérdések\n",
    "- jó e az a szűrés hogy ind2 csak 26, nem lehet se empty se semmi más\n",
    "- 1 évet nézünk vagy többet?\n",
    "    - ha többet nézünk akkor rakhatnánk bele olyan változókat amik valamiféle trendeket, változásokat vagy több éven keresztüli átlagokat mutatnak\n",
    "    - ha több évet nézünk akkor mi lesz azokkal a cégekkel, amik defaultolnak? bentmaradnak végig a táblázatban nan adatokkal - erre kéne egy szűrés, hogy kiessenek, de nem tudom melyik az a lépés ahol ennek ki kell jöbbie!\n",
    "\n",
    "- SME sales-t vizsgálni\n",
    "- CEU age 75? sokallom\n",
    "    - itt olyan gondolatom van hogy majd a modellek fine tuneolálásnál az ilyen apró dolgok megváltoztatásával tudjuk egyedivé tenni a modellt\n",
    "- Milyen hatása van az stack unstacknek? igazából csinál egy csomó NA sort, de ez alapján nem szabad megítélni h melyik sorban mennyi a hiányzó érték, inkább a default+aliveval lehetne talán - az se biztos, hogy jó\n",
    "- a két dropos részt be kell raknunk valahova mert szerintem a nanok amiatt maradnak bent, de mi van ha a holdoutban van nan? akkor lehet predictálni, ahhoz nem kell h meglegyen az értékelk??\n",
    "\n"
   ]
  },
  {
   "cell_type": "markdown",
   "metadata": {},
   "source": [
    "# Végig Gáborén favágással, nézzük meg mi jön ki minden finomhagolás nélkül!\n",
    "nem sikerült, kurvasok hibára futottam, megpróbálom péterét"
   ]
  },
  {
   "cell_type": "code",
   "execution_count": 71,
   "metadata": {},
   "outputs": [],
   "source": [
    "import os\n",
    "import pandas as pd\n",
    "import numpy as np\n",
    "import sys\n",
    "import patsy\n",
    "import statsmodels.api as sm\n",
    "from sklearn.linear_model import LinearRegression, LogisticRegression, LogisticRegressionCV\n",
    "from sklearn.model_selection import train_test_split, GridSearchCV, KFold\n",
    "import sklearn.metrics as metrics\n",
    "from sklearn.metrics import brier_score_loss, roc_curve, auc, confusion_matrix, roc_auc_score, mean_squared_error\n",
    "from sklearn.ensemble import RandomForestClassifier\n",
    "from plotnine import *\n",
    "import seaborn as sns\n",
    "import matplotlib.pyplot as plt\n",
    "from sklearn.model_selection import train_test_split\n",
    "from sklearn.preprocessing import StandardScaler\n",
    "\n",
    "import warnings\n",
    "warnings.filterwarnings('ignore')"
   ]
  },
  {
   "cell_type": "markdown",
   "metadata": {},
   "source": [
    "## Define helper functions"
   ]
  },
  {
   "cell_type": "code",
   "execution_count": 72,
   "metadata": {},
   "outputs": [],
   "source": [
    "# Péter\n",
    "def regression_results(y_true, y_pred):\n",
    "\n",
    "    # Regression metrics\n",
    "    explained_variance=metrics.explained_variance_score(y_true, y_pred)\n",
    "    mean_absolute_error=metrics.mean_absolute_error(y_true, y_pred) \n",
    "    mse=metrics.mean_squared_error(y_true, y_pred) \n",
    "    median_absolute_error=metrics.median_absolute_error(y_true, y_pred)\n",
    "    r2=metrics.r2_score(y_true, y_pred)\n",
    "\n",
    "    print('explained_variance: ', round(explained_variance,4))    \n",
    "    print('r2: ', round(r2,4))\n",
    "    print('MAE: ', round(mean_absolute_error,4))\n",
    "    print('MSE: ', round(mse,4))\n",
    "    print('RMSE: ', round(np.sqrt(mse),4))\n",
    "    \n",
    "def create_coef_matrix(X, model):\n",
    "    coef_matrix = pd.concat(\n",
    "        [pd.DataFrame(X.columns),pd.DataFrame(model.coef_.flatten())], axis = 1\n",
    "    )\n",
    "    coef_matrix.columns = ['variable', 'coefficient']\n",
    "    coef_matrix.iloc[-1] = ['Intercept', model.intercept_.flatten()[0]]\n",
    "    return coef_matrix\n",
    "\n",
    "def cv_summary(lambdas, C_values, model):\n",
    "    d = {'lambdas': lambdas, 'C_values': C_values, 'mean_cv_score': model.scores_[1].mean(axis = 0)}\n",
    "    return(pd.DataFrame(data=d))\n",
    "\n",
    "def create_roc_plot(y_true, y_pred):\n",
    "    fpr, tpr, thresholds = roc_curve(y_true, y_pred)\n",
    "    all_coords = pd.DataFrame({\n",
    "        'fpr': fpr,\n",
    "        'tpr': tpr,\n",
    "        'thresholds': thresholds\n",
    "    })\n",
    "    \n",
    "    plot = ggplot(all_coords, aes(x = 'fpr', y = 'tpr')) \\\n",
    "        + geom_line(color=color[0], size = 0.7) \\\n",
    "        + geom_area(position = 'identity', fill = 'mediumaquamarine', alpha = 0.3) \\\n",
    "        + xlab(\"False Positive Rate (1-Specifity)\") \\\n",
    "        + ylab(\"True Positive Rate (Sensitivity)\") \\\n",
    "        + geom_abline(intercept = 0, slope = 1,  linetype = \"dotted\", color = \"black\") \\\n",
    "        + scale_y_continuous(limits = (0, 1), breaks = seq(0, 1, .1), expand = (0, 0.01)) \\\n",
    "        + scale_x_continuous(limits = (0, 1), breaks = seq(0, 1, .1), expand = (0.01, 0)) \\\n",
    "        + theme_bw()\n",
    "    return(plot)\n",
    "\n",
    "def sigmoid_array(x):\n",
    "    return(1 / (1 + np.exp(-x)))\n",
    "\n",
    "def generate_fold_prediction(model, X, fold, param_index):\n",
    "    fold_coef = model.coefs_paths_[1][fold,param_index,:]\n",
    "    return(sigmoid_array(np.dot(X, np.transpose(fold_coef)[:-1]) +  np.transpose(fold_coef)[-1]))\n",
    "\n",
    "def create_loss_plot(all_coords, optimal_threshold, curr_exp_loss):\n",
    "    all_coords_copy = all_coords.copy()\n",
    "    all_coords_copy['loss'] = (all_coords_copy.false_pos*FP + all_coords_copy.false_neg*FN)/all_coords_copy.n\n",
    "    \n",
    "    t = optimal_threshold\n",
    "    l = curr_exp_loss\n",
    "    \n",
    "    plot = ggplot(all_coords_copy, aes(x = 'thresholds', y = 'loss')) + \\\n",
    "        geom_line(color=color[0], size=0.7) + \\\n",
    "        scale_x_continuous(breaks = seq(0, 1.1, by = 0.1)) + \\\n",
    "        coord_cartesian(xlim=(0,1))+ \\\n",
    "        geom_vline(xintercept = t , color = color[0] ) + \\\n",
    "        annotate(geom = \"text\", x = t - 0.01, y= max(all_coords_copy.loss) - 0.4,\n",
    "                 label=\"best threshold: \" + str(round(t,2)),\n",
    "                 colour=color[1], angle=90, size = 7) +\\\n",
    "        annotate(geom = \"text\", x = t + 0.06, y= l,\\\n",
    "                 label= str(round(l, 2)), size = 7) +\\\n",
    "        theme_bw()\n",
    "    return(plot)\n",
    "\n",
    "\n",
    "def create_roc_plot_with_optimal(all_coords, optimal_threshold):\n",
    "    all_coords_copy = all_coords.copy()\n",
    "    all_coords_copy['sp'] = all_coords_copy.true_neg/all_coords_copy.neg\n",
    "    all_coords_copy['se'] = all_coords_copy.true_pos/all_coords_copy.pos\n",
    "    \n",
    "    best_coords = all_coords_copy[all_coords_copy.thresholds == optimal_threshold]\n",
    "    sp = best_coords.sp.values[0]\n",
    "    se = best_coords.se.values[0]\n",
    "\n",
    "    plot = ggplot(all_coords_copy, aes(x = 'sp', y = 'se')) +\\\n",
    "        geom_line(color=color[0], size=0.7) +\\\n",
    "        scale_y_continuous(breaks = seq(0, 1.1, by = 0.1)) +\\\n",
    "        scale_x_reverse(breaks = seq(0, 1.1, by = 0.1)) +\\\n",
    "        geom_point(data = pd.DataFrame({'sp': [sp], 'se': [se]})) +\\\n",
    "        annotate(geom = \"text\", x = sp, y = se + 0.03,\n",
    "                 label = str(round(sp, 2)) + ', ' + str(round(se, 2)), size = 7) +\\\n",
    "        theme_bw()\n",
    "    return(plot)\n"
   ]
  },
  {
   "cell_type": "code",
   "execution_count": 77,
   "metadata": {},
   "outputs": [
    {
     "data": {
      "text/plain": [
       "year                          0\n",
       "comp_id                       0\n",
       "begin                         0\n",
       "end                           0\n",
       "amort                         0\n",
       "                             ..\n",
       "sales_mil_log_sq              0\n",
       "flag_low_d1_sales_mil_log     0\n",
       "flag_high_d1_sales_mil_log    0\n",
       "d1_sales_mil_log_mod          0\n",
       "d1_sales_mil_log_mod_sq       0\n",
       "Length: 115, dtype: int64"
      ]
     },
     "execution_count": 77,
     "metadata": {},
     "output_type": "execute_result"
    }
   ],
   "source": [
    "data.isna().sum()"
   ]
  },
  {
   "cell_type": "code",
   "execution_count": 76,
   "metadata": {},
   "outputs": [],
   "source": [
    "data = data.dropna() # itt majd inkább impute"
   ]
  },
  {
   "cell_type": "code",
   "execution_count": 78,
   "metadata": {},
   "outputs": [
    {
     "data": {
      "text/plain": [
       "(115237, 115)"
      ]
     },
     "execution_count": 78,
     "metadata": {},
     "output_type": "execute_result"
    }
   ],
   "source": [
    "data.shape"
   ]
  },
  {
   "cell_type": "markdown",
   "metadata": {},
   "source": [
    "## Define variable sets"
   ]
  },
  {
   "cell_type": "code",
   "execution_count": null,
   "metadata": {},
   "outputs": [],
   "source": []
  },
  {
   "cell_type": "code",
   "execution_count": null,
   "metadata": {},
   "outputs": [],
   "source": []
  },
  {
   "cell_type": "code",
   "execution_count": null,
   "metadata": {},
   "outputs": [],
   "source": []
  },
  {
   "cell_type": "code",
   "execution_count": null,
   "metadata": {},
   "outputs": [],
   "source": []
  },
  {
   "cell_type": "code",
   "execution_count": null,
   "metadata": {},
   "outputs": [],
   "source": []
  },
  {
   "cell_type": "code",
   "execution_count": null,
   "metadata": {},
   "outputs": [],
   "source": []
  },
  {
   "cell_type": "code",
   "execution_count": null,
   "metadata": {},
   "outputs": [],
   "source": []
  },
  {
   "cell_type": "code",
   "execution_count": null,
   "metadata": {},
   "outputs": [],
   "source": []
  },
  {
   "cell_type": "code",
   "execution_count": null,
   "metadata": {},
   "outputs": [],
   "source": []
  },
  {
   "cell_type": "code",
   "execution_count": null,
   "metadata": {},
   "outputs": [],
   "source": []
  },
  {
   "cell_type": "code",
   "execution_count": null,
   "metadata": {},
   "outputs": [],
   "source": []
  },
  {
   "cell_type": "code",
   "execution_count": null,
   "metadata": {},
   "outputs": [],
   "source": []
  },
  {
   "cell_type": "code",
   "execution_count": null,
   "metadata": {},
   "outputs": [],
   "source": []
  },
  {
   "cell_type": "code",
   "execution_count": null,
   "metadata": {},
   "outputs": [],
   "source": []
  },
  {
   "cell_type": "markdown",
   "metadata": {},
   "source": [
    "### Separate train and holdout data"
   ]
  },
  {
   "cell_type": "code",
   "execution_count": 73,
   "metadata": {},
   "outputs": [
    {
     "name": "stdout",
     "output_type": "stream",
     "text": [
      "Total firms in holdout set: 1037\n",
      "Number of defaulted firms: 56\n",
      "Number of firms that stayed alive: 981\n",
      "Average sales of the firms: 490202.21792682\n",
      "Minimum sales: 1070.370361328125\n",
      "Maximum sales: 9576485.0\n"
     ]
    }
   ],
   "source": [
    "# Creating the holdout set\n",
    "y_holdout = data.loc[(data['ind2'] == 26) & (data['year'] == 2014) & (data['sales'] >= 1000) & (data['sales'] <= 10000000)]\n",
    "\n",
    "# Display information about the resulting holdout set\n",
    "print(\"Total firms in holdout set:\", len(y_holdout))\n",
    "print(\"Number of defaulted firms:\", len(y_holdout[y_holdout['default'] == 1]))\n",
    "print(\"Number of firms that stayed alive:\", len(y_holdout[y_holdout['default'] == 0]))  # Since all firms meet the condition\n",
    "print(\"Average sales of the firms:\", y_holdout['sales'].mean())\n",
    "print(\"Minimum sales:\", y_holdout['sales'].min())\n",
    "print(\"Maximum sales:\", y_holdout['sales'].max())\n",
    "\n",
    "y_train = data.drop(y_holdout.index)"
   ]
  },
  {
   "cell_type": "code",
   "execution_count": 74,
   "metadata": {},
   "outputs": [
    {
     "name": "stdout",
     "output_type": "stream",
     "text": [
      "Total\n",
      "0    0.892477\n",
      "1    0.107523\n",
      "Name: default, dtype: float64\n",
      "Train\n",
      "0    0.892194\n",
      "1    0.107806\n",
      "Name: default, dtype: float64\n",
      "Holdout\n",
      "0    0.945998\n",
      "1    0.054002\n",
      "Name: default, dtype: float64\n"
     ]
    }
   ],
   "source": [
    "print('Total')\n",
    "print(data['default'].value_counts(normalize=True))\n",
    "print('Train')\n",
    "print(y_train['default'].value_counts(normalize=True))\n",
    "print('Holdout')\n",
    "print(y_holdout['default'].value_counts(normalize=True))"
   ]
  },
  {
   "cell_type": "code",
   "execution_count": null,
   "metadata": {},
   "outputs": [],
   "source": []
  }
 ],
 "metadata": {
  "kernelspec": {
   "display_name": "base",
   "language": "python",
   "name": "python3"
  },
  "language_info": {
   "codemirror_mode": {
    "name": "ipython",
    "version": 3
   },
   "file_extension": ".py",
   "mimetype": "text/x-python",
   "name": "python",
   "nbconvert_exporter": "python",
   "pygments_lexer": "ipython3",
   "version": "3.11.4"
  }
 },
 "nbformat": 4,
 "nbformat_minor": 2
}
